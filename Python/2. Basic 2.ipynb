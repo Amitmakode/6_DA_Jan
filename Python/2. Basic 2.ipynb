{
 "cells": [
  {
   "cell_type": "code",
   "execution_count": 2,
   "id": "5962edda",
   "metadata": {},
   "outputs": [
    {
     "name": "stdout",
     "output_type": "stream",
     "text": [
      "hello py 3.0\n"
     ]
    }
   ],
   "source": [
    "print(\"hello\", \"py\", 3.0)"
   ]
  },
  {
   "cell_type": "code",
   "execution_count": 3,
   "id": "9f5c0d44",
   "metadata": {},
   "outputs": [
    {
     "data": {
      "text/plain": [
       "6"
      ]
     },
     "execution_count": 3,
     "metadata": {},
     "output_type": "execute_result"
    }
   ],
   "source": [
    "len(\"python\")"
   ]
  },
  {
   "cell_type": "code",
   "execution_count": 7,
   "id": "79faf8db",
   "metadata": {},
   "outputs": [
    {
     "data": {
      "text/plain": [
       "bool"
      ]
     },
     "execution_count": 7,
     "metadata": {},
     "output_type": "execute_result"
    }
   ],
   "source": [
    "type(True)"
   ]
  },
  {
   "cell_type": "code",
   "execution_count": 11,
   "id": "29265ba6",
   "metadata": {},
   "outputs": [
    {
     "name": "stdout",
     "output_type": "stream",
     "text": [
      "enter a number 44\n"
     ]
    },
    {
     "data": {
      "text/plain": [
       "'44'"
      ]
     },
     "execution_count": 11,
     "metadata": {},
     "output_type": "execute_result"
    }
   ],
   "source": [
    "input(\"enter a number \")"
   ]
  },
  {
   "cell_type": "code",
   "execution_count": 16,
   "id": "72ea668a",
   "metadata": {},
   "outputs": [
    {
     "name": "stdout",
     "output_type": "stream",
     "text": [
      "enter a number 44\n"
     ]
    }
   ],
   "source": [
    "var = input(\"enter a number \")"
   ]
  },
  {
   "cell_type": "code",
   "execution_count": 18,
   "id": "e4aef04d",
   "metadata": {},
   "outputs": [
    {
     "data": {
      "text/plain": [
       "'44'"
      ]
     },
     "execution_count": 18,
     "metadata": {},
     "output_type": "execute_result"
    }
   ],
   "source": [
    "var"
   ]
  },
  {
   "cell_type": "code",
   "execution_count": 17,
   "id": "933cf307",
   "metadata": {},
   "outputs": [
    {
     "data": {
      "text/plain": [
       "str"
      ]
     },
     "execution_count": 17,
     "metadata": {},
     "output_type": "execute_result"
    }
   ],
   "source": [
    "type(var)"
   ]
  },
  {
   "cell_type": "code",
   "execution_count": 22,
   "id": "6dcb33e8",
   "metadata": {},
   "outputs": [
    {
     "name": "stdout",
     "output_type": "stream",
     "text": [
      "34\n"
     ]
    }
   ],
   "source": [
    "v2 = int(input())"
   ]
  },
  {
   "cell_type": "code",
   "execution_count": 23,
   "id": "42f927ec",
   "metadata": {},
   "outputs": [
    {
     "data": {
      "text/plain": [
       "int"
      ]
     },
     "execution_count": 23,
     "metadata": {},
     "output_type": "execute_result"
    }
   ],
   "source": [
    "type(v2)"
   ]
  },
  {
   "cell_type": "code",
   "execution_count": 24,
   "id": "d9628a03",
   "metadata": {},
   "outputs": [
    {
     "name": "stdout",
     "output_type": "stream",
     "text": [
      "9873498\n"
     ]
    }
   ],
   "source": [
    "v3 = float(input())"
   ]
  },
  {
   "cell_type": "code",
   "execution_count": 25,
   "id": "c1e445b6",
   "metadata": {},
   "outputs": [
    {
     "data": {
      "text/plain": [
       "float"
      ]
     },
     "execution_count": 25,
     "metadata": {},
     "output_type": "execute_result"
    }
   ],
   "source": [
    "type(v3)"
   ]
  },
  {
   "cell_type": "code",
   "execution_count": 68,
   "id": "8fa2f920",
   "metadata": {},
   "outputs": [
    {
     "ename": "NameError",
     "evalue": "name 'v3' is not defined",
     "output_type": "error",
     "traceback": [
      "\u001b[1;31m---------------------------------------------------------------------------\u001b[0m",
      "\u001b[1;31mNameError\u001b[0m                                 Traceback (most recent call last)",
      "Cell \u001b[1;32mIn[68], line 1\u001b[0m\n\u001b[1;32m----> 1\u001b[0m v3\n",
      "\u001b[1;31mNameError\u001b[0m: name 'v3' is not defined"
     ]
    }
   ],
   "source": [
    "v3"
   ]
  },
  {
   "cell_type": "code",
   "execution_count": 32,
   "id": "e8ce96ca",
   "metadata": {},
   "outputs": [
    {
     "name": "stdout",
     "output_type": "stream",
     "text": [
      "4\n"
     ]
    },
    {
     "data": {
      "text/plain": [
       "4"
      ]
     },
     "execution_count": 32,
     "metadata": {},
     "output_type": "execute_result"
    }
   ],
   "source": [
    "int(input())"
   ]
  },
  {
   "cell_type": "code",
   "execution_count": 37,
   "id": "2fc9db6a",
   "metadata": {},
   "outputs": [
    {
     "name": "stdout",
     "output_type": "stream",
     "text": [
      "4*4\n"
     ]
    },
    {
     "data": {
      "text/plain": [
       "16"
      ]
     },
     "execution_count": 37,
     "metadata": {},
     "output_type": "execute_result"
    }
   ],
   "source": [
    "eval(input())"
   ]
  },
  {
   "cell_type": "code",
   "execution_count": 39,
   "id": "1009b9a9",
   "metadata": {},
   "outputs": [
    {
     "data": {
      "text/plain": [
       "9873532.0"
      ]
     },
     "execution_count": 39,
     "metadata": {},
     "output_type": "execute_result"
    }
   ],
   "source": [
    "v3+v2"
   ]
  },
  {
   "cell_type": "code",
   "execution_count": 40,
   "id": "d32cfe93",
   "metadata": {},
   "outputs": [
    {
     "data": {
      "text/plain": [
       "1156"
      ]
     },
     "execution_count": 40,
     "metadata": {},
     "output_type": "execute_result"
    }
   ],
   "source": [
    "v2*v2"
   ]
  },
  {
   "cell_type": "code",
   "execution_count": 41,
   "id": "2f1920c8",
   "metadata": {},
   "outputs": [
    {
     "data": {
      "text/plain": [
       "290397.0"
      ]
     },
     "execution_count": 41,
     "metadata": {},
     "output_type": "execute_result"
    }
   ],
   "source": [
    "v3/v2"
   ]
  },
  {
   "cell_type": "code",
   "execution_count": 42,
   "id": "2581af17",
   "metadata": {},
   "outputs": [
    {
     "data": {
      "text/plain": [
       "17.125226564356417"
      ]
     },
     "execution_count": 42,
     "metadata": {},
     "output_type": "execute_result"
    }
   ],
   "source": [
    "v3/576547"
   ]
  },
  {
   "cell_type": "code",
   "execution_count": 43,
   "id": "0b3e6830",
   "metadata": {},
   "outputs": [],
   "source": [
    "v5 = 20"
   ]
  },
  {
   "cell_type": "code",
   "execution_count": 44,
   "id": "57f69e3a",
   "metadata": {},
   "outputs": [
    {
     "data": {
      "text/plain": [
       "4.0"
      ]
     },
     "execution_count": 44,
     "metadata": {},
     "output_type": "execute_result"
    }
   ],
   "source": [
    "v5/5"
   ]
  },
  {
   "cell_type": "code",
   "execution_count": 45,
   "id": "769235ba",
   "metadata": {},
   "outputs": [],
   "source": [
    "v6 = 200\n"
   ]
  },
  {
   "cell_type": "code",
   "execution_count": 46,
   "id": "71b8a78b",
   "metadata": {},
   "outputs": [
    {
     "data": {
      "text/plain": [
       "0.1"
      ]
     },
     "execution_count": 46,
     "metadata": {},
     "output_type": "execute_result"
    }
   ],
   "source": [
    "v5/v6"
   ]
  },
  {
   "cell_type": "code",
   "execution_count": 47,
   "id": "6dffc477",
   "metadata": {},
   "outputs": [
    {
     "data": {
      "text/plain": [
       "30.0"
      ]
     },
     "execution_count": 47,
     "metadata": {},
     "output_type": "execute_result"
    }
   ],
   "source": [
    "v6*3/v5"
   ]
  },
  {
   "cell_type": "code",
   "execution_count": 51,
   "id": "87440945",
   "metadata": {},
   "outputs": [
    {
     "data": {
      "text/plain": [
       "400"
      ]
     },
     "execution_count": 51,
     "metadata": {},
     "output_type": "execute_result"
    }
   ],
   "source": [
    "v5**2"
   ]
  },
  {
   "cell_type": "code",
   "execution_count": 54,
   "id": "a96bd9c5",
   "metadata": {},
   "outputs": [],
   "source": [
    "v7 =10\n",
    "v8 = 20"
   ]
  },
  {
   "cell_type": "code",
   "execution_count": 56,
   "id": "77639d2e",
   "metadata": {},
   "outputs": [
    {
     "data": {
      "text/plain": [
       "40000"
      ]
     },
     "execution_count": 56,
     "metadata": {},
     "output_type": "execute_result"
    }
   ],
   "source": [
    "(v7*v8)**2"
   ]
  },
  {
   "cell_type": "code",
   "execution_count": null,
   "id": "de74a46d",
   "metadata": {},
   "outputs": [],
   "source": [
    "BODMAS"
   ]
  },
  {
   "cell_type": "code",
   "execution_count": 62,
   "id": "4cf7b0e6",
   "metadata": {},
   "outputs": [
    {
     "data": {
      "text/plain": [
       "16"
      ]
     },
     "execution_count": 62,
     "metadata": {},
     "output_type": "execute_result"
    }
   ],
   "source": [
    "2+4*6-10"
   ]
  },
  {
   "cell_type": "code",
   "execution_count": 58,
   "id": "70e2167d",
   "metadata": {},
   "outputs": [
    {
     "data": {
      "text/plain": [
       "4.0"
      ]
     },
     "execution_count": 58,
     "metadata": {},
     "output_type": "execute_result"
    }
   ],
   "source": [
    "(4/2)**2"
   ]
  },
  {
   "cell_type": "code",
   "execution_count": 60,
   "id": "fe50f9e3",
   "metadata": {},
   "outputs": [
    {
     "data": {
      "text/plain": [
       "88"
      ]
     },
     "execution_count": 60,
     "metadata": {},
     "output_type": "execute_result"
    }
   ],
   "source": [
    "2+4*6*4-10"
   ]
  },
  {
   "cell_type": "code",
   "execution_count": 63,
   "id": "f0198931",
   "metadata": {},
   "outputs": [
    {
     "name": "stdout",
     "output_type": "stream",
     "text": [
      "5\n"
     ]
    },
    {
     "data": {
      "text/plain": [
       "'5'"
      ]
     },
     "execution_count": 63,
     "metadata": {},
     "output_type": "execute_result"
    }
   ],
   "source": [
    "input()"
   ]
  },
  {
   "cell_type": "code",
   "execution_count": 64,
   "id": "34511378",
   "metadata": {},
   "outputs": [
    {
     "name": "stdout",
     "output_type": "stream",
     "text": [
      "6\n"
     ]
    }
   ],
   "source": [
    "print(6)"
   ]
  },
  {
   "cell_type": "code",
   "execution_count": 65,
   "id": "99af21c0",
   "metadata": {},
   "outputs": [
    {
     "data": {
      "text/plain": [
       "9873498.0"
      ]
     },
     "execution_count": 65,
     "metadata": {},
     "output_type": "execute_result"
    }
   ],
   "source": [
    "v3"
   ]
  },
  {
   "cell_type": "code",
   "execution_count": 66,
   "id": "9a7e7ee9",
   "metadata": {},
   "outputs": [],
   "source": [
    "del(v3)"
   ]
  },
  {
   "cell_type": "code",
   "execution_count": 67,
   "id": "efa77946",
   "metadata": {},
   "outputs": [
    {
     "ename": "NameError",
     "evalue": "name 'v3' is not defined",
     "output_type": "error",
     "traceback": [
      "\u001b[1;31m---------------------------------------------------------------------------\u001b[0m",
      "\u001b[1;31mNameError\u001b[0m                                 Traceback (most recent call last)",
      "Cell \u001b[1;32mIn[67], line 1\u001b[0m\n\u001b[1;32m----> 1\u001b[0m v3\n",
      "\u001b[1;31mNameError\u001b[0m: name 'v3' is not defined"
     ]
    }
   ],
   "source": [
    "v3"
   ]
  },
  {
   "cell_type": "code",
   "execution_count": 71,
   "id": "ae5b97b2",
   "metadata": {},
   "outputs": [],
   "source": [
    "l=[3,6,3,8,2,1,1.1]"
   ]
  },
  {
   "cell_type": "code",
   "execution_count": 74,
   "id": "e96f5d5c",
   "metadata": {},
   "outputs": [
    {
     "data": {
      "text/plain": [
       "[8, 6, 3, 3, 2, 1.1, 1]"
      ]
     },
     "execution_count": 74,
     "metadata": {},
     "output_type": "execute_result"
    }
   ],
   "source": [
    "sorted(l, reverse=True)"
   ]
  },
  {
   "cell_type": "code",
   "execution_count": 76,
   "id": "afc2a19f",
   "metadata": {},
   "outputs": [
    {
     "data": {
      "text/plain": [
       "8"
      ]
     },
     "execution_count": 76,
     "metadata": {},
     "output_type": "execute_result"
    }
   ],
   "source": [
    "max(l)"
   ]
  },
  {
   "cell_type": "code",
   "execution_count": 77,
   "id": "a330485c",
   "metadata": {},
   "outputs": [
    {
     "data": {
      "text/plain": [
       "1"
      ]
     },
     "execution_count": 77,
     "metadata": {},
     "output_type": "execute_result"
    }
   ],
   "source": [
    "min(l)"
   ]
  },
  {
   "cell_type": "code",
   "execution_count": 85,
   "id": "518cbd10",
   "metadata": {},
   "outputs": [
    {
     "name": "stdout",
     "output_type": "stream",
     "text": [
      "i like \n",
      "python\tcode\n",
      "i like coding\n"
     ]
    }
   ],
   "source": [
    "print(\"i like \\npython\\tcode\")\n",
    "print(\"i like coding\")"
   ]
  },
  {
   "cell_type": "code",
   "execution_count": 87,
   "id": "d03fa28b",
   "metadata": {},
   "outputs": [
    {
     "name": "stdout",
     "output_type": "stream",
     "text": [
      "i like python code i like coding\n"
     ]
    }
   ],
   "source": [
    "print(\"i like python code\", end = \" \")\n",
    "print(\"i like coding\")"
   ]
  },
  {
   "cell_type": "code",
   "execution_count": 93,
   "id": "716da9ed",
   "metadata": {},
   "outputs": [
    {
     "name": "stdout",
     "output_type": "stream",
     "text": [
      "My age is 20 and i am looking 34 old\n"
     ]
    }
   ],
   "source": [
    "print(f\"My age is {v5} and i am looking {v2} old\")  # F-string"
   ]
  },
  {
   "cell_type": "code",
   "execution_count": 95,
   "id": "d4d86316",
   "metadata": {},
   "outputs": [
    {
     "name": "stdout",
     "output_type": "stream",
     "text": [
      "my age is 20 and i am looking 34 old\n"
     ]
    }
   ],
   "source": [
    "print(\"my age is\", v5, \"and i am looking\", v2, \"old\")"
   ]
  },
  {
   "cell_type": "code",
   "execution_count": null,
   "id": "4427e27a",
   "metadata": {},
   "outputs": [],
   "source": []
  }
 ],
 "metadata": {
  "kernelspec": {
   "display_name": "Python 3 (ipykernel)",
   "language": "python",
   "name": "python3"
  },
  "language_info": {
   "codemirror_mode": {
    "name": "ipython",
    "version": 3
   },
   "file_extension": ".py",
   "mimetype": "text/x-python",
   "name": "python",
   "nbconvert_exporter": "python",
   "pygments_lexer": "ipython3",
   "version": "3.11.5"
  }
 },
 "nbformat": 4,
 "nbformat_minor": 5
}
