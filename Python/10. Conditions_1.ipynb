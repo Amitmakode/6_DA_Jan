{
 "cells": [
  {
   "cell_type": "code",
   "execution_count": null,
   "id": "4faf6dbf",
   "metadata": {},
   "outputs": [],
   "source": [
    "if \n",
    "elif\n",
    "else"
   ]
  },
  {
   "cell_type": "code",
   "execution_count": null,
   "id": "a79be486",
   "metadata": {},
   "outputs": [],
   "source": [
    "if \n",
    "elif\n",
    "elif\n",
    "else"
   ]
  },
  {
   "cell_type": "code",
   "execution_count": null,
   "id": "7f20f785",
   "metadata": {},
   "outputs": [],
   "source": [
    "if \n",
    "elif"
   ]
  },
  {
   "cell_type": "code",
   "execution_count": null,
   "id": "916563f1",
   "metadata": {},
   "outputs": [],
   "source": [
    "if \n",
    "elif\n",
    "if\n",
    "elif\n",
    "else"
   ]
  },
  {
   "cell_type": "code",
   "execution_count": 1,
   "id": "96cd7243",
   "metadata": {},
   "outputs": [],
   "source": [
    "price= 100\n",
    "\n",
    "if price == 200:\n",
    "    print(\"price is not equal to 100\")"
   ]
  },
  {
   "cell_type": "code",
   "execution_count": 2,
   "id": "74a83d2b",
   "metadata": {},
   "outputs": [
    {
     "data": {
      "text/plain": [
       "100"
      ]
     },
     "execution_count": 2,
     "metadata": {},
     "output_type": "execute_result"
    }
   ],
   "source": [
    "price"
   ]
  },
  {
   "cell_type": "code",
   "execution_count": 3,
   "id": "c7b9101a",
   "metadata": {},
   "outputs": [
    {
     "name": "stdout",
     "output_type": "stream",
     "text": [
      "price is equal to 100\n"
     ]
    }
   ],
   "source": [
    "if price == 100:\n",
    "    print(\"price is equal to 100\")"
   ]
  },
  {
   "cell_type": "code",
   "execution_count": 4,
   "id": "87b86b5a",
   "metadata": {},
   "outputs": [
    {
     "name": "stdout",
     "output_type": "stream",
     "text": [
      "price is more than 100\n"
     ]
    }
   ],
   "source": [
    "if price == 200:\n",
    "    print(\"price is equal to 100\")\n",
    "else:\n",
    "    print(\"price is more than 100\")"
   ]
  },
  {
   "cell_type": "code",
   "execution_count": 7,
   "id": "e62779d8",
   "metadata": {},
   "outputs": [
    {
     "name": "stdout",
     "output_type": "stream",
     "text": [
      "enter a number900\n",
      "no i can't afford jacket\n"
     ]
    }
   ],
   "source": [
    "val = int(input(\"enter a number\"))\n",
    "\n",
    "if val > 1000:\n",
    "    print(\"you can buy a jacket\")\n",
    "elif val >= 1000:\n",
    "    print(\"ok i can buy a mid rang jacket\")\n",
    "else:\n",
    "    print(\"no i can't afford jacket\")"
   ]
  },
  {
   "cell_type": "code",
   "execution_count": 8,
   "id": "848e439b",
   "metadata": {},
   "outputs": [
    {
     "name": "stdout",
     "output_type": "stream",
     "text": [
      "you can try with another num\n"
     ]
    }
   ],
   "source": [
    "x = 89\n",
    "if x == 88:\n",
    "    print(\"it is correct\")\n",
    "elif x < 88:\n",
    "    print(\" \")\n",
    "else:\n",
    "    print(\"you can try with another num\")"
   ]
  },
  {
   "cell_type": "code",
   "execution_count": 9,
   "id": "37e91853",
   "metadata": {},
   "outputs": [
    {
     "data": {
      "text/plain": [
       "True"
      ]
     },
     "execution_count": 9,
     "metadata": {},
     "output_type": "execute_result"
    }
   ],
   "source": [
    "12 == 12  # returns true"
   ]
  },
  {
   "cell_type": "code",
   "execution_count": 10,
   "id": "c48aae27",
   "metadata": {},
   "outputs": [
    {
     "data": {
      "text/plain": [
       "False"
      ]
     },
     "execution_count": 10,
     "metadata": {},
     "output_type": "execute_result"
    }
   ],
   "source": [
    "12 == 13"
   ]
  },
  {
   "cell_type": "code",
   "execution_count": 11,
   "id": "e188c423",
   "metadata": {},
   "outputs": [
    {
     "data": {
      "text/plain": [
       "False"
      ]
     },
     "execution_count": 11,
     "metadata": {},
     "output_type": "execute_result"
    }
   ],
   "source": [
    "12 != 12"
   ]
  },
  {
   "cell_type": "code",
   "execution_count": 14,
   "id": "2304261c",
   "metadata": {},
   "outputs": [
    {
     "data": {
      "text/plain": [
       "False"
      ]
     },
     "execution_count": 14,
     "metadata": {},
     "output_type": "execute_result"
    }
   ],
   "source": [
    "12 > 12"
   ]
  },
  {
   "cell_type": "code",
   "execution_count": 15,
   "id": "1ea6d732",
   "metadata": {},
   "outputs": [],
   "source": [
    "x = 5\n",
    "y = 6 \n",
    "\n",
    "x = y  # this is assignment operator not conditional operator"
   ]
  },
  {
   "cell_type": "code",
   "execution_count": 16,
   "id": "73e99034",
   "metadata": {},
   "outputs": [
    {
     "data": {
      "text/plain": [
       "6"
      ]
     },
     "execution_count": 16,
     "metadata": {},
     "output_type": "execute_result"
    }
   ],
   "source": [
    "x"
   ]
  },
  {
   "cell_type": "code",
   "execution_count": 17,
   "id": "22c268a7",
   "metadata": {},
   "outputs": [
    {
     "data": {
      "text/plain": [
       "6"
      ]
     },
     "execution_count": 17,
     "metadata": {},
     "output_type": "execute_result"
    }
   ],
   "source": [
    "y"
   ]
  },
  {
   "cell_type": "code",
   "execution_count": 18,
   "id": "4262390e",
   "metadata": {},
   "outputs": [],
   "source": [
    "x = 5\n",
    "y = 6 "
   ]
  },
  {
   "cell_type": "code",
   "execution_count": 19,
   "id": "f5bc936c",
   "metadata": {},
   "outputs": [],
   "source": [
    "y = x"
   ]
  },
  {
   "cell_type": "code",
   "execution_count": 20,
   "id": "fce6f93f",
   "metadata": {},
   "outputs": [
    {
     "data": {
      "text/plain": [
       "5"
      ]
     },
     "execution_count": 20,
     "metadata": {},
     "output_type": "execute_result"
    }
   ],
   "source": [
    "y"
   ]
  },
  {
   "cell_type": "code",
   "execution_count": 21,
   "id": "3a860de2",
   "metadata": {},
   "outputs": [
    {
     "data": {
      "text/plain": [
       "True"
      ]
     },
     "execution_count": 21,
     "metadata": {},
     "output_type": "execute_result"
    }
   ],
   "source": [
    "x is y # x is same as y "
   ]
  },
  {
   "cell_type": "code",
   "execution_count": 22,
   "id": "29372e03",
   "metadata": {},
   "outputs": [
    {
     "name": "stderr",
     "output_type": "stream",
     "text": [
      "<>:1: SyntaxWarning: \"is\" with a literal. Did you mean \"==\"?\n",
      "<>:1: SyntaxWarning: \"is\" with a literal. Did you mean \"==\"?\n",
      "C:\\Users\\amitm\\AppData\\Local\\Temp\\ipykernel_14940\\1783323536.py:1: SyntaxWarning: \"is\" with a literal. Did you mean \"==\"?\n",
      "  5 is 5\n"
     ]
    },
    {
     "data": {
      "text/plain": [
       "True"
      ]
     },
     "execution_count": 22,
     "metadata": {},
     "output_type": "execute_result"
    }
   ],
   "source": [
    "5 is 5"
   ]
  },
  {
   "cell_type": "code",
   "execution_count": 26,
   "id": "7cb8dd62",
   "metadata": {},
   "outputs": [],
   "source": [
    "x = 5\n",
    "y = 6 "
   ]
  },
  {
   "cell_type": "code",
   "execution_count": 24,
   "id": "18db8510",
   "metadata": {},
   "outputs": [
    {
     "data": {
      "text/plain": [
       "False"
      ]
     },
     "execution_count": 24,
     "metadata": {},
     "output_type": "execute_result"
    }
   ],
   "source": [
    "y is x"
   ]
  },
  {
   "cell_type": "code",
   "execution_count": 25,
   "id": "4bd2251f",
   "metadata": {},
   "outputs": [
    {
     "data": {
      "text/plain": [
       "True"
      ]
     },
     "execution_count": 25,
     "metadata": {},
     "output_type": "execute_result"
    }
   ],
   "source": [
    "x is not y # x is not same as y"
   ]
  },
  {
   "cell_type": "code",
   "execution_count": 27,
   "id": "7a4adae5",
   "metadata": {},
   "outputs": [
    {
     "data": {
      "text/plain": [
       "True"
      ]
     },
     "execution_count": 27,
     "metadata": {},
     "output_type": "execute_result"
    }
   ],
   "source": [
    "x > 4 and y > 5   # two conditions concatenanted , if both are true then only true will be returned"
   ]
  },
  {
   "cell_type": "code",
   "execution_count": 28,
   "id": "9eec12da",
   "metadata": {},
   "outputs": [
    {
     "data": {
      "text/plain": [
       "False"
      ]
     },
     "execution_count": 28,
     "metadata": {},
     "output_type": "execute_result"
    }
   ],
   "source": [
    "x < 4 and y < 5"
   ]
  },
  {
   "cell_type": "code",
   "execution_count": 29,
   "id": "08a4bc77",
   "metadata": {},
   "outputs": [
    {
     "data": {
      "text/plain": [
       "False"
      ]
     },
     "execution_count": 29,
     "metadata": {},
     "output_type": "execute_result"
    }
   ],
   "source": [
    "x > 4 and y < 5"
   ]
  },
  {
   "cell_type": "code",
   "execution_count": null,
   "id": "0cf87e17",
   "metadata": {},
   "outputs": [],
   "source": [
    "T and T = T\n",
    "T and F = F\n",
    "F and T = F\n",
    "F and F = F"
   ]
  },
  {
   "cell_type": "code",
   "execution_count": null,
   "id": "5a0ad92a",
   "metadata": {},
   "outputs": [],
   "source": [
    "T or T = T\n",
    "T or F = T\n",
    "F or T = T\n",
    "F or F = F"
   ]
  },
  {
   "cell_type": "code",
   "execution_count": 30,
   "id": "b42e6e73",
   "metadata": {},
   "outputs": [
    {
     "data": {
      "text/plain": [
       "False"
      ]
     },
     "execution_count": 30,
     "metadata": {},
     "output_type": "execute_result"
    }
   ],
   "source": [
    "not(x < y ) "
   ]
  },
  {
   "cell_type": "code",
   "execution_count": 31,
   "id": "a377810a",
   "metadata": {},
   "outputs": [
    {
     "data": {
      "text/plain": [
       "True"
      ]
     },
     "execution_count": 31,
     "metadata": {},
     "output_type": "execute_result"
    }
   ],
   "source": [
    "x > 4 or y < 5"
   ]
  },
  {
   "cell_type": "code",
   "execution_count": 33,
   "id": "1cfe325f",
   "metadata": {},
   "outputs": [
    {
     "name": "stdout",
     "output_type": "stream",
     "text": [
      "Enter the number\n",
      "5\n"
     ]
    }
   ],
   "source": [
    "number = int(input(\"Enter the number\\n\"))\n",
    "\n",
    "if number % 2 == 0 :                 # if entered number is even then only message is shown to the user\n",
    "    print(number ,\" is even number\") "
   ]
  },
  {
   "cell_type": "code",
   "execution_count": 34,
   "id": "22b863c3",
   "metadata": {},
   "outputs": [
    {
     "name": "stdout",
     "output_type": "stream",
     "text": [
      "Enter the number\n",
      "6\n",
      "You have entered  6\n",
      "6  is even number\n"
     ]
    }
   ],
   "source": [
    "number = int(input(\"Enter the number\\n\"))\n",
    "\n",
    "if number % 2 == 0 :                  # if block can consists of more than one statements, here two print statements are printed if condiotn is true\n",
    "    print(\"You have entered \", number)\n",
    "    print(number ,\" is even number\")  "
   ]
  },
  {
   "cell_type": "code",
   "execution_count": 37,
   "id": "0acbc11f",
   "metadata": {},
   "outputs": [
    {
     "name": "stdout",
     "output_type": "stream",
     "text": [
      "Enter the number\n",
      "4\n",
      "You have entered  4\n",
      "4  is even number\n",
      "I am always printed!\n"
     ]
    }
   ],
   "source": [
    "number = int(input(\"Enter the number\\n\"))\n",
    "\n",
    "if number % 2 == 0 :   # if block can consists of more than one statements, here two print statements are printed if condiotn is true\n",
    "    print(\"You have entered \", number)\n",
    "    print(number ,\" is even number\")\n",
    "    \n",
    "print(\"I am always printed!\")  "
   ]
  },
  {
   "cell_type": "code",
   "execution_count": 38,
   "id": "ddd9c66d",
   "metadata": {},
   "outputs": [
    {
     "name": "stdout",
     "output_type": "stream",
     "text": [
      "Enter the number\n",
      "67\n",
      "67  is odd number\n"
     ]
    }
   ],
   "source": [
    "number = int(input(\"Enter the number\\n\"))\n",
    "\n",
    "if number % 2 == 0 :   # if entered number is even then only message is shown to the user\n",
    "    print(number ,\" is even number\") \n",
    "else :\n",
    "    print(number ,\" is odd number\") "
   ]
  },
  {
   "cell_type": "code",
   "execution_count": 40,
   "id": "79d1eb7a",
   "metadata": {},
   "outputs": [
    {
     "name": "stdout",
     "output_type": "stream",
     "text": [
      "Enter the number\n",
      "2\n",
      "2  is even number\n"
     ]
    }
   ],
   "source": [
    "number = int(input(\"Enter the number\\n\"))\n",
    "\n",
    "if number % 2 == 0 and number == 2:   # if entered number is even then only message is shown to the user\n",
    "    print(number ,\" is even number\") \n",
    "else :\n",
    "    print(number ,\" is odd number\")"
   ]
  },
  {
   "cell_type": "code",
   "execution_count": 42,
   "id": "88c65524",
   "metadata": {},
   "outputs": [
    {
     "name": "stdout",
     "output_type": "stream",
     "text": [
      "Enter the number\n",
      "55\n",
      "55  is odd number\n"
     ]
    }
   ],
   "source": [
    "number = int(input(\"Enter the number\\n\"))\n",
    "\n",
    "if number % 2 == 0 or number == 2:   # if entered number is even then only message is shown to the user\n",
    "    print(number ,\" is even number\") \n",
    "else :\n",
    "    print(number ,\" is odd number\")"
   ]
  },
  {
   "cell_type": "code",
   "execution_count": 43,
   "id": "d8ba7540",
   "metadata": {},
   "outputs": [
    {
     "name": "stdout",
     "output_type": "stream",
     "text": [
      "Enter the number\n",
      "6\n",
      "6  is even number\n"
     ]
    }
   ],
   "source": [
    "number = int(input(\"Enter the number\\n\"))\n",
    "\n",
    "if number % 2 == 0 or number == 2 or number == 4 and number == 6:   \n",
    "    print(number ,\" is even number\") \n",
    "else :\n",
    "    print(number ,\" is odd number\")"
   ]
  },
  {
   "cell_type": "code",
   "execution_count": null,
   "id": "0b27b0eb",
   "metadata": {},
   "outputs": [],
   "source": []
  }
 ],
 "metadata": {
  "kernelspec": {
   "display_name": "Python 3 (ipykernel)",
   "language": "python",
   "name": "python3"
  },
  "language_info": {
   "codemirror_mode": {
    "name": "ipython",
    "version": 3
   },
   "file_extension": ".py",
   "mimetype": "text/x-python",
   "name": "python",
   "nbconvert_exporter": "python",
   "pygments_lexer": "ipython3",
   "version": "3.11.5"
  }
 },
 "nbformat": 4,
 "nbformat_minor": 5
}
