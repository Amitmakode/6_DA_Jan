{
 "cells": [
  {
   "cell_type": "code",
   "execution_count": 1,
   "id": "7861a01b",
   "metadata": {},
   "outputs": [],
   "source": [
    "my_string = \"this is string\"  # string is not mutable it is immutable "
   ]
  },
  {
   "cell_type": "code",
   "execution_count": 2,
   "id": "bd199492",
   "metadata": {},
   "outputs": [
    {
     "ename": "TypeError",
     "evalue": "'str' object does not support item assignment",
     "output_type": "error",
     "traceback": [
      "\u001b[1;31m---------------------------------------------------------------------------\u001b[0m",
      "\u001b[1;31mTypeError\u001b[0m                                 Traceback (most recent call last)",
      "Cell \u001b[1;32mIn[2], line 1\u001b[0m\n\u001b[1;32m----> 1\u001b[0m my_string[\u001b[38;5;241m0\u001b[39m] \u001b[38;5;241m=\u001b[39m \u001b[38;5;124m\"\u001b[39m\u001b[38;5;124mp\u001b[39m\u001b[38;5;124m\"\u001b[39m\n",
      "\u001b[1;31mTypeError\u001b[0m: 'str' object does not support item assignment"
     ]
    }
   ],
   "source": [
    "my_string[0] = \"p\""
   ]
  },
  {
   "cell_type": "code",
   "execution_count": 5,
   "id": "14feecdf",
   "metadata": {},
   "outputs": [
    {
     "data": {
      "text/plain": [
       "True"
      ]
     },
     "execution_count": 5,
     "metadata": {},
     "output_type": "execute_result"
    }
   ],
   "source": [
    "\"t\" in my_string"
   ]
  },
  {
   "cell_type": "code",
   "execution_count": 10,
   "id": "7d138d84",
   "metadata": {},
   "outputs": [],
   "source": [
    "var_1 = \"name\""
   ]
  },
  {
   "cell_type": "code",
   "execution_count": 7,
   "id": "15e8c294",
   "metadata": {},
   "outputs": [
    {
     "data": {
      "text/plain": [
       "'name'"
      ]
     },
     "execution_count": 7,
     "metadata": {},
     "output_type": "execute_result"
    }
   ],
   "source": [
    "var"
   ]
  },
  {
   "cell_type": "code",
   "execution_count": 12,
   "id": "933827a7",
   "metadata": {},
   "outputs": [
    {
     "data": {
      "text/plain": [
       "True"
      ]
     },
     "execution_count": 12,
     "metadata": {},
     "output_type": "execute_result"
    }
   ],
   "source": [
    "\"T\" not in my_string"
   ]
  },
  {
   "cell_type": "code",
   "execution_count": 13,
   "id": "55b6125e",
   "metadata": {},
   "outputs": [],
   "source": [
    "my_string1 = \"python is beautiful!\""
   ]
  },
  {
   "cell_type": "code",
   "execution_count": 17,
   "id": "2fb1e743",
   "metadata": {},
   "outputs": [
    {
     "name": "stdout",
     "output_type": "stream",
     "text": [
      "p y t h o n   i s   b e a u t i f u l ! "
     ]
    }
   ],
   "source": [
    "for i in my_string1:\n",
    "    print(i, end = \" \")"
   ]
  },
  {
   "cell_type": "markdown",
   "id": "90285a18",
   "metadata": {},
   "source": [
    "my_string"
   ]
  },
  {
   "cell_type": "code",
   "execution_count": 11,
   "id": "72aaa394",
   "metadata": {},
   "outputs": [
    {
     "data": {
      "text/plain": [
       "'this is string'"
      ]
     },
     "execution_count": 11,
     "metadata": {},
     "output_type": "execute_result"
    }
   ],
   "source": [
    "my_string"
   ]
  },
  {
   "cell_type": "code",
   "execution_count": 12,
   "id": "0c2a0348",
   "metadata": {},
   "outputs": [
    {
     "data": {
      "text/plain": [
       "['__add__',\n",
       " '__class__',\n",
       " '__contains__',\n",
       " '__delattr__',\n",
       " '__dir__',\n",
       " '__doc__',\n",
       " '__eq__',\n",
       " '__format__',\n",
       " '__ge__',\n",
       " '__getattribute__',\n",
       " '__getitem__',\n",
       " '__getnewargs__',\n",
       " '__getstate__',\n",
       " '__gt__',\n",
       " '__hash__',\n",
       " '__init__',\n",
       " '__init_subclass__',\n",
       " '__iter__',\n",
       " '__le__',\n",
       " '__len__',\n",
       " '__lt__',\n",
       " '__mod__',\n",
       " '__mul__',\n",
       " '__ne__',\n",
       " '__new__',\n",
       " '__reduce__',\n",
       " '__reduce_ex__',\n",
       " '__repr__',\n",
       " '__rmod__',\n",
       " '__rmul__',\n",
       " '__setattr__',\n",
       " '__sizeof__',\n",
       " '__str__',\n",
       " '__subclasshook__',\n",
       " 'capitalize',\n",
       " 'casefold',\n",
       " 'center',\n",
       " 'count',\n",
       " 'encode',\n",
       " 'endswith',\n",
       " 'expandtabs',\n",
       " 'find',\n",
       " 'format',\n",
       " 'format_map',\n",
       " 'index',\n",
       " 'isalnum',\n",
       " 'isalpha',\n",
       " 'isascii',\n",
       " 'isdecimal',\n",
       " 'isdigit',\n",
       " 'isidentifier',\n",
       " 'islower',\n",
       " 'isnumeric',\n",
       " 'isprintable',\n",
       " 'isspace',\n",
       " 'istitle',\n",
       " 'isupper',\n",
       " 'join',\n",
       " 'ljust',\n",
       " 'lower',\n",
       " 'lstrip',\n",
       " 'maketrans',\n",
       " 'partition',\n",
       " 'removeprefix',\n",
       " 'removesuffix',\n",
       " 'replace',\n",
       " 'rfind',\n",
       " 'rindex',\n",
       " 'rjust',\n",
       " 'rpartition',\n",
       " 'rsplit',\n",
       " 'rstrip',\n",
       " 'split',\n",
       " 'splitlines',\n",
       " 'startswith',\n",
       " 'strip',\n",
       " 'swapcase',\n",
       " 'title',\n",
       " 'translate',\n",
       " 'upper',\n",
       " 'zfill']"
      ]
     },
     "execution_count": 12,
     "metadata": {},
     "output_type": "execute_result"
    }
   ],
   "source": [
    "dir(str)"
   ]
  },
  {
   "cell_type": "code",
   "execution_count": 14,
   "id": "721ec332",
   "metadata": {},
   "outputs": [
    {
     "data": {
      "text/plain": [
       "'this is string'"
      ]
     },
     "execution_count": 14,
     "metadata": {},
     "output_type": "execute_result"
    }
   ],
   "source": [
    "my_string"
   ]
  },
  {
   "cell_type": "code",
   "execution_count": 15,
   "id": "5f6ca2bd",
   "metadata": {},
   "outputs": [
    {
     "data": {
      "text/plain": [
       "'THIS IS STRING'"
      ]
     },
     "execution_count": 15,
     "metadata": {},
     "output_type": "execute_result"
    }
   ],
   "source": [
    "my_string.upper()"
   ]
  },
  {
   "cell_type": "code",
   "execution_count": 16,
   "id": "fe6bf6e9",
   "metadata": {},
   "outputs": [
    {
     "data": {
      "text/plain": [
       "'This is string'"
      ]
     },
     "execution_count": 16,
     "metadata": {},
     "output_type": "execute_result"
    }
   ],
   "source": [
    "my_string.capitalize()"
   ]
  },
  {
   "cell_type": "code",
   "execution_count": 17,
   "id": "6846ecc4",
   "metadata": {},
   "outputs": [
    {
     "data": {
      "text/plain": [
       "'this is string'"
      ]
     },
     "execution_count": 17,
     "metadata": {},
     "output_type": "execute_result"
    }
   ],
   "source": [
    "my_string.lower()"
   ]
  },
  {
   "cell_type": "code",
   "execution_count": 19,
   "id": "6f4065a1",
   "metadata": {},
   "outputs": [
    {
     "data": {
      "text/plain": [
       "'   this is string   '"
      ]
     },
     "execution_count": 19,
     "metadata": {},
     "output_type": "execute_result"
    }
   ],
   "source": [
    "my_string.center(20)"
   ]
  },
  {
   "cell_type": "code",
   "execution_count": 25,
   "id": "77785b26",
   "metadata": {},
   "outputs": [
    {
     "data": {
      "text/plain": [
       "'    this is string   '"
      ]
     },
     "execution_count": 25,
     "metadata": {},
     "output_type": "execute_result"
    }
   ],
   "source": [
    "my_string.center(21)"
   ]
  },
  {
   "cell_type": "code",
   "execution_count": 24,
   "id": "10709e5a",
   "metadata": {},
   "outputs": [
    {
     "data": {
      "text/plain": [
       "14"
      ]
     },
     "execution_count": 24,
     "metadata": {},
     "output_type": "execute_result"
    }
   ],
   "source": [
    "len(my_string)"
   ]
  },
  {
   "cell_type": "code",
   "execution_count": 26,
   "id": "fffab0e8",
   "metadata": {},
   "outputs": [
    {
     "data": {
      "text/plain": [
       "False"
      ]
     },
     "execution_count": 26,
     "metadata": {},
     "output_type": "execute_result"
    }
   ],
   "source": [
    "my_string.endswith(\"t\")"
   ]
  },
  {
   "cell_type": "code",
   "execution_count": 27,
   "id": "70ad672c",
   "metadata": {},
   "outputs": [
    {
     "data": {
      "text/plain": [
       "True"
      ]
     },
     "execution_count": 27,
     "metadata": {},
     "output_type": "execute_result"
    }
   ],
   "source": [
    "my_string.startswith(\"t\")"
   ]
  },
  {
   "cell_type": "code",
   "execution_count": 29,
   "id": "58f6c030",
   "metadata": {},
   "outputs": [
    {
     "data": {
      "text/plain": [
       "3"
      ]
     },
     "execution_count": 29,
     "metadata": {},
     "output_type": "execute_result"
    }
   ],
   "source": [
    "my_string.find(\"s\")"
   ]
  },
  {
   "cell_type": "code",
   "execution_count": 30,
   "id": "1741ed35",
   "metadata": {},
   "outputs": [
    {
     "data": {
      "text/plain": [
       "2"
      ]
     },
     "execution_count": 30,
     "metadata": {},
     "output_type": "execute_result"
    }
   ],
   "source": [
    "my_string.index(\"i\")"
   ]
  },
  {
   "cell_type": "code",
   "execution_count": 31,
   "id": "949dc00b",
   "metadata": {},
   "outputs": [
    {
     "data": {
      "text/plain": [
       "False"
      ]
     },
     "execution_count": 31,
     "metadata": {},
     "output_type": "execute_result"
    }
   ],
   "source": [
    "my_string.isalnum()"
   ]
  },
  {
   "cell_type": "code",
   "execution_count": 32,
   "id": "67de4d09",
   "metadata": {},
   "outputs": [
    {
     "data": {
      "text/plain": [
       "False"
      ]
     },
     "execution_count": 32,
     "metadata": {},
     "output_type": "execute_result"
    }
   ],
   "source": [
    "my_string.isalpha()"
   ]
  },
  {
   "cell_type": "code",
   "execution_count": 33,
   "id": "36e009a4",
   "metadata": {},
   "outputs": [
    {
     "data": {
      "text/plain": [
       "False"
      ]
     },
     "execution_count": 33,
     "metadata": {},
     "output_type": "execute_result"
    }
   ],
   "source": [
    "my_string.isdigit()"
   ]
  },
  {
   "cell_type": "code",
   "execution_count": 34,
   "id": "ed51581f",
   "metadata": {},
   "outputs": [
    {
     "data": {
      "text/plain": [
       "False"
      ]
     },
     "execution_count": 34,
     "metadata": {},
     "output_type": "execute_result"
    }
   ],
   "source": [
    "my_string.isspace()"
   ]
  },
  {
   "cell_type": "code",
   "execution_count": 35,
   "id": "aa79775e",
   "metadata": {},
   "outputs": [
    {
     "data": {
      "text/plain": [
       "True"
      ]
     },
     "execution_count": 35,
     "metadata": {},
     "output_type": "execute_result"
    }
   ],
   "source": [
    "my_string.islower()"
   ]
  },
  {
   "cell_type": "code",
   "execution_count": 37,
   "id": "962f58e9",
   "metadata": {},
   "outputs": [],
   "source": [
    "var12 = \"        this is my string operation         \""
   ]
  },
  {
   "cell_type": "code",
   "execution_count": 38,
   "id": "6fa318e4",
   "metadata": {},
   "outputs": [
    {
     "data": {
      "text/plain": [
       "'        this is my string operation         '"
      ]
     },
     "execution_count": 38,
     "metadata": {},
     "output_type": "execute_result"
    }
   ],
   "source": [
    "var12"
   ]
  },
  {
   "cell_type": "code",
   "execution_count": 39,
   "id": "6f6634a6",
   "metadata": {},
   "outputs": [
    {
     "data": {
      "text/plain": [
       "'this is my string operation         '"
      ]
     },
     "execution_count": 39,
     "metadata": {},
     "output_type": "execute_result"
    }
   ],
   "source": [
    "var12.lstrip()"
   ]
  },
  {
   "cell_type": "code",
   "execution_count": 40,
   "id": "453a760a",
   "metadata": {},
   "outputs": [
    {
     "data": {
      "text/plain": [
       "'        this is my string operation'"
      ]
     },
     "execution_count": 40,
     "metadata": {},
     "output_type": "execute_result"
    }
   ],
   "source": [
    "var12.rstrip()"
   ]
  },
  {
   "cell_type": "code",
   "execution_count": 41,
   "id": "8f3e6622",
   "metadata": {},
   "outputs": [
    {
     "data": {
      "text/plain": [
       "'this is my string operation'"
      ]
     },
     "execution_count": 41,
     "metadata": {},
     "output_type": "execute_result"
    }
   ],
   "source": [
    "var12.strip()"
   ]
  },
  {
   "cell_type": "code",
   "execution_count": 59,
   "id": "5ca77530",
   "metadata": {},
   "outputs": [],
   "source": [
    "var13 = \"this is my string operation ##$$$\""
   ]
  },
  {
   "cell_type": "code",
   "execution_count": 50,
   "id": "b09f0c79",
   "metadata": {},
   "outputs": [
    {
     "data": {
      "text/plain": [
       "'this is my string operation '"
      ]
     },
     "execution_count": 50,
     "metadata": {},
     "output_type": "execute_result"
    }
   ],
   "source": [
    "var13.rstrip(\"#$\")"
   ]
  },
  {
   "cell_type": "code",
   "execution_count": 57,
   "id": "d4798886",
   "metadata": {},
   "outputs": [
    {
     "data": {
      "text/plain": [
       "'this is my string operation ##ppp'"
      ]
     },
     "execution_count": 57,
     "metadata": {},
     "output_type": "execute_result"
    }
   ],
   "source": [
    "var13.replace(\"$\", \"p\")"
   ]
  },
  {
   "cell_type": "code",
   "execution_count": 65,
   "id": "8cf3a2cf",
   "metadata": {},
   "outputs": [],
   "source": [
    "var14 = \"$$lanpython3.0\""
   ]
  },
  {
   "cell_type": "code",
   "execution_count": 66,
   "id": "7e5bb0c0",
   "metadata": {},
   "outputs": [
    {
     "data": {
      "text/plain": [
       "'$lanpython3.0'"
      ]
     },
     "execution_count": 66,
     "metadata": {},
     "output_type": "execute_result"
    }
   ],
   "source": [
    "var14.removeprefix(\"$\")"
   ]
  },
  {
   "cell_type": "code",
   "execution_count": 68,
   "id": "48a9c965",
   "metadata": {},
   "outputs": [
    {
     "data": {
      "text/plain": [
       "'$$lanpython'"
      ]
     },
     "execution_count": 68,
     "metadata": {},
     "output_type": "execute_result"
    }
   ],
   "source": [
    "var14.removesuffix(\"3.0\")"
   ]
  },
  {
   "cell_type": "code",
   "execution_count": 71,
   "id": "e2478399",
   "metadata": {},
   "outputs": [
    {
     "data": {
      "text/plain": [
       "'this is string'"
      ]
     },
     "execution_count": 71,
     "metadata": {},
     "output_type": "execute_result"
    }
   ],
   "source": [
    "my_string"
   ]
  },
  {
   "cell_type": "code",
   "execution_count": 74,
   "id": "4a9a3503",
   "metadata": {},
   "outputs": [
    {
     "data": {
      "text/plain": [
       "['this', 'is', 'string']"
      ]
     },
     "execution_count": 74,
     "metadata": {},
     "output_type": "execute_result"
    }
   ],
   "source": [
    "my_string.split()"
   ]
  },
  {
   "cell_type": "code",
   "execution_count": 78,
   "id": "58c178be",
   "metadata": {},
   "outputs": [
    {
     "data": {
      "text/plain": [
       "('thi', 's', ' is string')"
      ]
     },
     "execution_count": 78,
     "metadata": {},
     "output_type": "execute_result"
    }
   ],
   "source": [
    "my_string.partition(\"s\")"
   ]
  },
  {
   "cell_type": "code",
   "execution_count": 79,
   "id": "477c2882",
   "metadata": {},
   "outputs": [],
   "source": [
    "var15 = \"This Is My String\""
   ]
  },
  {
   "cell_type": "code",
   "execution_count": 80,
   "id": "6e90d35b",
   "metadata": {},
   "outputs": [
    {
     "data": {
      "text/plain": [
       "'tHIS iS mY sTRING'"
      ]
     },
     "execution_count": 80,
     "metadata": {},
     "output_type": "execute_result"
    }
   ],
   "source": [
    "var15.swapcase()"
   ]
  },
  {
   "cell_type": "code",
   "execution_count": 81,
   "id": "722727e6",
   "metadata": {},
   "outputs": [
    {
     "data": {
      "text/plain": [
       "'h$$lanpython3.0e$$lanpython3.0l$$lanpython3.0l$$lanpython3.0o'"
      ]
     },
     "execution_count": 81,
     "metadata": {},
     "output_type": "execute_result"
    }
   ],
   "source": [
    "var14.join(\"hello\")"
   ]
  },
  {
   "cell_type": "code",
   "execution_count": 88,
   "id": "94f2081c",
   "metadata": {},
   "outputs": [],
   "source": [
    "var16 = \"abc\""
   ]
  },
  {
   "cell_type": "code",
   "execution_count": 90,
   "id": "3840cd97",
   "metadata": {},
   "outputs": [
    {
     "data": {
      "text/plain": [
       "'@abc#abc$abc*'"
      ]
     },
     "execution_count": 90,
     "metadata": {},
     "output_type": "execute_result"
    }
   ],
   "source": [
    "var16.join(\"@#$*\")"
   ]
  },
  {
   "cell_type": "code",
   "execution_count": 92,
   "id": "31ef8415",
   "metadata": {},
   "outputs": [
    {
     "data": {
      "text/plain": [
       "'ab'"
      ]
     },
     "execution_count": 92,
     "metadata": {},
     "output_type": "execute_result"
    }
   ],
   "source": [
    "\"\".join([\"a\", \"b\"])"
   ]
  },
  {
   "cell_type": "code",
   "execution_count": 94,
   "id": "12656bf6",
   "metadata": {},
   "outputs": [],
   "source": [
    "vr =[\"a\",\"b\", \"c\", \"d\", \"e\"]"
   ]
  },
  {
   "cell_type": "code",
   "execution_count": 95,
   "id": "b5faa15d",
   "metadata": {},
   "outputs": [
    {
     "data": {
      "text/plain": [
       "'abcde'"
      ]
     },
     "execution_count": 95,
     "metadata": {},
     "output_type": "execute_result"
    }
   ],
   "source": [
    "\"\".join(vr)"
   ]
  },
  {
   "cell_type": "code",
   "execution_count": 97,
   "id": "72b5c231",
   "metadata": {},
   "outputs": [
    {
     "data": {
      "text/plain": [
       "'abc'"
      ]
     },
     "execution_count": 97,
     "metadata": {},
     "output_type": "execute_result"
    }
   ],
   "source": [
    "var16.format_map"
   ]
  },
  {
   "cell_type": "code",
   "execution_count": 98,
   "id": "72ee3ab2",
   "metadata": {},
   "outputs": [
    {
     "data": {
      "text/plain": [
       "'For only 49.00 dollars!'"
      ]
     },
     "execution_count": 98,
     "metadata": {},
     "output_type": "execute_result"
    }
   ],
   "source": [
    "test = \"For only {price:.2f} dollars!\"\n",
    "\n",
    "test.format(price = 49)"
   ]
  },
  {
   "cell_type": "code",
   "execution_count": 99,
   "id": "16fba2f6",
   "metadata": {},
   "outputs": [],
   "source": [
    "var17 = \"i like python\"\n",
    "var18 = \"i like java\"\n",
    "var19 = \"R\""
   ]
  },
  {
   "cell_type": "code",
   "execution_count": 102,
   "id": "1f2bd241",
   "metadata": {},
   "outputs": [
    {
     "name": "stdout",
     "output_type": "stream",
     "text": [
      "for ds  i like python for dev  i like java for stats  R\n"
     ]
    }
   ],
   "source": [
    "print(\"for ds \", var17, \"for dev \",  var18, \"for stats \",var19)"
   ]
  },
  {
   "cell_type": "code",
   "execution_count": 104,
   "id": "ec03054a",
   "metadata": {},
   "outputs": [
    {
     "name": "stdout",
     "output_type": "stream",
     "text": [
      "for ds i like python for dev i like java for stats R\n"
     ]
    }
   ],
   "source": [
    "print(f\"for ds {var17} for dev {var18} for stats {var19}\")"
   ]
  },
  {
   "cell_type": "code",
   "execution_count": null,
   "id": "67050257",
   "metadata": {},
   "outputs": [],
   "source": []
  }
 ],
 "metadata": {
  "kernelspec": {
   "display_name": "Python 3 (ipykernel)",
   "language": "python",
   "name": "python3"
  },
  "language_info": {
   "codemirror_mode": {
    "name": "ipython",
    "version": 3
   },
   "file_extension": ".py",
   "mimetype": "text/x-python",
   "name": "python",
   "nbconvert_exporter": "python",
   "pygments_lexer": "ipython3",
   "version": "3.11.5"
  }
 },
 "nbformat": 4,
 "nbformat_minor": 5
}
