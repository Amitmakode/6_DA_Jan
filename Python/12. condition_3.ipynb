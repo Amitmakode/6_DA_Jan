{
 "cells": [
  {
   "cell_type": "code",
   "execution_count": 1,
   "id": "679d4067",
   "metadata": {},
   "outputs": [
    {
     "name": "stdout",
     "output_type": "stream",
     "text": [
      "enter a number 4\n",
      "it is divisible by 3 or 2 or 5\n"
     ]
    }
   ],
   "source": [
    "n = int(input(\"enter a number \"))\n",
    "\n",
    "if n==2:\n",
    "    print(\"it is a prime number \", n)\n",
    "elif n==3:\n",
    "    print(\"it is a prime number \", n)\n",
    "elif n%3==0 or n%2==0 or n%5==0 or n%7==0:\n",
    "    print(\"it is divisible by 3 or 2 or 5\")\n",
    "else:\n",
    "    print(\"it is a prime number\")"
   ]
  },
  {
   "cell_type": "code",
   "execution_count": 3,
   "id": "e030b3be",
   "metadata": {},
   "outputs": [
    {
     "name": "stdout",
     "output_type": "stream",
     "text": [
      "enter a number 99\n",
      "it is divisible by 3 or 2 or 5\n"
     ]
    }
   ],
   "source": [
    "n = int(input(\"enter a number \"))\n",
    "\n",
    "if n==2:\n",
    "    print(\"it is a prime number \", n)\n",
    "elif n==3:\n",
    "    print(\"it is a prime number \", n)\n",
    "elif n%3==0 or n%2==0 :\n",
    "    print(\"it is divisible by 3 or 2 or 5\")\n",
    "else:\n",
    "    print(\"it is a prime number\")"
   ]
  },
  {
   "cell_type": "code",
   "execution_count": 5,
   "id": "fdca6f5b",
   "metadata": {},
   "outputs": [
    {
     "name": "stdout",
     "output_type": "stream",
     "text": [
      "enter a number 4\n",
      "it is divisible by 3 or 2 or 5\n"
     ]
    }
   ],
   "source": [
    "n = int(input(\"enter a number \"))\n",
    "\n",
    "if n==2:\n",
    "    print(\"it is a prime number \", n)\n",
    "elif n==3:\n",
    "    print(\"it is a prime number \", n)\n",
    "elif n%3==0 or n%2==0 and n%4 == 0:\n",
    "    print(\"it is divisible by 3 or 2 or 5\")\n",
    "else:\n",
    "    print(\"it is a prime number\")"
   ]
  },
  {
   "cell_type": "code",
   "execution_count": 8,
   "id": "67e2abb7",
   "metadata": {},
   "outputs": [
    {
     "name": "stdout",
     "output_type": "stream",
     "text": [
      "enter a number8\n",
      "8 is not a prime number\n"
     ]
    }
   ],
   "source": [
    "# Program to check if a number is prime or not\n",
    "\n",
    "num = int(input(\"enter a number\"))\n",
    "flag = False\n",
    "\n",
    "if num == 1:\n",
    "    print(num, \"is not a prime number\")\n",
    "elif num > 1:\n",
    "    # check for factors\n",
    "    for i in range(2, num):\n",
    "        if (num % i) == 0:\n",
    "            # if factor is found, set flag to True\n",
    "            flag = True\n",
    "            # break out of loop\n",
    "            break\n",
    "\n",
    "    # check if flag is True\n",
    "    if flag:\n",
    "        print(num, \"is not a prime number\")\n",
    "    else:\n",
    "        print(num, \"is a prime number\")"
   ]
  },
  {
   "cell_type": "code",
   "execution_count": 6,
   "id": "5c3875c5",
   "metadata": {},
   "outputs": [
    {
     "name": "stdout",
     "output_type": "stream",
     "text": [
      "2\n",
      "3\n",
      "4\n",
      "5\n",
      "6\n",
      "7\n",
      "8\n",
      "9\n",
      "10\n"
     ]
    }
   ],
   "source": [
    "for i in range(2,11):\n",
    "    print(i)"
   ]
  },
  {
   "cell_type": "code",
   "execution_count": 9,
   "id": "7f007287",
   "metadata": {},
   "outputs": [
    {
     "name": "stdout",
     "output_type": "stream",
     "text": [
      "enter a name of employee tusar\n",
      "enter gender of employee  m\n",
      "enter basic salary of employee 20000\n",
      "enter experience 2.5\n",
      "enter incrament rate 0.2\n",
      "gross_salary - 30000\n",
      "net_salary - 27000\n"
     ]
    }
   ],
   "source": [
    "name = input(\"enter a name of employee \")\n",
    "gender = input(\"enter gender of employee  \")\n",
    "first_base_salary = int(input(\"enter basic salary of employee \"))\n",
    "year_of_experience = eval(input(\"enter experience \"))\n",
    "salary_increase_rate = eval(input(\"enter incrament rate \"))\n",
    "\n",
    "gross_salary = first_base_salary * (1 + salary_increase_rate * year_of_experience)\n",
    "gross_salary = int(gross_salary)\n",
    "net_salary = gross_salary - (first_base_salary*0.15)\n",
    "net_salary = int(net_salary)\n",
    "print(\"gross_salary -\", gross_salary)\n",
    "print(\"net_salary -\", net_salary)"
   ]
  },
  {
   "cell_type": "code",
   "execution_count": 22,
   "id": "74691a30",
   "metadata": {},
   "outputs": [
    {
     "name": "stdout",
     "output_type": "stream",
     "text": [
      "enter a name of employee amit\n",
      "enter gender of employee  m\n",
      "enter basic salary of employee 30000\n",
      "enter experience 16\n",
      "enter incrament rate 0.18\n",
      "gross_salary - 116400\n",
      "net_salary - 111900\n",
      "Bonus =  20142\n",
      "overall_Bonus =  20142.0 + 10000 = 30142\n",
      "You will get personal cabin\n"
     ]
    }
   ],
   "source": [
    "name = input(\"enter a name of employee \")\n",
    "gender = input(\"enter gender of employee  \")\n",
    "first_base_salary = int(input(\"enter basic salary of employee \"))\n",
    "year_of_experience = eval(input(\"enter experience \"))\n",
    "salary_increase_rate = eval(input(\"enter incrament rate \"))\n",
    "\n",
    "gross_salary = first_base_salary * (1 + salary_increase_rate * year_of_experience)\n",
    "gross_salary = int(gross_salary)\n",
    "net_salary = gross_salary - (first_base_salary*0.15)\n",
    "net_salary = int(net_salary)\n",
    "print(\"gross_salary -\", gross_salary)\n",
    "print(\"net_salary -\", net_salary)\n",
    "\n",
    "bonus_thresold = 2\n",
    "\n",
    "if year_of_experience >= 10:\n",
    "    if gender == \"f\":\n",
    "        bonus_rate = 0.2\n",
    "        bonus = net_salary * bonus_rate\n",
    "        print(\"Bonus = \", int(bonus))\n",
    "        if year_of_experience <=15 and gross_salary >= 100000:\n",
    "            aditional_bonus = 11000\n",
    "            total_bonus = bonus + aditional_bonus\n",
    "            print(\"overall_Bonus = \", bonus, \"+\", aditional_bonus,\"=\", int(total_bonus))\n",
    "            if net_salary >= 100000:\n",
    "                print(\"You will get early personal cabin\")\n",
    "        if year_of_experience > 15 and net_salary >= 100000:\n",
    "            aditional_bonus = 11000\n",
    "            total_bonus = bonus + aditional_bonus\n",
    "            print(\"overall_Bonus = \", bonus, \"+\", aditional_bonus,\"=\", int(total_bonus))\n",
    "            print(\"You will get personal cabin\")\n",
    "    elif gender == \"m\":\n",
    "        bonus_rate = 0.18\n",
    "        bonus = net_salary * bonus_rate\n",
    "        print(\"Bonus = \", int(bonus))\n",
    "        if year_of_experience <=15 and gross_salary >= 100000:\n",
    "            aditional_bonus = 10000\n",
    "            total_bonus = bonus + aditional_bonus\n",
    "            print(\"overall_Bonus = \", bonus, \"+\", aditional_bonus,\"=\", int(total_bonus))\n",
    "            if net_salary >= 100000:\n",
    "                print(\"You will get early personal cabin\")\n",
    "        if year_of_experience > 15 and net_salary >= 100000:\n",
    "            aditional_bonus = 10000\n",
    "            total_bonus = bonus + aditional_bonus\n",
    "            print(\"overall_Bonus = \", bonus, \"+\", aditional_bonus,\"=\", int(total_bonus))\n",
    "            print(\"You will get personal cabin\")  \n",
    "elif year_of_experience>= 6 < 10:\n",
    "    if gender == \"f\":\n",
    "        bonus_rate = 0.15\n",
    "        bonus = net_salary * bonus_rate\n",
    "        print(\"Bonus = \", bonus)\n",
    "        if gross_salary >= 75000:\n",
    "            print(\"Get promoted \")\n",
    "            if net_salary>= 70000:\n",
    "                print(\"Early promoted \")\n",
    "        else:\n",
    "            print(\"better luck next year\")\n",
    "    elif gender == \"m\":\n",
    "        bonus_rate = 0.14\n",
    "        bonus = net_salary * bonus_rate\n",
    "        print(\"Bonus = \", bonus)\n",
    "        if gross_salary >= 75000:\n",
    "            print(\"Get promoted \")\n",
    "            if net_salary>= 70000:\n",
    "                print(\"Early promoted \")\n",
    "        else:\n",
    "            print(\"better luck next year\")        \n",
    "elif year_of_experience > 2 <=5:\n",
    "    if gender == \"f\":\n",
    "        bonus_rate = 0.12\n",
    "        bonus = net_salary * bonus_rate\n",
    "        print(\"Bonus = \", bonus)\n",
    "        if gross_salary>= 50000:\n",
    "            print(\"Get regularization \")\n",
    "            if net_salary>= 45000:\n",
    "                print(\"Get early regularization\")\n",
    "    elif gender == \"m\":\n",
    "        bonus_rate = 0.10\n",
    "        bonus = net_salary * bonus_rate\n",
    "        print(\"Bonus = \", bonus)\n",
    "        if gross_salary>= 50000:\n",
    "            print(\"Get regularization \")\n",
    "            if net_salary>= 45000:\n",
    "                print(\"Get early regularization\")\n",
    "else:\n",
    "    print(\"No bonus for employee\")"
   ]
  },
  {
   "cell_type": "code",
   "execution_count": 12,
   "id": "161d6dab",
   "metadata": {},
   "outputs": [],
   "source": [
    "d = {'key1' :\"value\" , \"key2\" : \"sudh\" , \"key3\" : \"iNeuron\"}"
   ]
  },
  {
   "cell_type": "code",
   "execution_count": 13,
   "id": "c1b87acf",
   "metadata": {},
   "outputs": [
    {
     "data": {
      "text/plain": [
       "{'key1': 'value', 'key2': 'sudh', 'key3': 'iNeuron'}"
      ]
     },
     "execution_count": 13,
     "metadata": {},
     "output_type": "execute_result"
    }
   ],
   "source": [
    "d"
   ]
  },
  {
   "cell_type": "code",
   "execution_count": 15,
   "id": "dc85af3f",
   "metadata": {},
   "outputs": [
    {
     "name": "stdout",
     "output_type": "stream",
     "text": [
      "all the values are not verified \n"
     ]
    }
   ],
   "source": [
    "if d['key1'] == \"value\" and d['key2'] == \"Sudh\" and d['key3'] == \"iNeuron\":\n",
    "    print(\"all the values are verified \")\n",
    "    print(d.values())\n",
    "else :\n",
    "    print(\"all the values are not verified \")"
   ]
  },
  {
   "cell_type": "code",
   "execution_count": 17,
   "id": "b925e75b",
   "metadata": {},
   "outputs": [
    {
     "name": "stdout",
     "output_type": "stream",
     "text": [
      "all the values are verified \n",
      "dict_values(['value', 'sudh', 'iNeuron'])\n",
      "dict_items([('key1', 'value'), ('key2', 'sudh'), ('key3', 'iNeuron')])\n"
     ]
    }
   ],
   "source": [
    "if d['key1'] == \"value\" and d['key2'] == \"sudh\" and d['key3'] == \"iNeuron\":\n",
    "    print(\"all the values are verified \")\n",
    "    print(d.values())\n",
    "    print(d.items())\n",
    "else :\n",
    "    print(\"all the values are not verified \")"
   ]
  },
  {
   "cell_type": "code",
   "execution_count": 18,
   "id": "97558cb0",
   "metadata": {},
   "outputs": [
    {
     "name": "stdout",
     "output_type": "stream",
     "text": [
      "lets do something 1\n"
     ]
    }
   ],
   "source": [
    "a,b,c,d = 10,11,12,13 \n",
    "\n",
    "if a==10 or b==11 and c==12 and d==113: \n",
    "    # this is equal to a==10 or (b==11 and c==12 and d==113)\n",
    "    print('lets do something 1')"
   ]
  },
  {
   "cell_type": "code",
   "execution_count": 19,
   "id": "45d9538f",
   "metadata": {},
   "outputs": [
    {
     "name": "stdout",
     "output_type": "stream",
     "text": [
      "lets do something 2\n"
     ]
    }
   ],
   "source": [
    "if (a==10 and b==11 ) or (c==12 and d==113):   \n",
    "    # this is equal to (a==10 and b==11) or (c==12 and d==113)\n",
    "    print('lets do something 2')"
   ]
  },
  {
   "cell_type": "code",
   "execution_count": 20,
   "id": "9124952e",
   "metadata": {},
   "outputs": [
    {
     "name": "stdout",
     "output_type": "stream",
     "text": [
      "lets do something 3\n"
     ]
    }
   ],
   "source": [
    "if a==10 and b==11 and c==12 and d==13 or a==9:    \n",
    "    # this is equal to (a==10 and b==11 and c==12 and d==13) or a==9\n",
    "    print('lets do something 3')"
   ]
  },
  {
   "cell_type": "code",
   "execution_count": 21,
   "id": "77addee7",
   "metadata": {},
   "outputs": [],
   "source": [
    "if a==9 and b==11 and c==12 and d==13:   \n",
    "    print('lets do something 4')"
   ]
  },
  {
   "cell_type": "code",
   "execution_count": null,
   "id": "fa268f8f",
   "metadata": {},
   "outputs": [],
   "source": [
    "a,b,c,d = 10,11,12,13 \n",
    "\n",
    "if a==10 or b==11 and c==12 and d==113: \n",
    "    # this is equal to a==10 or (b==11 and c==12 and d==113)\n",
    "    print('lets do something 1')\n",
    "    \n",
    "if (a==10 and b==11 ) or (c==12 and d==113):   \n",
    "    # this is equal to (a==10 and b==11) or (c==12 and d==113)\n",
    "    print('lets do something 2')\n",
    "    \n",
    "if a==10 and b==11 and c==12 and d==13 or a==9:    \n",
    "    # this is equal to (a==10 and b==11 and c==12 and d==13) or a==9\n",
    "    print('lets do something 3')\n",
    "    \n",
    "if a==9 and b==11 and c==12 and d==13:   \n",
    "    print('lets do something 4')"
   ]
  }
 ],
 "metadata": {
  "kernelspec": {
   "display_name": "Python 3 (ipykernel)",
   "language": "python",
   "name": "python3"
  },
  "language_info": {
   "codemirror_mode": {
    "name": "ipython",
    "version": 3
   },
   "file_extension": ".py",
   "mimetype": "text/x-python",
   "name": "python",
   "nbconvert_exporter": "python",
   "pygments_lexer": "ipython3",
   "version": "3.11.5"
  }
 },
 "nbformat": 4,
 "nbformat_minor": 5
}
