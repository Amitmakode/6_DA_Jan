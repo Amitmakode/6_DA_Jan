{
 "cells": [
  {
   "cell_type": "code",
   "execution_count": 3,
   "id": "172e6ec9",
   "metadata": {},
   "outputs": [
    {
     "name": "stdout",
     "output_type": "stream",
     "text": [
      "Enter the mark\n",
      "-1\n",
      "Invalid marks are entered!\n"
     ]
    }
   ],
   "source": [
    "mark = int(input(\"Enter the mark\\n\"))\n",
    "\n",
    "if mark < 0 or mark > 100: \n",
    "    print(\"Invalid marks are entered!\")\n",
    "elif mark >= 0 and mark < 35 :\n",
    "    print(\"Sorry you failed!\")\n",
    "elif mark >= 35 and mark < 80 :\n",
    "    print(\"You passed in first class\")\n",
    "else :\n",
    "    print(\"You got distinction!\")"
   ]
  },
  {
   "cell_type": "code",
   "execution_count": 5,
   "id": "64534a6d",
   "metadata": {},
   "outputs": [
    {
     "name": "stdout",
     "output_type": "stream",
     "text": [
      "Enter first number \n",
      "22\n",
      "Enter second number \n",
      "22\n",
      "Both numbers are same\n"
     ]
    }
   ],
   "source": [
    "number1 = int(input(\"Enter first number \\n\"))\n",
    "number2 = int(input(\"Enter second number \\n\"))\n",
    "\n",
    "\n",
    "if number1 == number2:\n",
    "    print(\"Both numbers are same\")\n",
    "else:\n",
    "    if number1 > number2:\n",
    "        print(\"First number is bigger than second\")\n",
    "    else:\n",
    "        print(\"First number is smaller than second\")"
   ]
  },
  {
   "cell_type": "code",
   "execution_count": 7,
   "id": "990026a6",
   "metadata": {},
   "outputs": [
    {
     "name": "stdout",
     "output_type": "stream",
     "text": [
      "Enter a number\n",
      "101111\n",
      "you can buy car as well home\n"
     ]
    }
   ],
   "source": [
    "salary = int(input(\"Enter a number\\n\"))\n",
    "\n",
    "if salary > 100000:\n",
    "    print(\"you can buy car as well home\")\n",
    "elif salary == 100000:\n",
    "    print(\"you can buy car only\")\n",
    "elif salary > 50000 and salary < 100000:\n",
    "    print(\"you can buy bike\")\n",
    "else:\n",
    "    print(\"save more money\")"
   ]
  },
  {
   "cell_type": "code",
   "execution_count": 11,
   "id": "fa3b801a",
   "metadata": {},
   "outputs": [
    {
     "name": "stdout",
     "output_type": "stream",
     "text": [
      "Enter your username: guest\n",
      "Enter your password: password\n",
      "Incorrect password. Please try again.\n"
     ]
    }
   ],
   "source": [
    "# Password and Username Checking\n",
    "username = input(\"Enter your username: \")\n",
    "password = input(\"Enter your password: \")\n",
    "\n",
    "\n",
    "if username == \"admin\":\n",
    "    if password == \"password\":\n",
    "        print(\"Login successful! Welcome, admin.\")\n",
    "    elif password == \"12345\":\n",
    "        print(\"Weak password. Please reset your password.\")\n",
    "    else:\n",
    "        print(\"Incorrect password. Please try again.\")\n",
    "else:\n",
    "    if username == \"guest\":\n",
    "        if password == \"guest\":\n",
    "            print(\"Login successful! Welcome, guest.\")\n",
    "        else:\n",
    "            print(\"Incorrect password. Please try again.\")\n",
    "    else:\n",
    "        print(\"Unknown user. Please try again.\")\n",
    "        "
   ]
  },
  {
   "cell_type": "code",
   "execution_count": 14,
   "id": "934f7b2d",
   "metadata": {},
   "outputs": [
    {
     "name": "stdout",
     "output_type": "stream",
     "text": [
      "Enter the lenght in centimeter\n",
      "-3\n",
      "You have entered negative value. \n"
     ]
    }
   ],
   "source": [
    "length_in_cm = input(\"Enter the lenght in centimeter\\n\")\n",
    "\n",
    "\n",
    "length_in_cm = float(length_in_cm)\n",
    "\n",
    "\n",
    "if length_in_cm < 0 :\n",
    "    print(\"You have entered negative value. \")\n",
    "else:\n",
    "    length_in_inches = length_in_cm / 2.54\n",
    "    print(length_in_cm, \" cm = \", length_in_inches, \" inches\")"
   ]
  },
  {
   "cell_type": "code",
   "execution_count": 15,
   "id": "1115eed8",
   "metadata": {},
   "outputs": [],
   "source": [
    "a = 10 \n",
    "\n",
    "if a == 11 :\n",
    "    print(\"this is my first condition\")"
   ]
  },
  {
   "cell_type": "code",
   "execution_count": 16,
   "id": "afb2fb50",
   "metadata": {},
   "outputs": [
    {
     "name": "stdout",
     "output_type": "stream",
     "text": [
      "this is my first condition\n"
     ]
    }
   ],
   "source": [
    "a = 11 \n",
    "\n",
    "if a == 11 :\n",
    "    print(\"this is my first condition\")"
   ]
  },
  {
   "cell_type": "code",
   "execution_count": 17,
   "id": "aa6222da",
   "metadata": {},
   "outputs": [
    {
     "name": "stdout",
     "output_type": "stream",
     "text": [
      "ok i satisfy\n"
     ]
    }
   ],
   "source": [
    "a = 10\n",
    "if a > 5 :\n",
    "    print(\"ok i satisfy\")"
   ]
  },
  {
   "cell_type": "code",
   "execution_count": 18,
   "id": "8c1b25f4",
   "metadata": {},
   "outputs": [],
   "source": [
    "a = 4\n",
    "if a > 5 :\n",
    "    print(\"ok i satisfy\")"
   ]
  },
  {
   "cell_type": "code",
   "execution_count": 19,
   "id": "a10a7cde",
   "metadata": {},
   "outputs": [
    {
     "name": "stdout",
     "output_type": "stream",
     "text": [
      "print this \n"
     ]
    }
   ],
   "source": [
    "a = 10\n",
    "if a == 11:\n",
    "    print(\"my condition is false\")\n",
    "else :\n",
    "    print(\"print this \")"
   ]
  },
  {
   "cell_type": "code",
   "execution_count": 20,
   "id": "115b49a9",
   "metadata": {},
   "outputs": [
    {
     "name": "stdout",
     "output_type": "stream",
     "text": [
      "we are trying to compare 10 with 11\n"
     ]
    }
   ],
   "source": [
    "a = 10 \n",
    "\n",
    "if a == 12 :\n",
    "    print(\"here we are trying to compare 10 with 12\")\n",
    "elif a == 10:\n",
    "    print(\"we are trying to compare 10 with 11\")\n",
    "else :\n",
    "    print(\"if all the blocks wil fail then do this \")"
   ]
  },
  {
   "cell_type": "code",
   "execution_count": 26,
   "id": "c5c6f2c3",
   "metadata": {},
   "outputs": [
    {
     "name": "stdout",
     "output_type": "stream",
     "text": [
      "i will be able to buy a jacket\n"
     ]
    }
   ],
   "source": [
    "price = -100\n",
    "\n",
    "if price > 500 : \n",
    "    print(\" may be i wont be able to buy a jacket \")\n",
    "elif price < 500 :\n",
    "    print(\"i will be able to buy a jacket\")\n",
    "elif  price == 500 :\n",
    "    print(\"for sure i will be able to buy\")\n",
    "else  :\n",
    "    print(\"i dont know\")"
   ]
  },
  {
   "cell_type": "code",
   "execution_count": 27,
   "id": "a3ede00c",
   "metadata": {},
   "outputs": [
    {
     "name": "stdout",
     "output_type": "stream",
     "text": [
      "do not perform this task\n"
     ]
    }
   ],
   "source": [
    "lis = [1,2,3,4,5,6]\n",
    "\n",
    "if 60 in lis :\n",
    "    print(\"try to perform a task \")\n",
    "else :\n",
    "    print(\"do not perform this task\")"
   ]
  },
  {
   "cell_type": "code",
   "execution_count": 28,
   "id": "9914228c",
   "metadata": {},
   "outputs": [
    {
     "name": "stdout",
     "output_type": "stream",
     "text": [
      "try to perform a task \n"
     ]
    }
   ],
   "source": [
    "lis = [1,2,3,4,5,6]\n",
    "\n",
    "if 60 not in lis :\n",
    "    print(\"try to perform a task \")\n",
    "else :\n",
    "    print(\"do not perform this task\")"
   ]
  },
  {
   "cell_type": "code",
   "execution_count": 33,
   "id": "75356a50",
   "metadata": {},
   "outputs": [
    {
     "name": "stdout",
     "output_type": "stream",
     "text": [
      "try to do sub\n",
      "this is new statement\n"
     ]
    }
   ],
   "source": [
    "lis = [1,2,3,4,5,6]\n",
    "\n",
    "if 10 in lis :\n",
    "    print(\"thy to do a addition\")\n",
    "elif 2 in lis :\n",
    "    print(\"try to do sub\")\n",
    "elif 3 in lis :\n",
    "    print(\"try to do mul\")\n",
    "if 4 in lis :\n",
    "    print(\"this is new statement\")"
   ]
  },
  {
   "cell_type": "code",
   "execution_count": null,
   "id": "f145318e",
   "metadata": {},
   "outputs": [],
   "source": [
    "if \n",
    "elif\n",
    "elif\n",
    "if\n",
    "else"
   ]
  },
  {
   "cell_type": "code",
   "execution_count": 35,
   "id": "c9325731",
   "metadata": {},
   "outputs": [
    {
     "name": "stdout",
     "output_type": "stream",
     "text": [
      "450\n",
      "i will be able to buy something\n",
      "\n",
      "i wont be able to buy anyting\n"
     ]
    }
   ],
   "source": [
    "price  = int(input())\n",
    "\n",
    "if price  < 500 :\n",
    "    print(\"i will be able to buy something\")\n",
    "    print()\n",
    "    if price < 400 :\n",
    "        print(\"i will be able to buy a jacket\")\n",
    "    elif price < 300 :\n",
    "        print(\"i will be able to buy a shirt\")\n",
    "        if price < 200 :\n",
    "            print(\"i would like to do sometign\")\n",
    "    else :\n",
    "        print(\"i wont be able to buy anyting\")\n",
    "else :\n",
    "     print(\"i wont be able to buy anything with this price tag\")"
   ]
  },
  {
   "cell_type": "code",
   "execution_count": 39,
   "id": "508228de",
   "metadata": {},
   "outputs": [
    {
     "name": "stdout",
     "output_type": "stream",
     "text": [
      "390\n",
      "TOFEL\n",
      "Try something else\n"
     ]
    }
   ],
   "source": [
    "marks = int(input())\n",
    "\n",
    "if marks < 600:\n",
    "    print(\"NO GRE\")\n",
    "    if marks < 500:\n",
    "        print(\"TOFEL\")\n",
    "        if marks < 400:\n",
    "            print(\"Try something else\")\n",
    "    else:\n",
    "        print(\"YOU GOT TOFEL\")\n",
    "        \n",
    "elif marks > 600:\n",
    "    print(\"you will get IIT\")\n",
    "    if marks > 700:\n",
    "        print(\"you will get IIM\")\n",
    "    else:\n",
    "        print(\"try next time\")\n",
    "else:\n",
    "    print(\"You got GRE congratulations\")"
   ]
  },
  {
   "cell_type": "code",
   "execution_count": 41,
   "id": "7e9076d7",
   "metadata": {},
   "outputs": [
    {
     "name": "stdout",
     "output_type": "stream",
     "text": [
      "enter a floating point number-7\n",
      "entered number is a negative number\n"
     ]
    }
   ],
   "source": [
    "val  = float(input(\"enter a floating point number\"))\n",
    "\n",
    "if val >= 0 :\n",
    "    if val == 0 :\n",
    "        print(\"entered value is zero\")\n",
    "    else :\n",
    "        print(\"enter value is a positive number \")\n",
    "else :\n",
    "    print(\"entered number is a negative number\")\n",
    "    "
   ]
  },
  {
   "cell_type": "code",
   "execution_count": null,
   "id": "6670b430",
   "metadata": {},
   "outputs": [],
   "source": [
    "mark = int(input(\"entrance exam marks\"))\n",
    "\n",
    "if mark > 700:\n",
    "    print()\n",
    "    if mark :\n",
    "        print()\n",
    "    elif:\n",
    "        print()\n",
    "        if:\n",
    "            print()\n",
    "        else:\n",
    "            print()\n",
    "    else:\n",
    "        print()\n",
    "elif:\n",
    "    print()\n",
    "    \n",
    "else:\n",
    "    print()"
   ]
  }
 ],
 "metadata": {
  "kernelspec": {
   "display_name": "Python 3 (ipykernel)",
   "language": "python",
   "name": "python3"
  },
  "language_info": {
   "codemirror_mode": {
    "name": "ipython",
    "version": 3
   },
   "file_extension": ".py",
   "mimetype": "text/x-python",
   "name": "python",
   "nbconvert_exporter": "python",
   "pygments_lexer": "ipython3",
   "version": "3.11.5"
  }
 },
 "nbformat": 4,
 "nbformat_minor": 5
}
