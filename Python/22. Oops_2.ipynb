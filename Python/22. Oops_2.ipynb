{
 "cells": [
  {
   "cell_type": "code",
   "execution_count": 1,
   "id": "f12978c1",
   "metadata": {},
   "outputs": [],
   "source": [
    "class person1 :\n",
    "    \n",
    "    def __init__(self , name ,surname , yob):\n",
    "        self._name1 = name                 # single _ means private \n",
    "        self.__surname1 = surname          #  double __ means protective\n",
    "        self.yob1 = yob                    # public"
   ]
  },
  {
   "cell_type": "code",
   "execution_count": 3,
   "id": "984de7f8",
   "metadata": {},
   "outputs": [],
   "source": [
    "obj = person1(\"amit\", \"kumar\", 1999)"
   ]
  },
  {
   "cell_type": "code",
   "execution_count": 5,
   "id": "6630558a",
   "metadata": {},
   "outputs": [
    {
     "data": {
      "text/plain": [
       "1999"
      ]
     },
     "execution_count": 5,
     "metadata": {},
     "output_type": "execute_result"
    }
   ],
   "source": [
    "obj.yob1"
   ]
  },
  {
   "cell_type": "code",
   "execution_count": 7,
   "id": "1694feb4",
   "metadata": {},
   "outputs": [
    {
     "data": {
      "text/plain": [
       "'amit'"
      ]
     },
     "execution_count": 7,
     "metadata": {},
     "output_type": "execute_result"
    }
   ],
   "source": [
    "obj._name1"
   ]
  },
  {
   "cell_type": "code",
   "execution_count": 12,
   "id": "52edb7e0",
   "metadata": {},
   "outputs": [
    {
     "data": {
      "text/plain": [
       "'kumar'"
      ]
     },
     "execution_count": 12,
     "metadata": {},
     "output_type": "execute_result"
    }
   ],
   "source": [
    "obj._person1__surname1"
   ]
  },
  {
   "cell_type": "code",
   "execution_count": null,
   "id": "0334733d",
   "metadata": {},
   "outputs": [],
   "source": [
    "**************************"
   ]
  },
  {
   "cell_type": "code",
   "execution_count": null,
   "id": "957c806d",
   "metadata": {},
   "outputs": [],
   "source": []
  },
  {
   "cell_type": "code",
   "execution_count": 13,
   "id": "95125f9a",
   "metadata": {},
   "outputs": [],
   "source": [
    "class person3 :                             # parents class\n",
    "\n",
    "    name = \"amit\"\n",
    "    surname = \"kumar\"\n",
    "    yob = 1990\n",
    "\n",
    "    def age(self , current_year ):\n",
    "        return current_year - self.yob\n",
    "    \n",
    "    def age1(self , current_year ):\n",
    "        return current_year - self.yob"
   ]
  },
  {
   "cell_type": "code",
   "execution_count": 14,
   "id": "30b07506",
   "metadata": {},
   "outputs": [
    {
     "name": "stdout",
     "output_type": "stream",
     "text": [
      "32\n",
      "32\n"
     ]
    },
    {
     "data": {
      "text/plain": [
       "'amit'"
      ]
     },
     "execution_count": 14,
     "metadata": {},
     "output_type": "execute_result"
    }
   ],
   "source": [
    "obj = person3()\n",
    "print(obj.age(2022))\n",
    "print(obj.age1(2022))\n",
    "obj.name"
   ]
  },
  {
   "cell_type": "code",
   "execution_count": 15,
   "id": "9fe1a72d",
   "metadata": {},
   "outputs": [],
   "source": [
    "class employee(person3) :           #child class\n",
    "    name = \"amit\"\n",
    "    surname = \"singh\"\n",
    "    yob = 1991"
   ]
  },
  {
   "cell_type": "code",
   "execution_count": 19,
   "id": "c9342cab",
   "metadata": {},
   "outputs": [
    {
     "data": {
      "text/plain": [
       "32"
      ]
     },
     "execution_count": 19,
     "metadata": {},
     "output_type": "execute_result"
    }
   ],
   "source": [
    "obj1 = employee()\n",
    "obj1.surname\n",
    "obj1.yob\n",
    "obj1.age(2023)\n",
    "# inheritense"
   ]
  },
  {
   "cell_type": "code",
   "execution_count": 20,
   "id": "7d379807",
   "metadata": {},
   "outputs": [],
   "source": [
    "class car :                 #perent class   \n",
    "                         # inheritence \n",
    "    def __init__(self , body , engin , tyre):\n",
    "        self.body = body\n",
    "        self.engin = engin\n",
    "        self.tyre = tyre\n",
    "\n",
    "    def milage (self):\n",
    "        print(\"milage of this car \") \n",
    "        \n",
    "        \n",
    "class tata(car):                #child class\n",
    "    pass"
   ]
  },
  {
   "cell_type": "code",
   "execution_count": 22,
   "id": "a3e04953",
   "metadata": {},
   "outputs": [
    {
     "name": "stdout",
     "output_type": "stream",
     "text": [
      "<__main__.tata object at 0x000001AE6E9E2390>\n",
      "milage of this car \n",
      "None\n"
     ]
    }
   ],
   "source": [
    "t = tata(\"solid1\" , \"v8\" , \"radial1\")\n",
    "print(t)\n",
    "print(t.milage())"
   ]
  },
  {
   "cell_type": "code",
   "execution_count": 23,
   "id": "bc78a1c8",
   "metadata": {},
   "outputs": [],
   "source": [
    "class bank :             # perents class \n",
    "    def transaction(self) :\n",
    "        print(\"total transaction value \")\n",
    "    def account_opening(self):\n",
    "        print(\"this will show you your account open status \")\n",
    "    def deposite(self):\n",
    "        print(\"this will show your deposited amount\")\n",
    "\n",
    "\n",
    "class HDFC_bank(bank):             # child class\n",
    "    def hdfc_to_icici(self):\n",
    "        print(\"this will show you all the transaction happend to icici throuhg hdfc\")\n",
    "\n",
    "class icici(HDFC_bank):          # child class\n",
    "    pass                        \n",
    "\n",
    "# multilevel inheritence"
   ]
  },
  {
   "cell_type": "code",
   "execution_count": 24,
   "id": "f9d1f2e4",
   "metadata": {},
   "outputs": [],
   "source": [
    "obj = icici()"
   ]
  },
  {
   "cell_type": "code",
   "execution_count": 25,
   "id": "9abeb9db",
   "metadata": {},
   "outputs": [],
   "source": [
    "obj1 = HDFC_bank()"
   ]
  },
  {
   "cell_type": "code",
   "execution_count": 26,
   "id": "3a8cf2b8",
   "metadata": {},
   "outputs": [
    {
     "name": "stdout",
     "output_type": "stream",
     "text": [
      "this will show you your account open status \n"
     ]
    }
   ],
   "source": [
    "obj1.account_opening()"
   ]
  },
  {
   "cell_type": "code",
   "execution_count": null,
   "id": "ffa54e97",
   "metadata": {},
   "outputs": [],
   "source": [
    "obj."
   ]
  },
  {
   "cell_type": "code",
   "execution_count": null,
   "id": "3dcf0fbf",
   "metadata": {},
   "outputs": [],
   "source": [
    "************************************************"
   ]
  },
  {
   "cell_type": "code",
   "execution_count": 27,
   "id": "2cae29f6",
   "metadata": {},
   "outputs": [],
   "source": [
    "class bank :\n",
    "    def transaction(self) :\n",
    "        print(\"total transaction value \")\n",
    "    def account_opening(self):\n",
    "        print(\"this will show you your account open status \")\n",
    "    def deposite(self):\n",
    "        print(\"this will show your deposited amount\")\n",
    "    def test(self):                          # override code\n",
    "        print(\"this is a test methond form bank class \")\n",
    "\n",
    "        \n",
    "class HDFC_bank:\n",
    "    def hdfc_to_icici(self):\n",
    "        print(\"this will show you all the transaction happend to icici throuhg hdfc\")\n",
    "    def test(self):           #override code\n",
    "        print(\"this is a test method form hdfc bank \")\n",
    "\n",
    "class ineron_bank:\n",
    "    def account_status_icici(self):\n",
    "        print(\"print a account status in icici \")\n",
    "\n",
    "class icici(bank, HDFC_bank, ineron_bank):      # multiple inheritence\n",
    "    pass        "
   ]
  },
  {
   "cell_type": "code",
   "execution_count": 28,
   "id": "562a475b",
   "metadata": {},
   "outputs": [],
   "source": [
    "obj3 = icici()"
   ]
  },
  {
   "cell_type": "code",
   "execution_count": 30,
   "id": "1af77811",
   "metadata": {},
   "outputs": [
    {
     "name": "stdout",
     "output_type": "stream",
     "text": [
      "this is a test methond form bank class \n"
     ]
    }
   ],
   "source": [
    "obj3.test()"
   ]
  },
  {
   "cell_type": "code",
   "execution_count": null,
   "id": "03405fa1",
   "metadata": {},
   "outputs": [],
   "source": [
    "************************************************"
   ]
  },
  {
   "cell_type": "code",
   "execution_count": 31,
   "id": "76e295ba",
   "metadata": {},
   "outputs": [],
   "source": [
    "class ineuron:\n",
    "    def student(self):\n",
    "        print(\"print the details of all the students\")\n",
    "    def achivers(self):\n",
    "        print(\"print the list of all the achiver \")\n",
    "    def hall_of_fame(self):\n",
    "        print(\"print everyone form hall of fame \")\n",
    "\n",
    "\n",
    "\n",
    "class ineuron_vision(ineuron):\n",
    "\n",
    "    def student(self):      #override method\n",
    "        print(\"these are the filters student list \")"
   ]
  },
  {
   "cell_type": "code",
   "execution_count": 32,
   "id": "462e0c56",
   "metadata": {},
   "outputs": [],
   "source": [
    "iv =ineuron_vision()"
   ]
  },
  {
   "cell_type": "code",
   "execution_count": 33,
   "id": "20fffcbd",
   "metadata": {},
   "outputs": [
    {
     "name": "stdout",
     "output_type": "stream",
     "text": [
      "these are the filters student list \n"
     ]
    }
   ],
   "source": [
    "iv.student()"
   ]
  },
  {
   "cell_type": "code",
   "execution_count": 35,
   "id": "e55b61d5",
   "metadata": {},
   "outputs": [],
   "source": [
    "_in = ineuron()"
   ]
  },
  {
   "cell_type": "code",
   "execution_count": 36,
   "id": "29309d14",
   "metadata": {},
   "outputs": [
    {
     "name": "stdout",
     "output_type": "stream",
     "text": [
      "print the details of all the students\n"
     ]
    }
   ],
   "source": [
    "_in.student()"
   ]
  },
  {
   "cell_type": "code",
   "execution_count": null,
   "id": "246a9cec",
   "metadata": {},
   "outputs": [],
   "source": []
  }
 ],
 "metadata": {
  "kernelspec": {
   "display_name": "Python 3 (ipykernel)",
   "language": "python",
   "name": "python3"
  },
  "language_info": {
   "codemirror_mode": {
    "name": "ipython",
    "version": 3
   },
   "file_extension": ".py",
   "mimetype": "text/x-python",
   "name": "python",
   "nbconvert_exporter": "python",
   "pygments_lexer": "ipython3",
   "version": "3.11.5"
  }
 },
 "nbformat": 4,
 "nbformat_minor": 5
}
