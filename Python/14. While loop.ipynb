{
 "cells": [
  {
   "cell_type": "code",
   "execution_count": 9,
   "id": "05562f5b",
   "metadata": {},
   "outputs": [
    {
     "name": "stdout",
     "output_type": "stream",
     "text": [
      "0\n",
      "1\n",
      "2\n",
      "3\n",
      "4\n"
     ]
    }
   ],
   "source": [
    "n = 0 \n",
    "while n < 5:\n",
    "    print(n)\n",
    "    n=n+1"
   ]
  },
  {
   "cell_type": "code",
   "execution_count": 11,
   "id": "7fb00067",
   "metadata": {},
   "outputs": [
    {
     "name": "stdout",
     "output_type": "stream",
     "text": [
      "0\n",
      "1\n",
      "2\n",
      "3\n",
      "4\n",
      "5\n",
      "6\n",
      "7\n",
      "8\n",
      "9\n",
      "10\n"
     ]
    }
   ],
   "source": [
    "n = 0 \n",
    "while n <= 10:\n",
    "    print(n)\n",
    "    n=n+1"
   ]
  },
  {
   "cell_type": "code",
   "execution_count": 12,
   "id": "245dc7b8",
   "metadata": {},
   "outputs": [
    {
     "name": "stdout",
     "output_type": "stream",
     "text": [
      "Enter the name : ishant\n",
      "\n",
      "You entered  ishant\n",
      "Enter the name : nilesh\n",
      "\n",
      "You entered  nilesh\n",
      "Enter the name : sarwari\n",
      "\n",
      "You entered  sarwari\n"
     ]
    }
   ],
   "source": [
    "count = 3\n",
    "\n",
    "for i in range(count):\n",
    "    name = input(\"Enter the name : \")\n",
    "    print()\n",
    "    print('You entered ', name)"
   ]
  },
  {
   "cell_type": "code",
   "execution_count": 14,
   "id": "b240a0b3",
   "metadata": {},
   "outputs": [
    {
     "name": "stdout",
     "output_type": "stream",
     "text": [
      "enter a namenilesh\n",
      "nilesh\n",
      "0\n",
      "enter a nameishant\n",
      "ishant\n",
      "1\n",
      "enter a namesarwari\n",
      "sarwari\n",
      "2\n",
      "enter a nameamit\n",
      "amit\n",
      "3\n"
     ]
    }
   ],
   "source": [
    "n = 0\n",
    "while n < 4:\n",
    "    name = input(\"enter a name\")\n",
    "    print(name)\n",
    "    print(n)\n",
    "    n+=1"
   ]
  },
  {
   "cell_type": "code",
   "execution_count": 15,
   "id": "3d70da5c",
   "metadata": {},
   "outputs": [
    {
     "name": "stdout",
     "output_type": "stream",
     "text": [
      "Enter the name (use 'Quit' to stop :amit\n",
      "You entered  amit\n",
      "Enter the name (use 'Quit' to stop :amit\n",
      "You entered  amit\n",
      "Enter the name (use 'Quit' to stop :Quit\n"
     ]
    }
   ],
   "source": [
    "name = \"\"\n",
    "\n",
    "while name != \"Quit\":\n",
    "    name = input(\"Enter the name (use 'Quit' to stop :\")\n",
    "    if name != \"Quit\":\n",
    "        print('You entered ', name)"
   ]
  },
  {
   "cell_type": "code",
   "execution_count": 16,
   "id": "0406ac3d",
   "metadata": {},
   "outputs": [
    {
     "data": {
      "text/plain": [
       "True"
      ]
     },
     "execution_count": 16,
     "metadata": {},
     "output_type": "execute_result"
    }
   ],
   "source": [
    "\"Quit\" == \"Quit\""
   ]
  },
  {
   "cell_type": "code",
   "execution_count": 17,
   "id": "503eccbf",
   "metadata": {},
   "outputs": [
    {
     "data": {
      "text/plain": [
       "False"
      ]
     },
     "execution_count": 17,
     "metadata": {},
     "output_type": "execute_result"
    }
   ],
   "source": [
    "\"Quit\" != \"Quit\""
   ]
  },
  {
   "cell_type": "code",
   "execution_count": 18,
   "id": "663591f0",
   "metadata": {},
   "outputs": [
    {
     "data": {
      "text/plain": [
       "True"
      ]
     },
     "execution_count": 18,
     "metadata": {},
     "output_type": "execute_result"
    }
   ],
   "source": [
    "\"abc\" != \"Quit\""
   ]
  },
  {
   "cell_type": "code",
   "execution_count": 21,
   "id": "8cf292d1",
   "metadata": {},
   "outputs": [
    {
     "name": "stdout",
     "output_type": "stream",
     "text": [
      "Enter the name (use 'Quit' to stop :amit\n",
      "loop is true\n",
      "Enter the name (use 'Quit' to stop :Quit\n"
     ]
    }
   ],
   "source": [
    "name = \"\"\n",
    "\n",
    "while name != \"Quit\":\n",
    "    name = input(\"Enter the name (use 'Quit' to stop :\")\n",
    "    if name != \"Quit\":\n",
    "        print(\"loop is true\")\n",
    "     "
   ]
  },
  {
   "cell_type": "code",
   "execution_count": 22,
   "id": "1c7ee079",
   "metadata": {},
   "outputs": [
    {
     "name": "stdout",
     "output_type": "stream",
     "text": [
      "1\n",
      "2\n",
      "3\n",
      "4\n",
      "4\n",
      "5\n",
      "5\n",
      "6\n",
      "6\n",
      "7\n"
     ]
    }
   ],
   "source": [
    "# Example\n",
    "i = 0           #iteration variable initialized\n",
    "while i < 7:    # condition is evaluated \n",
    "    if i > 3 :   \n",
    "        print(i)    # block statements are executed until the condition is true and iteration variable is less that 3\n",
    "    i = i + 1\n",
    "    print(i)"
   ]
  },
  {
   "cell_type": "code",
   "execution_count": 23,
   "id": "dd24c189",
   "metadata": {},
   "outputs": [
    {
     "name": "stdout",
     "output_type": "stream",
     "text": [
      "0\n",
      "1\n",
      "2\n",
      "3\n",
      "4\n"
     ]
    }
   ],
   "source": [
    "l1 = [0,1,2,3,4, \"py\", \"java\"]\n",
    "\n",
    "for i in l1:\n",
    "    if type(i) == str:\n",
    "        break\n",
    "    print(i)"
   ]
  },
  {
   "cell_type": "code",
   "execution_count": 24,
   "id": "248e7a92",
   "metadata": {},
   "outputs": [
    {
     "name": "stdout",
     "output_type": "stream",
     "text": [
      "0\n",
      "1\n",
      "2\n",
      "3\n",
      "4\n",
      "py\n",
      "java\n"
     ]
    }
   ],
   "source": [
    "l1 = [0,1,2,3,4, \"py\", \"java\"]\n",
    "\n",
    "for i in l1:\n",
    "    if type(i) == str:\n",
    "        pass\n",
    "    print(i)"
   ]
  },
  {
   "cell_type": "code",
   "execution_count": 26,
   "id": "c42a8898",
   "metadata": {},
   "outputs": [
    {
     "name": "stdout",
     "output_type": "stream",
     "text": [
      "0\n",
      "1\n",
      "2\n",
      "3\n",
      "4\n",
      "5\n",
      "6\n"
     ]
    }
   ],
   "source": [
    "l1 = [0,1,2,3,4, \"py\", \"java\", 5, 6]\n",
    "\n",
    "for i in l1:\n",
    "    if type(i) == str:\n",
    "        continue\n",
    "    print(i)"
   ]
  },
  {
   "cell_type": "code",
   "execution_count": 29,
   "id": "b35840c4",
   "metadata": {},
   "outputs": [
    {
     "name": "stdout",
     "output_type": "stream",
     "text": [
      "0\n",
      "1\n",
      "2\n",
      "3\n",
      "4\n",
      "5\n",
      "5\n",
      "6\n"
     ]
    }
   ],
   "source": [
    "l1 = [0,1,2,3,4, \"py\", \"java\", 5, 6]\n",
    "\n",
    "for i in l1:\n",
    "    if type(i) == str:\n",
    "        continue\n",
    "    if i == 5:\n",
    "        print(i)\n",
    "    print(i)"
   ]
  },
  {
   "cell_type": "code",
   "execution_count": 28,
   "id": "f1cc48f2",
   "metadata": {},
   "outputs": [
    {
     "name": "stdout",
     "output_type": "stream",
     "text": [
      "0\n",
      "1\n",
      "2\n",
      "py\n",
      "py\n",
      "java\n",
      "5\n",
      "6\n"
     ]
    }
   ],
   "source": [
    "l1 = [0,1,2, \"py\", \"java\", 5, 6]\n",
    "\n",
    "for i in l1:\n",
    "    if i == \"py\":\n",
    "        print(i)\n",
    "    print(i)"
   ]
  },
  {
   "cell_type": "code",
   "execution_count": 31,
   "id": "c142e865",
   "metadata": {},
   "outputs": [
    {
     "name": "stdout",
     "output_type": "stream",
     "text": [
      "Enter the stmt (Use 'Quit' to stop )#amit\n",
      "Enter the stmt (Use 'Quit' to stop )#Quit\n",
      "Enter the stmt (Use 'Quit' to stop )Quit\n",
      "Quit\n"
     ]
    }
   ],
   "source": [
    "s = \"\"\n",
    "\n",
    "while s != 'Quit':\n",
    "    s = input(\"Enter the stmt (Use 'Quit' to stop )\")\n",
    "    if s.startswith(\"#\") :\n",
    "        continue\n",
    "    if len(s) > 0 :\n",
    "        print(s)"
   ]
  },
  {
   "cell_type": "code",
   "execution_count": 35,
   "id": "0cc1e63a",
   "metadata": {},
   "outputs": [],
   "source": [
    "a = \"\"\n",
    "\n",
    "while a == 'Quit':\n",
    "    a = input(\"Enter the stmt (Use 'Quit' to stop )\")\n",
    "    if a.startswith(\"#\") :\n",
    "        continue\n",
    "    if len(a) > 0 :\n",
    "        print(a)"
   ]
  },
  {
   "cell_type": "code",
   "execution_count": 36,
   "id": "1e229362",
   "metadata": {},
   "outputs": [
    {
     "name": "stdout",
     "output_type": "stream",
     "text": [
      "(i)   0 (number)  1\n",
      "(i)   1 (number)  2\n",
      "(i)   2 (number)  3\n",
      "(i)   3 (number)  4\n",
      "(i)   4 (number)  5\n"
     ]
    }
   ],
   "source": [
    "for i in range(5):\n",
    "    print(\"(i)  \", i, \"(number) \" , i+1)"
   ]
  },
  {
   "cell_type": "code",
   "execution_count": 38,
   "id": "7b648f80",
   "metadata": {},
   "outputs": [
    {
     "name": "stdout",
     "output_type": "stream",
     "text": [
      "99\n",
      "94\n",
      "89\n",
      "84\n",
      "79\n",
      "74\n",
      "69\n",
      "64\n",
      "59\n",
      "54\n"
     ]
    }
   ],
   "source": [
    "for i in range(99, 50, -5):\n",
    "    print(i)"
   ]
  },
  {
   "cell_type": "code",
   "execution_count": 40,
   "id": "51e7d08e",
   "metadata": {},
   "outputs": [
    {
     "data": {
      "text/plain": [
       "8"
      ]
     },
     "execution_count": 40,
     "metadata": {},
     "output_type": "execute_result"
    }
   ],
   "source": [
    "scores = [23, 34, 12, 34, 45,\"\" ,\"\" ,\"\" ]\n",
    "length = len(scores)\n",
    "length"
   ]
  },
  {
   "cell_type": "code",
   "execution_count": 41,
   "id": "33238eeb",
   "metadata": {},
   "outputs": [
    {
     "name": "stdout",
     "output_type": "stream",
     "text": [
      "23\n",
      "34\n",
      "12\n",
      "34\n",
      "45\n",
      "\n",
      "\n",
      "\n"
     ]
    }
   ],
   "source": [
    "for i in range(length):\n",
    "    print(scores[i])"
   ]
  },
  {
   "cell_type": "code",
   "execution_count": 42,
   "id": "a627ebcf",
   "metadata": {},
   "outputs": [
    {
     "name": "stdout",
     "output_type": "stream",
     "text": [
      "45\n",
      "\n",
      "\n",
      "\n"
     ]
    }
   ],
   "source": [
    "for i in range(4, length):\n",
    "    print(scores[i])"
   ]
  },
  {
   "cell_type": "code",
   "execution_count": 43,
   "id": "28db1b7b",
   "metadata": {},
   "outputs": [
    {
     "ename": "TypeError",
     "evalue": "cannot unpack non-iterable int object",
     "output_type": "error",
     "traceback": [
      "\u001b[1;31m---------------------------------------------------------------------------\u001b[0m",
      "\u001b[1;31mTypeError\u001b[0m                                 Traceback (most recent call last)",
      "Cell \u001b[1;32mIn[43], line 3\u001b[0m\n\u001b[0;32m      1\u001b[0m squares \u001b[38;5;241m=\u001b[39m [\u001b[38;5;241m0\u001b[39m, \u001b[38;5;241m1\u001b[39m, \u001b[38;5;241m4\u001b[39m, \u001b[38;5;241m9\u001b[39m, \u001b[38;5;241m16\u001b[39m]\n\u001b[1;32m----> 3\u001b[0m \u001b[38;5;28;01mfor\u001b[39;00m i, j \u001b[38;5;129;01min\u001b[39;00m squares:\n\u001b[0;32m      4\u001b[0m     \u001b[38;5;28mprint\u001b[39m(i,j)\n",
      "\u001b[1;31mTypeError\u001b[0m: cannot unpack non-iterable int object"
     ]
    }
   ],
   "source": [
    "squares = [0, 1, 4, 9, 16]\n",
    "\n",
    "for i, j in squares:\n",
    "    print(i,j)"
   ]
  },
  {
   "cell_type": "code",
   "execution_count": 48,
   "id": "ad5d3138",
   "metadata": {},
   "outputs": [
    {
     "name": "stdout",
     "output_type": "stream",
     "text": [
      "index :  0    value :  0\n",
      "index :  1    value :  1\n",
      "index :  2    value :  2\n",
      "index :  3    value :  3\n",
      "index :  4    value :  4\n"
     ]
    }
   ],
   "source": [
    "squares = [0, 1, 2,3,4]\n",
    "\n",
    "for i, j in enumerate(squares):\n",
    "    print(\"index : \", i, \"  \", \"value : \" , j)"
   ]
  },
  {
   "cell_type": "code",
   "execution_count": 49,
   "id": "d5c68415",
   "metadata": {},
   "outputs": [
    {
     "name": "stdout",
     "output_type": "stream",
     "text": [
      "0 py\n",
      "\n",
      "1 java\n",
      "\n",
      "2 js\n",
      "\n",
      "3 scala\n",
      "\n",
      "4 c++\n",
      "\n",
      "5 html\n",
      "\n"
     ]
    }
   ],
   "source": [
    "list2 = [\"py\", \"java\", \"js\", \"scala\", \"c++\", \"html\"]\n",
    "\n",
    "for i , j in enumerate(list2):\n",
    "    print(i,j)\n",
    "    print()"
   ]
  },
  {
   "cell_type": "code",
   "execution_count": 50,
   "id": "44883ea0",
   "metadata": {},
   "outputs": [
    {
     "name": "stdout",
     "output_type": "stream",
     "text": [
      "1\n",
      "two\n",
      "3.4\n",
      "True\n"
     ]
    }
   ],
   "source": [
    "#iterate over tuple elements directly\n",
    "\n",
    "my_tuple = (1, 'two', 3.4, True)\n",
    "\n",
    "for element in my_tuple:\n",
    "    print(element)"
   ]
  },
  {
   "cell_type": "code",
   "execution_count": 51,
   "id": "8f9e78d9",
   "metadata": {},
   "outputs": [
    {
     "name": "stdout",
     "output_type": "stream",
     "text": [
      "('key1', 'value1')\n",
      "('key2', 'value2')\n"
     ]
    }
   ],
   "source": [
    "my_dict = {\"key1\": \"value1\", \"key2\":\"value2\"}\n",
    "\n",
    "for item in my_dict.items():\n",
    "    print(item)"
   ]
  },
  {
   "cell_type": "code",
   "execution_count": 52,
   "id": "10ac5dad",
   "metadata": {},
   "outputs": [
    {
     "name": "stdout",
     "output_type": "stream",
     "text": [
      "key1 value1\n",
      "key2 value2\n"
     ]
    }
   ],
   "source": [
    "my_dict = {\"key1\": \"value1\", \"key2\":\"value2\"}\n",
    "\n",
    "for i, j in my_dict.items():\n",
    "    print(i,j )"
   ]
  },
  {
   "cell_type": "code",
   "execution_count": 56,
   "id": "8973a0e6",
   "metadata": {},
   "outputs": [
    {
     "name": "stdout",
     "output_type": "stream",
     "text": [
      "0 ('key1', 'value1')\n",
      "1 ('key2', 'value2')\n"
     ]
    }
   ],
   "source": [
    "my_dict = {\"key1\": \"value1\", \"key2\":\"value2\"}\n",
    "\n",
    "for i, j in enumerate( my_dict.items()):\n",
    "    print(i, j )"
   ]
  },
  {
   "cell_type": "code",
   "execution_count": 57,
   "id": "90ba7ff8",
   "metadata": {},
   "outputs": [
    {
     "name": "stdout",
     "output_type": "stream",
     "text": [
      "0 value1\n",
      "1 value2\n"
     ]
    }
   ],
   "source": [
    "my_dict = {\"key1\": \"value1\", \"key2\":\"value2\"}\n",
    "\n",
    "for i, j in enumerate( my_dict.values()):\n",
    "    print(i, j )"
   ]
  },
  {
   "cell_type": "code",
   "execution_count": 58,
   "id": "89e8228f",
   "metadata": {},
   "outputs": [],
   "source": [
    "t = (3,23,45,67,2,4,5,6)"
   ]
  },
  {
   "cell_type": "code",
   "execution_count": 59,
   "id": "fc6ce960",
   "metadata": {},
   "outputs": [
    {
     "name": "stdout",
     "output_type": "stream",
     "text": [
      "0 - 3\n",
      "1 - 23\n",
      "2 - 45\n",
      "3 - 67\n",
      "4 - 2\n",
      "5 - 4\n",
      "6 - 5\n",
      "7 - 6\n"
     ]
    }
   ],
   "source": [
    "for i in range(len(t)):\n",
    "    print(i, \"-\", t[i])"
   ]
  },
  {
   "cell_type": "code",
   "execution_count": null,
   "id": "8f137b75",
   "metadata": {},
   "outputs": [],
   "source": []
  }
 ],
 "metadata": {
  "kernelspec": {
   "display_name": "Python 3 (ipykernel)",
   "language": "python",
   "name": "python3"
  },
  "language_info": {
   "codemirror_mode": {
    "name": "ipython",
    "version": 3
   },
   "file_extension": ".py",
   "mimetype": "text/x-python",
   "name": "python",
   "nbconvert_exporter": "python",
   "pygments_lexer": "ipython3",
   "version": "3.11.5"
  }
 },
 "nbformat": 4,
 "nbformat_minor": 5
}
