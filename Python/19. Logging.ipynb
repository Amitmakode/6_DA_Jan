{
 "cells": [
  {
   "cell_type": "code",
   "execution_count": 2,
   "id": "c0f3b7c4",
   "metadata": {},
   "outputs": [],
   "source": [
    "import logging"
   ]
  },
  {
   "cell_type": "code",
   "execution_count": null,
   "id": "55384d36",
   "metadata": {},
   "outputs": [],
   "source": [
    "DEBUG = 10\n",
    "Info = 20\n",
    "Warniing = 30\n",
    "Error = 40\n",
    "Critical = 50"
   ]
  },
  {
   "cell_type": "raw",
   "id": "ebfa1bd7",
   "metadata": {},
   "source": [
    "Debug: These are used to give Detailed information, typically of interest only when diagnosing problems.\n",
    "Info: These are used to confirm that things are working as expected\n",
    "Warning: These are used as an indication that something unexpected happened, or is indicative of some problem in the near future\n",
    "Error: This tells that due to a more serious problem, the software has not been able to perform some function\n",
    "Critical: This tells serious error, indicating that the program itself may be unable to continue running`"
   ]
  },
  {
   "cell_type": "code",
   "execution_count": 6,
   "id": "0b923e97",
   "metadata": {},
   "outputs": [],
   "source": [
    "logging.basicConfig(filename = \"demo.log\", level = logging.INFO, format = \"%(asctime)s %(levelname)s %(message)s\" )"
   ]
  },
  {
   "cell_type": "code",
   "execution_count": 3,
   "id": "5dd192d0",
   "metadata": {},
   "outputs": [],
   "source": [
    "logging.basicConfig(filename =\"logfile.txt\", level = logging.DEBUG, format = \"%(asctime)s %(levelname)s %(message)s\")"
   ]
  },
  {
   "cell_type": "code",
   "execution_count": 4,
   "id": "3d88c556",
   "metadata": {},
   "outputs": [],
   "source": [
    "lis = [1,2,3,4,5]"
   ]
  },
  {
   "cell_type": "code",
   "execution_count": 5,
   "id": "c1a8dd72",
   "metadata": {},
   "outputs": [
    {
     "name": "stdout",
     "output_type": "stream",
     "text": [
      "1\n",
      "2\n",
      "3\n",
      "4\n",
      "5\n"
     ]
    }
   ],
   "source": [
    "try:\n",
    "    logging.info(\"this is my very first logging info\")\n",
    "    for i in lis:\n",
    "        print(i)\n",
    "        logging.info(\"this is my first logging info\")\n",
    "except Exception as e:\n",
    "    print(e)\n",
    "    logging.info(e)"
   ]
  },
  {
   "cell_type": "code",
   "execution_count": 8,
   "id": "eecd0ca1",
   "metadata": {},
   "outputs": [],
   "source": [
    "b = 0 "
   ]
  },
  {
   "cell_type": "code",
   "execution_count": 9,
   "id": "2589cad3",
   "metadata": {},
   "outputs": [
    {
     "name": "stdout",
     "output_type": "stream",
     "text": [
      "division by zero\n"
     ]
    }
   ],
   "source": [
    "try:\n",
    "    logging.debug(\"this debug msg\")\n",
    "    a = 10 \n",
    "    c = a/b\n",
    "    print(c)\n",
    "    logging.info(\"code executed fine\")\n",
    "except Exception as e:\n",
    "    print(e)\n",
    "    logging.info(\"this exception block\")"
   ]
  },
  {
   "cell_type": "code",
   "execution_count": 11,
   "id": "6ebfcd61",
   "metadata": {},
   "outputs": [
    {
     "name": "stdout",
     "output_type": "stream",
     "text": [
      "2 + \"amit\"\n",
      "unsupported operand type(s) for +: 'int' and 'str'\n"
     ]
    },
    {
     "name": "stderr",
     "output_type": "stream",
     "text": [
      "--- Logging error ---\n",
      "Traceback (most recent call last):\n",
      "  File \"C:\\Users\\amitm\\AppData\\Local\\Temp\\ipykernel_1896\\3156091662.py\", line 3, in <module>\n",
      "    a = eval(input())\n",
      "        ^^^^^^^^^^^^^\n",
      "  File \"<string>\", line 1, in <module>\n",
      "TypeError: unsupported operand type(s) for +: 'int' and 'str'\n",
      "\n",
      "During handling of the above exception, another exception occurred:\n",
      "\n",
      "Traceback (most recent call last):\n",
      "  File \"C:\\Users\\amitm\\anaconda3\\Lib\\logging\\__init__.py\", line 1110, in emit\n",
      "    msg = self.format(record)\n",
      "          ^^^^^^^^^^^^^^^^^^^\n",
      "  File \"C:\\Users\\amitm\\anaconda3\\Lib\\logging\\__init__.py\", line 953, in format\n",
      "    return fmt.format(record)\n",
      "           ^^^^^^^^^^^^^^^^^^\n",
      "  File \"C:\\Users\\amitm\\anaconda3\\Lib\\logging\\__init__.py\", line 687, in format\n",
      "    record.message = record.getMessage()\n",
      "                     ^^^^^^^^^^^^^^^^^^^\n",
      "  File \"C:\\Users\\amitm\\anaconda3\\Lib\\logging\\__init__.py\", line 377, in getMessage\n",
      "    msg = msg % self.args\n",
      "          ~~~~^~~~~~~~~~~\n",
      "TypeError: not all arguments converted during string formatting\n",
      "Call stack:\n",
      "  File \"<frozen runpy>\", line 198, in _run_module_as_main\n",
      "  File \"<frozen runpy>\", line 88, in _run_code\n",
      "  File \"C:\\Users\\amitm\\anaconda3\\Lib\\site-packages\\ipykernel_launcher.py\", line 17, in <module>\n",
      "    app.launch_new_instance()\n",
      "  File \"C:\\Users\\amitm\\anaconda3\\Lib\\site-packages\\traitlets\\config\\application.py\", line 992, in launch_instance\n",
      "    app.start()\n",
      "  File \"C:\\Users\\amitm\\anaconda3\\Lib\\site-packages\\ipykernel\\kernelapp.py\", line 736, in start\n",
      "    self.io_loop.start()\n",
      "  File \"C:\\Users\\amitm\\anaconda3\\Lib\\site-packages\\tornado\\platform\\asyncio.py\", line 195, in start\n",
      "    self.asyncio_loop.run_forever()\n",
      "  File \"C:\\Users\\amitm\\anaconda3\\Lib\\asyncio\\base_events.py\", line 607, in run_forever\n",
      "    self._run_once()\n",
      "  File \"C:\\Users\\amitm\\anaconda3\\Lib\\asyncio\\base_events.py\", line 1922, in _run_once\n",
      "    handle._run()\n",
      "  File \"C:\\Users\\amitm\\anaconda3\\Lib\\asyncio\\events.py\", line 80, in _run\n",
      "    self._context.run(self._callback, *self._args)\n",
      "  File \"C:\\Users\\amitm\\anaconda3\\Lib\\site-packages\\ipykernel\\kernelbase.py\", line 516, in dispatch_queue\n",
      "    await self.process_one()\n",
      "  File \"C:\\Users\\amitm\\anaconda3\\Lib\\site-packages\\ipykernel\\kernelbase.py\", line 505, in process_one\n",
      "    await dispatch(*args)\n",
      "  File \"C:\\Users\\amitm\\anaconda3\\Lib\\site-packages\\ipykernel\\kernelbase.py\", line 412, in dispatch_shell\n",
      "    await result\n",
      "  File \"C:\\Users\\amitm\\anaconda3\\Lib\\site-packages\\ipykernel\\kernelbase.py\", line 740, in execute_request\n",
      "    reply_content = await reply_content\n",
      "  File \"C:\\Users\\amitm\\anaconda3\\Lib\\site-packages\\ipykernel\\ipkernel.py\", line 422, in do_execute\n",
      "    res = shell.run_cell(\n",
      "  File \"C:\\Users\\amitm\\anaconda3\\Lib\\site-packages\\ipykernel\\zmqshell.py\", line 546, in run_cell\n",
      "    return super().run_cell(*args, **kwargs)\n",
      "  File \"C:\\Users\\amitm\\anaconda3\\Lib\\site-packages\\IPython\\core\\interactiveshell.py\", line 3024, in run_cell\n",
      "    result = self._run_cell(\n",
      "  File \"C:\\Users\\amitm\\anaconda3\\Lib\\site-packages\\IPython\\core\\interactiveshell.py\", line 3079, in _run_cell\n",
      "    result = runner(coro)\n",
      "  File \"C:\\Users\\amitm\\anaconda3\\Lib\\site-packages\\IPython\\core\\async_helpers.py\", line 129, in _pseudo_sync_runner\n",
      "    coro.send(None)\n",
      "  File \"C:\\Users\\amitm\\anaconda3\\Lib\\site-packages\\IPython\\core\\interactiveshell.py\", line 3284, in run_cell_async\n",
      "    has_raised = await self.run_ast_nodes(code_ast.body, cell_name,\n",
      "  File \"C:\\Users\\amitm\\anaconda3\\Lib\\site-packages\\IPython\\core\\interactiveshell.py\", line 3466, in run_ast_nodes\n",
      "    if await self.run_code(code, result, async_=asy):\n",
      "  File \"C:\\Users\\amitm\\anaconda3\\Lib\\site-packages\\IPython\\core\\interactiveshell.py\", line 3526, in run_code\n",
      "    exec(code_obj, self.user_global_ns, self.user_ns)\n",
      "  File \"C:\\Users\\amitm\\AppData\\Local\\Temp\\ipykernel_1896\\3156091662.py\", line 8, in <module>\n",
      "    logging.info(\"this is my suspicious code\", e)\n",
      "Message: 'this is my suspicious code'\n",
      "Arguments: (TypeError(\"unsupported operand type(s) for +: 'int' and 'str'\"),)\n"
     ]
    }
   ],
   "source": [
    "try:\n",
    "    logging.debug(\"code starting from this\")\n",
    "    a = eval(input())\n",
    "    print(a)\n",
    "    logging.info(\"we are getting calculated value\")\n",
    "except Exception as e:\n",
    "    print(e)\n",
    "    logging.info(\"this is my suspicious code\", e)"
   ]
  },
  {
   "cell_type": "code",
   "execution_count": 12,
   "id": "e9f4d966",
   "metadata": {},
   "outputs": [
    {
     "name": "stdout",
     "output_type": "stream",
     "text": [
      "py\n",
      "invalid literal for int() with base 10: 'py'\n"
     ]
    }
   ],
   "source": [
    "try:\n",
    "    logging.debug(\"code starting from this\")\n",
    "    a = int(input())\n",
    "    logging.info(\"we are getting calculated value\")\n",
    "except Exception as e:\n",
    "    print(e)\n",
    "    logging.info(\"this is my suspicious code\")"
   ]
  },
  {
   "cell_type": "code",
   "execution_count": 13,
   "id": "04a4bfb9",
   "metadata": {},
   "outputs": [
    {
     "name": "stdout",
     "output_type": "stream",
     "text": [
      "java\n",
      "invalid literal for int() with base 10: 'java'\n"
     ]
    }
   ],
   "source": [
    "try:\n",
    "    logging.debug(\"code starting from this\")\n",
    "    a = int(input())\n",
    "    logging.info(\"we are getting calculated value\")\n",
    "except Exception as e:\n",
    "    print(e)\n",
    "    logging.info(e)"
   ]
  },
  {
   "cell_type": "code",
   "execution_count": null,
   "id": "cd2e1d88",
   "metadata": {},
   "outputs": [],
   "source": [
    "class List_s:\n",
    "    logging.info(\"Accessing List_s class\")\n",
    "\n",
    "    def extract_list(self, l):\n",
    "        \"\"\" Extract list entity from collections\"\"\"\n",
    "        logging.info(\"We are in the extract_list function\")\n",
    "        try:\n",
    "            self.l = l\n",
    "            for i in self.l:\n",
    "                if type(i) == list:\n",
    "                    print(i)\n",
    "        except Exception as e:\n",
    "            logging.exception(e, \" Please enter iterable collections like :- lists, tuples, set, dictionary\")\n",
    "\n",
    "    def extract_ineuron(self, m):\n",
    "        \"\"\" Extract 'ineuron' string data from collections\"\"\"\n",
    "        logging.info(\"Inside function Extract_ineuron \")\n",
    "\n",
    "        try:\n",
    "            self.m = m\n",
    "            for i in self.m:\n",
    "                if type(i) != dict:\n",
    "                    for j in i:\n",
    "                        if j == 'ineuron':\n",
    "                            logging.info(j)\n",
    "                            return j\n",
    "                else:\n",
    "                    for j in i:\n",
    "                        if i[j] == 'ineuron':\n",
    "                            logging.info(i[j])\n",
    "                            return i[j]\n",
    "        except Exception as e:\n",
    "            logging.exception(e)\n",
    "\n",
    "    def flat_list(self, l):\n",
    "        \"\"\" To create flat list from nested collection\"\"\"\n",
    "        logging.info(\"Inside flat_list function\")\n",
    "        try:\n",
    "            self.l = l\n",
    "            self.p = []\n",
    "            for i in l:\n",
    "                if type(i) != dict:\n",
    "                    logging.info(\"data :- %s\", i)\n",
    "                    self.p.extend(i)\n",
    "                else:\n",
    "                    logging.info(\"values inside dict %s\", i)\n",
    "                    self.p.extend(i.keys())\n",
    "                    self.p.extend(i.values())\n",
    "            return self.p\n",
    "            logging.info(\"Output %s\", p)\n",
    "        except Exception as e:\n",
    "            logging.exception(e)\n",
    "            return e\n",
    "\n",
    "    def print_prime(self):\n",
    "        \"\"\"  To create list of prime numbers between 1 to 1000\"\"\"\n",
    "        logging.info(\"Inside print_prime function\")\n",
    "        try:\n",
    "            self.l = []\n",
    "            for i in range(1, 1000):\n",
    "                c = 0\n",
    "                for j in range(2, i):\n",
    "                    if i % j == 0:\n",
    "                        c = 1\n",
    "                if c != 1:\n",
    "                    self.l.append(i)\n",
    "            logging.info(\"Output %s\",self.l)\n",
    "            return self.l\n",
    "        except Exception as e:\n",
    "            logging.exception(e)\n",
    "            return e"
   ]
  },
  {
   "cell_type": "code",
   "execution_count": null,
   "id": "41721a8d",
   "metadata": {},
   "outputs": [],
   "source": [
    "def extract_list( l):\n",
    "        \"\"\" Extract list entity from collections\"\"\"\n",
    "        logging.info(\"We are in the extract_list function\")\n",
    "        try:\n",
    "            l = l\n",
    "            for i in l:\n",
    "                if type(i) == list:\n",
    "                    print(i)\n",
    "        except Exception as e:\n",
    "            logging.exception(e, \" Please enter iterable collections like :- lists, tuples, set, dictionary\")"
   ]
  }
 ],
 "metadata": {
  "kernelspec": {
   "display_name": "Python 3 (ipykernel)",
   "language": "python",
   "name": "python3"
  },
  "language_info": {
   "codemirror_mode": {
    "name": "ipython",
    "version": 3
   },
   "file_extension": ".py",
   "mimetype": "text/x-python",
   "name": "python",
   "nbconvert_exporter": "python",
   "pygments_lexer": "ipython3",
   "version": "3.11.5"
  }
 },
 "nbformat": 4,
 "nbformat_minor": 5
}
