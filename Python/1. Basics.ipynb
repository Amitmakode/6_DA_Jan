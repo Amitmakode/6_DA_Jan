{
 "cells": [
  {
   "cell_type": "markdown",
   "id": "abbe6028",
   "metadata": {},
   "source": [
    "# data type "
   ]
  },
  {
   "cell_type": "code",
   "execution_count": null,
   "id": "259ab2d4",
   "metadata": {},
   "outputs": [],
   "source": [
    "str = \"   \", 'asdgf67457^#^ '\n",
    "int = 0-9\n",
    "float = 0.5\n",
    "bool = True/False\n",
    "complex = 435 + 6j\n",
    "list = []\n",
    "tuple = ()\n",
    "set = {}\n",
    "dict = {}"
   ]
  },
  {
   "cell_type": "markdown",
   "id": "ff8fb769",
   "metadata": {},
   "source": [
    "# Math/arithmetic operators"
   ]
  },
  {
   "cell_type": "code",
   "execution_count": null,
   "id": "b05210fe",
   "metadata": {},
   "outputs": [],
   "source": [
    "+\n",
    "/\n",
    "-\n",
    "*\n",
    "%\n",
    "**  # for the power"
   ]
  },
  {
   "cell_type": "markdown",
   "id": "e685dcbc",
   "metadata": {},
   "source": [
    "# Logical Operators"
   ]
  },
  {
   "cell_type": "code",
   "execution_count": null,
   "id": "e4d34f4b",
   "metadata": {},
   "outputs": [],
   "source": [
    ">\n",
    "<\n",
    ">=\n",
    "<=\n",
    "==\n",
    "!=\n",
    "and \n",
    "True\n",
    "False"
   ]
  },
  {
   "cell_type": "markdown",
   "id": "28f03018",
   "metadata": {},
   "source": [
    "# variable "
   ]
  },
  {
   "cell_type": "code",
   "execution_count": 1,
   "id": "389b0935",
   "metadata": {},
   "outputs": [],
   "source": [
    "x = 10"
   ]
  },
  {
   "cell_type": "code",
   "execution_count": 3,
   "id": "0734f7e5",
   "metadata": {},
   "outputs": [
    {
     "data": {
      "text/plain": [
       "100"
      ]
     },
     "execution_count": 3,
     "metadata": {},
     "output_type": "execute_result"
    }
   ],
   "source": [
    "x**2"
   ]
  },
  {
   "cell_type": "code",
   "execution_count": 4,
   "id": "4ed7dc06",
   "metadata": {},
   "outputs": [],
   "source": [
    "x = 5"
   ]
  },
  {
   "cell_type": "code",
   "execution_count": 5,
   "id": "672fc703",
   "metadata": {},
   "outputs": [
    {
     "data": {
      "text/plain": [
       "5"
      ]
     },
     "execution_count": 5,
     "metadata": {},
     "output_type": "execute_result"
    }
   ],
   "source": [
    "x"
   ]
  },
  {
   "cell_type": "code",
   "execution_count": 6,
   "id": "aaaaac38",
   "metadata": {},
   "outputs": [],
   "source": [
    "x=10"
   ]
  },
  {
   "cell_type": "code",
   "execution_count": 8,
   "id": "61c442d2",
   "metadata": {},
   "outputs": [
    {
     "data": {
      "text/plain": [
       "int"
      ]
     },
     "execution_count": 8,
     "metadata": {},
     "output_type": "execute_result"
    }
   ],
   "source": [
    "type(x)"
   ]
  },
  {
   "cell_type": "code",
   "execution_count": 9,
   "id": "b032b617",
   "metadata": {},
   "outputs": [],
   "source": [
    "x = \"hello\""
   ]
  },
  {
   "cell_type": "code",
   "execution_count": 10,
   "id": "62460cae",
   "metadata": {},
   "outputs": [
    {
     "data": {
      "text/plain": [
       "str"
      ]
     },
     "execution_count": 10,
     "metadata": {},
     "output_type": "execute_result"
    }
   ],
   "source": [
    "type(x)"
   ]
  },
  {
   "cell_type": "code",
   "execution_count": 11,
   "id": "42cd5fcd",
   "metadata": {},
   "outputs": [],
   "source": [
    "name = \"amit\""
   ]
  },
  {
   "cell_type": "code",
   "execution_count": 12,
   "id": "046915e9",
   "metadata": {},
   "outputs": [
    {
     "data": {
      "text/plain": [
       "'amit'"
      ]
     },
     "execution_count": 12,
     "metadata": {},
     "output_type": "execute_result"
    }
   ],
   "source": [
    "name"
   ]
  },
  {
   "cell_type": "code",
   "execution_count": 15,
   "id": "9945220f",
   "metadata": {},
   "outputs": [
    {
     "ename": "SyntaxError",
     "evalue": "invalid decimal literal (3928191300.py, line 1)",
     "output_type": "error",
     "traceback": [
      "\u001b[1;36m  Cell \u001b[1;32mIn[15], line 1\u001b[1;36m\u001b[0m\n\u001b[1;33m    1name = \"amit\"\u001b[0m\n\u001b[1;37m    ^\u001b[0m\n\u001b[1;31mSyntaxError\u001b[0m\u001b[1;31m:\u001b[0m invalid decimal literal\n"
     ]
    }
   ],
   "source": [
    "1name = \"amit\""
   ]
  },
  {
   "cell_type": "code",
   "execution_count": 16,
   "id": "25aea24f",
   "metadata": {},
   "outputs": [],
   "source": [
    "name1 = \"amit\""
   ]
  },
  {
   "cell_type": "code",
   "execution_count": 18,
   "id": "0eb7860e",
   "metadata": {},
   "outputs": [
    {
     "data": {
      "text/plain": [
       "'amit'"
      ]
     },
     "execution_count": 18,
     "metadata": {},
     "output_type": "execute_result"
    }
   ],
   "source": [
    "name1"
   ]
  },
  {
   "cell_type": "code",
   "execution_count": 20,
   "id": "47e049c0",
   "metadata": {},
   "outputs": [],
   "source": [
    "a1 = \"amit\""
   ]
  },
  {
   "cell_type": "code",
   "execution_count": 21,
   "id": "06a5c14f",
   "metadata": {},
   "outputs": [
    {
     "data": {
      "text/plain": [
       "'amit'"
      ]
     },
     "execution_count": 21,
     "metadata": {},
     "output_type": "execute_result"
    }
   ],
   "source": [
    "a1"
   ]
  },
  {
   "cell_type": "code",
   "execution_count": 22,
   "id": "71b14295",
   "metadata": {},
   "outputs": [
    {
     "ename": "SyntaxError",
     "evalue": "cannot assign to literal here. Maybe you meant '==' instead of '='? (954569303.py, line 1)",
     "output_type": "error",
     "traceback": [
      "\u001b[1;36m  Cell \u001b[1;32mIn[22], line 1\u001b[1;36m\u001b[0m\n\u001b[1;33m    23 = \"amit\"\u001b[0m\n\u001b[1;37m    ^\u001b[0m\n\u001b[1;31mSyntaxError\u001b[0m\u001b[1;31m:\u001b[0m cannot assign to literal here. Maybe you meant '==' instead of '='?\n"
     ]
    }
   ],
   "source": [
    "23 = \"amit\""
   ]
  },
  {
   "cell_type": "code",
   "execution_count": 23,
   "id": "2fd6cd38",
   "metadata": {},
   "outputs": [
    {
     "ename": "SyntaxError",
     "evalue": "invalid syntax (449341702.py, line 1)",
     "output_type": "error",
     "traceback": [
      "\u001b[1;36m  Cell \u001b[1;32mIn[23], line 1\u001b[1;36m\u001b[0m\n\u001b[1;33m    name 1 = \"amit\"\u001b[0m\n\u001b[1;37m         ^\u001b[0m\n\u001b[1;31mSyntaxError\u001b[0m\u001b[1;31m:\u001b[0m invalid syntax\n"
     ]
    }
   ],
   "source": [
    "name 1 = \"amit\""
   ]
  },
  {
   "cell_type": "code",
   "execution_count": 24,
   "id": "5a8fcf06",
   "metadata": {},
   "outputs": [],
   "source": [
    "name_1 = \"amit\""
   ]
  },
  {
   "cell_type": "code",
   "execution_count": 25,
   "id": "92e00baa",
   "metadata": {},
   "outputs": [
    {
     "data": {
      "text/plain": [
       "'amit'"
      ]
     },
     "execution_count": 25,
     "metadata": {},
     "output_type": "execute_result"
    }
   ],
   "source": [
    "name_1"
   ]
  },
  {
   "cell_type": "code",
   "execution_count": 27,
   "id": "03b151e9",
   "metadata": {},
   "outputs": [],
   "source": [
    "first_name = \"amit\""
   ]
  },
  {
   "cell_type": "code",
   "execution_count": 28,
   "id": "cf04df44",
   "metadata": {},
   "outputs": [],
   "source": [
    "_ = 345"
   ]
  },
  {
   "cell_type": "code",
   "execution_count": 30,
   "id": "13e2f3dc",
   "metadata": {},
   "outputs": [
    {
     "data": {
      "text/plain": [
       "345"
      ]
     },
     "execution_count": 30,
     "metadata": {},
     "output_type": "execute_result"
    }
   ],
   "source": [
    "_"
   ]
  },
  {
   "cell_type": "code",
   "execution_count": 31,
   "id": "e18bb75b",
   "metadata": {},
   "outputs": [],
   "source": [
    "_abc = 78"
   ]
  },
  {
   "cell_type": "code",
   "execution_count": 32,
   "id": "e411ccd0",
   "metadata": {},
   "outputs": [
    {
     "data": {
      "text/plain": [
       "78"
      ]
     },
     "execution_count": 32,
     "metadata": {},
     "output_type": "execute_result"
    }
   ],
   "source": [
    "_abc"
   ]
  },
  {
   "cell_type": "markdown",
   "id": "2b27f700",
   "metadata": {},
   "source": [
    "# data typecasting"
   ]
  },
  {
   "cell_type": "code",
   "execution_count": 33,
   "id": "83df5781",
   "metadata": {},
   "outputs": [],
   "source": [
    "var = \"sharwari\""
   ]
  },
  {
   "cell_type": "code",
   "execution_count": 34,
   "id": "c4b6a617",
   "metadata": {},
   "outputs": [
    {
     "data": {
      "text/plain": [
       "str"
      ]
     },
     "execution_count": 34,
     "metadata": {},
     "output_type": "execute_result"
    }
   ],
   "source": [
    "type(var)"
   ]
  },
  {
   "cell_type": "code",
   "execution_count": 35,
   "id": "8d7b68c8",
   "metadata": {},
   "outputs": [
    {
     "data": {
      "text/plain": [
       "'sharwari'"
      ]
     },
     "execution_count": 35,
     "metadata": {},
     "output_type": "execute_result"
    }
   ],
   "source": [
    "var"
   ]
  },
  {
   "cell_type": "code",
   "execution_count": 36,
   "id": "d23e064e",
   "metadata": {},
   "outputs": [
    {
     "ename": "ValueError",
     "evalue": "invalid literal for int() with base 10: 'sharwari'",
     "output_type": "error",
     "traceback": [
      "\u001b[1;31m---------------------------------------------------------------------------\u001b[0m",
      "\u001b[1;31mValueError\u001b[0m                                Traceback (most recent call last)",
      "Cell \u001b[1;32mIn[36], line 1\u001b[0m\n\u001b[1;32m----> 1\u001b[0m \u001b[38;5;28mint\u001b[39m(var)\n",
      "\u001b[1;31mValueError\u001b[0m: invalid literal for int() with base 10: 'sharwari'"
     ]
    }
   ],
   "source": [
    "int(var)"
   ]
  },
  {
   "cell_type": "code",
   "execution_count": 37,
   "id": "2932662b",
   "metadata": {},
   "outputs": [
    {
     "data": {
      "text/plain": [
       "['s', 'h', 'a', 'r', 'w', 'a', 'r', 'i']"
      ]
     },
     "execution_count": 37,
     "metadata": {},
     "output_type": "execute_result"
    }
   ],
   "source": [
    "list(var)"
   ]
  },
  {
   "cell_type": "code",
   "execution_count": 38,
   "id": "726e51a4",
   "metadata": {},
   "outputs": [
    {
     "data": {
      "text/plain": [
       "('s', 'h', 'a', 'r', 'w', 'a', 'r', 'i')"
      ]
     },
     "execution_count": 38,
     "metadata": {},
     "output_type": "execute_result"
    }
   ],
   "source": [
    "tuple(var)"
   ]
  },
  {
   "cell_type": "code",
   "execution_count": 39,
   "id": "fdb790a4",
   "metadata": {},
   "outputs": [
    {
     "data": {
      "text/plain": [
       "{'a', 'h', 'i', 'r', 's', 'w'}"
      ]
     },
     "execution_count": 39,
     "metadata": {},
     "output_type": "execute_result"
    }
   ],
   "source": [
    "set(var)"
   ]
  },
  {
   "cell_type": "code",
   "execution_count": 40,
   "id": "be46c50c",
   "metadata": {},
   "outputs": [],
   "source": [
    "var1 =  5690"
   ]
  },
  {
   "cell_type": "code",
   "execution_count": 41,
   "id": "eec32ced",
   "metadata": {},
   "outputs": [
    {
     "data": {
      "text/plain": [
       "int"
      ]
     },
     "execution_count": 41,
     "metadata": {},
     "output_type": "execute_result"
    }
   ],
   "source": [
    "type(var1)"
   ]
  },
  {
   "cell_type": "code",
   "execution_count": 42,
   "id": "ff98a1fe",
   "metadata": {},
   "outputs": [
    {
     "data": {
      "text/plain": [
       "'5690'"
      ]
     },
     "execution_count": 42,
     "metadata": {},
     "output_type": "execute_result"
    }
   ],
   "source": [
    "str(var1)"
   ]
  },
  {
   "cell_type": "code",
   "execution_count": 43,
   "id": "6edcde62",
   "metadata": {},
   "outputs": [],
   "source": [
    "var2 = \"233\""
   ]
  },
  {
   "cell_type": "code",
   "execution_count": 44,
   "id": "979a4128",
   "metadata": {},
   "outputs": [
    {
     "data": {
      "text/plain": [
       "233"
      ]
     },
     "execution_count": 44,
     "metadata": {},
     "output_type": "execute_result"
    }
   ],
   "source": [
    "int(var2)"
   ]
  },
  {
   "cell_type": "code",
   "execution_count": 51,
   "id": "91036055",
   "metadata": {},
   "outputs": [],
   "source": [
    "var3 = 2\n",
    "var4 = 4"
   ]
  },
  {
   "cell_type": "markdown",
   "id": "4cf502bb",
   "metadata": {},
   "source": [
    "# Built-in function"
   ]
  },
  {
   "cell_type": "code",
   "execution_count": null,
   "id": "11482738",
   "metadata": {},
   "outputs": [],
   "source": [
    "print()\n",
    "len()\n",
    "type()\n",
    "list()\n",
    "tuple()\n",
    "set()\n",
    "input()\n",
    "range()\n",
    "del()\n",
    "max()\n",
    "min()\n",
    "sorted()"
   ]
  },
  {
   "cell_type": "code",
   "execution_count": 60,
   "id": "7719c586",
   "metadata": {},
   "outputs": [],
   "source": [
    "v1 = range(6)"
   ]
  },
  {
   "cell_type": "code",
   "execution_count": 57,
   "id": "6527adb2",
   "metadata": {},
   "outputs": [],
   "source": [
    "v2 = range(2,9)"
   ]
  },
  {
   "cell_type": "code",
   "execution_count": 65,
   "id": "86bc42e9",
   "metadata": {},
   "outputs": [],
   "source": [
    "v3 = range(10,100,5)"
   ]
  },
  {
   "cell_type": "code",
   "execution_count": 61,
   "id": "30cfe43a",
   "metadata": {},
   "outputs": [
    {
     "data": {
      "text/plain": [
       "[0, 1, 2, 3, 4, 5]"
      ]
     },
     "execution_count": 61,
     "metadata": {},
     "output_type": "execute_result"
    }
   ],
   "source": [
    "list(v1)"
   ]
  },
  {
   "cell_type": "code",
   "execution_count": 62,
   "id": "9c93cfef",
   "metadata": {},
   "outputs": [
    {
     "data": {
      "text/plain": [
       "(0, 1, 2, 3, 4, 5)"
      ]
     },
     "execution_count": 62,
     "metadata": {},
     "output_type": "execute_result"
    }
   ],
   "source": [
    "tuple(v1)"
   ]
  },
  {
   "cell_type": "code",
   "execution_count": 63,
   "id": "c963b368",
   "metadata": {},
   "outputs": [
    {
     "data": {
      "text/plain": [
       "[2, 3, 4, 5, 6, 7, 8]"
      ]
     },
     "execution_count": 63,
     "metadata": {},
     "output_type": "execute_result"
    }
   ],
   "source": [
    "list(v2)"
   ]
  },
  {
   "cell_type": "code",
   "execution_count": 66,
   "id": "748309dc",
   "metadata": {},
   "outputs": [
    {
     "data": {
      "text/plain": [
       "[10, 15, 20, 25, 30, 35, 40, 45, 50, 55, 60, 65, 70, 75, 80, 85, 90, 95]"
      ]
     },
     "execution_count": 66,
     "metadata": {},
     "output_type": "execute_result"
    }
   ],
   "source": [
    "list(v3)"
   ]
  },
  {
   "cell_type": "code",
   "execution_count": 67,
   "id": "3d5f4cc1",
   "metadata": {},
   "outputs": [
    {
     "data": {
      "text/plain": [
       "[1000,\n",
       " 3000,\n",
       " 5000,\n",
       " 7000,\n",
       " 9000,\n",
       " 11000,\n",
       " 13000,\n",
       " 15000,\n",
       " 17000,\n",
       " 19000,\n",
       " 21000,\n",
       " 23000,\n",
       " 25000,\n",
       " 27000,\n",
       " 29000,\n",
       " 31000,\n",
       " 33000,\n",
       " 35000,\n",
       " 37000,\n",
       " 39000,\n",
       " 41000,\n",
       " 43000,\n",
       " 45000,\n",
       " 47000,\n",
       " 49000,\n",
       " 51000,\n",
       " 53000,\n",
       " 55000,\n",
       " 57000,\n",
       " 59000,\n",
       " 61000,\n",
       " 63000,\n",
       " 65000,\n",
       " 67000,\n",
       " 69000,\n",
       " 71000,\n",
       " 73000,\n",
       " 75000,\n",
       " 77000,\n",
       " 79000,\n",
       " 81000,\n",
       " 83000,\n",
       " 85000,\n",
       " 87000,\n",
       " 89000,\n",
       " 91000,\n",
       " 93000,\n",
       " 95000,\n",
       " 97000,\n",
       " 99000]"
      ]
     },
     "execution_count": 67,
     "metadata": {},
     "output_type": "execute_result"
    }
   ],
   "source": [
    "list(range(1000, 100000, 2000))"
   ]
  },
  {
   "cell_type": "code",
   "execution_count": 68,
   "id": "ad2e4db9",
   "metadata": {},
   "outputs": [
    {
     "data": {
      "text/plain": [
       "[]"
      ]
     },
     "execution_count": 68,
     "metadata": {},
     "output_type": "execute_result"
    }
   ],
   "source": [
    "list(range(5, 30, -4))"
   ]
  },
  {
   "cell_type": "code",
   "execution_count": 69,
   "id": "47167dcd",
   "metadata": {},
   "outputs": [
    {
     "data": {
      "text/plain": [
       "[-5, -9, -13, -17, -21, -25, -29]"
      ]
     },
     "execution_count": 69,
     "metadata": {},
     "output_type": "execute_result"
    }
   ],
   "source": [
    "list(range(-5, -30, -4))"
   ]
  },
  {
   "cell_type": "code",
   "execution_count": 70,
   "id": "fae021bc",
   "metadata": {},
   "outputs": [
    {
     "data": {
      "text/plain": [
       "[]"
      ]
     },
     "execution_count": 70,
     "metadata": {},
     "output_type": "execute_result"
    }
   ],
   "source": [
    "list(range(-30, -5, -4))"
   ]
  },
  {
   "cell_type": "code",
   "execution_count": 71,
   "id": "c6ff4430",
   "metadata": {},
   "outputs": [
    {
     "data": {
      "text/plain": [
       "[-30, -26, -22, -18, -14, -10, -6]"
      ]
     },
     "execution_count": 71,
     "metadata": {},
     "output_type": "execute_result"
    }
   ],
   "source": [
    "list(range(-30, -5, 4))"
   ]
  },
  {
   "cell_type": "code",
   "execution_count": 72,
   "id": "0110579c",
   "metadata": {},
   "outputs": [
    {
     "data": {
      "text/plain": [
       "[3, 1, -1, -3]"
      ]
     },
     "execution_count": 72,
     "metadata": {},
     "output_type": "execute_result"
    }
   ],
   "source": [
    "list(range(3, -5, -2))"
   ]
  },
  {
   "cell_type": "code",
   "execution_count": 77,
   "id": "f1b15637",
   "metadata": {},
   "outputs": [
    {
     "data": {
      "text/plain": [
       "[-10, -8, -6, -4, -2, 0, 2, 4]"
      ]
     },
     "execution_count": 77,
     "metadata": {},
     "output_type": "execute_result"
    }
   ],
   "source": [
    "list(range(-10, 5, 2))"
   ]
  },
  {
   "cell_type": "code",
   "execution_count": 75,
   "id": "cd4bb499",
   "metadata": {},
   "outputs": [
    {
     "data": {
      "text/plain": [
       "[-10, -9, -8, -7, -6, -5, -4, -3, -2, -1, 0, 1, 2, 3, 4, 5, 6, 7, 8, 9]"
      ]
     },
     "execution_count": 75,
     "metadata": {},
     "output_type": "execute_result"
    }
   ],
   "source": [
    "list(range(-10, 10, 1))"
   ]
  },
  {
   "cell_type": "code",
   "execution_count": null,
   "id": "938c006f",
   "metadata": {},
   "outputs": [],
   "source": [
    "-30,-5-3,-2,-1,0,1,2,3,5,30"
   ]
  }
 ],
 "metadata": {
  "kernelspec": {
   "display_name": "Python 3 (ipykernel)",
   "language": "python",
   "name": "python3"
  },
  "language_info": {
   "codemirror_mode": {
    "name": "ipython",
    "version": 3
   },
   "file_extension": ".py",
   "mimetype": "text/x-python",
   "name": "python",
   "nbconvert_exporter": "python",
   "pygments_lexer": "ipython3",
   "version": "3.11.5"
  }
 },
 "nbformat": 4,
 "nbformat_minor": 5
}
