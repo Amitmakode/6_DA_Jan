{
 "cells": [
  {
   "cell_type": "code",
   "execution_count": 2,
   "id": "bb85b91a",
   "metadata": {},
   "outputs": [],
   "source": [
    "class ineuron:\n",
    "    __students = \"data science\"       #data abstraction \n",
    "\n",
    "    def studetns(self):\n",
    "        print(ineuron.__students)"
   ]
  },
  {
   "cell_type": "code",
   "execution_count": 6,
   "id": "5479c6bd",
   "metadata": {},
   "outputs": [
    {
     "name": "stdout",
     "output_type": "stream",
     "text": [
      "data science\n"
     ]
    }
   ],
   "source": [
    "i = ineuron()\n",
    "i.studetns()\n"
   ]
  },
  {
   "cell_type": "code",
   "execution_count": 7,
   "id": "cd8d4623",
   "metadata": {},
   "outputs": [
    {
     "ename": "AttributeError",
     "evalue": "'ineuron' object has no attribute '__students'",
     "output_type": "error",
     "traceback": [
      "\u001b[1;31m---------------------------------------------------------------------------\u001b[0m",
      "\u001b[1;31mAttributeError\u001b[0m                            Traceback (most recent call last)",
      "Cell \u001b[1;32mIn[7], line 1\u001b[0m\n\u001b[1;32m----> 1\u001b[0m \u001b[38;5;28mprint\u001b[39m(i\u001b[38;5;241m.\u001b[39m__students)\n",
      "\u001b[1;31mAttributeError\u001b[0m: 'ineuron' object has no attribute '__students'"
     ]
    }
   ],
   "source": [
    "print(i.__students)"
   ]
  },
  {
   "cell_type": "code",
   "execution_count": 8,
   "id": "655f6e80",
   "metadata": {},
   "outputs": [
    {
     "name": "stdout",
     "output_type": "stream",
     "text": [
      "data science\n",
      "data science\n"
     ]
    }
   ],
   "source": [
    "i = ineuron()\n",
    "i.studetns()\n",
    "print(i._ineuron__students)"
   ]
  },
  {
   "cell_type": "code",
   "execution_count": null,
   "id": "4ad148ff",
   "metadata": {},
   "outputs": [],
   "source": [
    "*******************************************"
   ]
  },
  {
   "cell_type": "code",
   "execution_count": 23,
   "id": "843004f2",
   "metadata": {},
   "outputs": [],
   "source": [
    "class ineuron:                      # encpsulation \n",
    "    def __init__(self):\n",
    "        self.students1 = \"data science\"\n",
    "\n",
    "    def students(self):\n",
    "        print(self.students1)\n"
   ]
  },
  {
   "cell_type": "code",
   "execution_count": 24,
   "id": "dd83bc5d",
   "metadata": {},
   "outputs": [],
   "source": [
    "i = ineuron()"
   ]
  },
  {
   "cell_type": "code",
   "execution_count": 25,
   "id": "9393c7fd",
   "metadata": {},
   "outputs": [
    {
     "name": "stdout",
     "output_type": "stream",
     "text": [
      "data science\n"
     ]
    }
   ],
   "source": [
    "i.students()"
   ]
  },
  {
   "cell_type": "code",
   "execution_count": 26,
   "id": "297fb252",
   "metadata": {},
   "outputs": [
    {
     "data": {
      "text/plain": [
       "'data science'"
      ]
     },
     "execution_count": 26,
     "metadata": {},
     "output_type": "execute_result"
    }
   ],
   "source": [
    "i.students1"
   ]
  },
  {
   "cell_type": "code",
   "execution_count": 27,
   "id": "155fff8f",
   "metadata": {},
   "outputs": [],
   "source": [
    "i.students1 = \"data analyst\""
   ]
  },
  {
   "cell_type": "code",
   "execution_count": 28,
   "id": "7968d3ad",
   "metadata": {},
   "outputs": [
    {
     "data": {
      "text/plain": [
       "'data analyst'"
      ]
     },
     "execution_count": 28,
     "metadata": {},
     "output_type": "execute_result"
    }
   ],
   "source": [
    "i.students1"
   ]
  },
  {
   "cell_type": "code",
   "execution_count": 29,
   "id": "4acec552",
   "metadata": {},
   "outputs": [],
   "source": [
    "class ineuron1:\n",
    "    def __init__(self):\n",
    "        self.__students1 = \"data science \"\n",
    "\n",
    "    def students(self):\n",
    "        print(self.__students1)\n",
    "        \n",
    "    def student_change(self,new_value):\n",
    "        self.__students1 = new_value"
   ]
  },
  {
   "cell_type": "code",
   "execution_count": 30,
   "id": "a0e9c7f4",
   "metadata": {},
   "outputs": [],
   "source": [
    "i2 = ineuron1()"
   ]
  },
  {
   "cell_type": "code",
   "execution_count": 31,
   "id": "44c92fdf",
   "metadata": {},
   "outputs": [
    {
     "name": "stdout",
     "output_type": "stream",
     "text": [
      "data science \n"
     ]
    }
   ],
   "source": [
    "i2.students()"
   ]
  },
  {
   "cell_type": "code",
   "execution_count": 33,
   "id": "1264bcb4",
   "metadata": {},
   "outputs": [
    {
     "data": {
      "text/plain": [
       "'data science '"
      ]
     },
     "execution_count": 33,
     "metadata": {},
     "output_type": "execute_result"
    }
   ],
   "source": [
    "i2._ineuron1__students1"
   ]
  },
  {
   "cell_type": "code",
   "execution_count": 34,
   "id": "99ea040a",
   "metadata": {},
   "outputs": [],
   "source": [
    "i2.student_change(\"ML\")"
   ]
  },
  {
   "cell_type": "code",
   "execution_count": 36,
   "id": "7339b649",
   "metadata": {},
   "outputs": [
    {
     "name": "stdout",
     "output_type": "stream",
     "text": [
      "ML\n"
     ]
    }
   ],
   "source": [
    "i2.students()"
   ]
  },
  {
   "cell_type": "code",
   "execution_count": 38,
   "id": "bb9c680c",
   "metadata": {},
   "outputs": [
    {
     "data": {
      "text/plain": [
       "'ML'"
      ]
     },
     "execution_count": 38,
     "metadata": {},
     "output_type": "execute_result"
    }
   ],
   "source": [
    "i2._ineuron1__students1"
   ]
  },
  {
   "cell_type": "code",
   "execution_count": 39,
   "id": "0e7c07d8",
   "metadata": {},
   "outputs": [],
   "source": [
    "i2._ineuron1__students1 = \"DL\""
   ]
  },
  {
   "cell_type": "code",
   "execution_count": 41,
   "id": "cee909b1",
   "metadata": {},
   "outputs": [
    {
     "name": "stdout",
     "output_type": "stream",
     "text": [
      "DL\n"
     ]
    }
   ],
   "source": [
    "i2.students()"
   ]
  },
  {
   "cell_type": "code",
   "execution_count": 42,
   "id": "49308316",
   "metadata": {},
   "outputs": [],
   "source": [
    "i2.__students1 = \"AI\""
   ]
  },
  {
   "cell_type": "code",
   "execution_count": 43,
   "id": "5beb67ec",
   "metadata": {},
   "outputs": [
    {
     "name": "stdout",
     "output_type": "stream",
     "text": [
      "DL\n"
     ]
    }
   ],
   "source": [
    "i2.students()"
   ]
  },
  {
   "cell_type": "code",
   "execution_count": null,
   "id": "08fd5d16",
   "metadata": {},
   "outputs": [],
   "source": [
    "**************************************************"
   ]
  },
  {
   "cell_type": "code",
   "execution_count": 44,
   "id": "6612d96c",
   "metadata": {},
   "outputs": [],
   "source": [
    "class ineuron:\n",
    "    def students(self):\n",
    "        print(\"print a students details \")\n",
    "\n",
    "class class_type :\n",
    "    def student(self):\n",
    "        print(\"print the class type of students\")"
   ]
  },
  {
   "cell_type": "code",
   "execution_count": 45,
   "id": "7770e9af",
   "metadata": {},
   "outputs": [],
   "source": [
    "def ineuron_external(a,b):      \n",
    "    a.students()\n",
    "    b.student()"
   ]
  },
  {
   "cell_type": "code",
   "execution_count": null,
   "id": "313cc601",
   "metadata": {},
   "outputs": [],
   "source": []
  },
  {
   "cell_type": "code",
   "execution_count": null,
   "id": "0d9fc784",
   "metadata": {},
   "outputs": [],
   "source": [
    "# class = atributes\n",
    "# __inti__ = constructor\n",
    "# self = pointer\n",
    "# def = method\n",
    "# package  (directory) \n",
    "# module   (file)\n",
    "# class  \n",
    "# method\n",
    "# inheritence\n",
    "# multilevel inheritence\n",
    "# multiple inheritence\n",
    "# overide method\n",
    "# public\n",
    "# private\n",
    "# protective\n",
    "# encapsulation\n",
    "# data abstraction\n",
    "# polymorphism"
   ]
  }
 ],
 "metadata": {
  "kernelspec": {
   "display_name": "Python 3 (ipykernel)",
   "language": "python",
   "name": "python3"
  },
  "language_info": {
   "codemirror_mode": {
    "name": "ipython",
    "version": 3
   },
   "file_extension": ".py",
   "mimetype": "text/x-python",
   "name": "python",
   "nbconvert_exporter": "python",
   "pygments_lexer": "ipython3",
   "version": "3.11.5"
  }
 },
 "nbformat": 4,
 "nbformat_minor": 5
}
