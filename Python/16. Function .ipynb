{
 "cells": [
  {
   "cell_type": "code",
   "execution_count": 2,
   "id": "734def0b",
   "metadata": {},
   "outputs": [],
   "source": [
    "def test1():\n",
    "    name = input(\"enter a name \")\n",
    "    return name"
   ]
  },
  {
   "cell_type": "code",
   "execution_count": 3,
   "id": "46583d5e",
   "metadata": {},
   "outputs": [
    {
     "name": "stdout",
     "output_type": "stream",
     "text": [
      "enter a name amit\n"
     ]
    },
    {
     "data": {
      "text/plain": [
       "'amit'"
      ]
     },
     "execution_count": 3,
     "metadata": {},
     "output_type": "execute_result"
    }
   ],
   "source": [
    "test1()\n"
   ]
  },
  {
   "cell_type": "code",
   "execution_count": 4,
   "id": "e1c18e16",
   "metadata": {},
   "outputs": [],
   "source": [
    "def test2(a):\n",
    "    b = a +10\n",
    "    return b\n",
    "    "
   ]
  },
  {
   "cell_type": "code",
   "execution_count": 6,
   "id": "cad257ee",
   "metadata": {},
   "outputs": [
    {
     "data": {
      "text/plain": [
       "20"
      ]
     },
     "execution_count": 6,
     "metadata": {},
     "output_type": "execute_result"
    }
   ],
   "source": [
    "test2(10)"
   ]
  },
  {
   "cell_type": "code",
   "execution_count": 7,
   "id": "25f5f462",
   "metadata": {},
   "outputs": [
    {
     "ename": "TypeError",
     "evalue": "test2() takes 1 positional argument but 2 were given",
     "output_type": "error",
     "traceback": [
      "\u001b[1;31m---------------------------------------------------------------------------\u001b[0m",
      "\u001b[1;31mTypeError\u001b[0m                                 Traceback (most recent call last)",
      "Cell \u001b[1;32mIn[7], line 1\u001b[0m\n\u001b[1;32m----> 1\u001b[0m test2(\u001b[38;5;241m10\u001b[39m,\u001b[38;5;241m20\u001b[39m)\n",
      "\u001b[1;31mTypeError\u001b[0m: test2() takes 1 positional argument but 2 were given"
     ]
    }
   ],
   "source": [
    "test2(10,20)"
   ]
  },
  {
   "cell_type": "code",
   "execution_count": 10,
   "id": "88bf9175",
   "metadata": {},
   "outputs": [
    {
     "name": "stdout",
     "output_type": "stream",
     "text": [
      "3 amit\n"
     ]
    }
   ],
   "source": [
    "print(3, \"amit\")"
   ]
  },
  {
   "cell_type": "code",
   "execution_count": 11,
   "id": "ae1f2198",
   "metadata": {},
   "outputs": [
    {
     "ename": "TypeError",
     "evalue": "type() takes 1 or 3 arguments",
     "output_type": "error",
     "traceback": [
      "\u001b[1;31m---------------------------------------------------------------------------\u001b[0m",
      "\u001b[1;31mTypeError\u001b[0m                                 Traceback (most recent call last)",
      "Cell \u001b[1;32mIn[11], line 1\u001b[0m\n\u001b[1;32m----> 1\u001b[0m \u001b[38;5;28mtype\u001b[39m()\n",
      "\u001b[1;31mTypeError\u001b[0m: type() takes 1 or 3 arguments"
     ]
    }
   ],
   "source": [
    "type()"
   ]
  },
  {
   "cell_type": "code",
   "execution_count": 12,
   "id": "60a40318",
   "metadata": {},
   "outputs": [
    {
     "ename": "TypeError",
     "evalue": "len() takes exactly one argument (0 given)",
     "output_type": "error",
     "traceback": [
      "\u001b[1;31m---------------------------------------------------------------------------\u001b[0m",
      "\u001b[1;31mTypeError\u001b[0m                                 Traceback (most recent call last)",
      "Cell \u001b[1;32mIn[12], line 1\u001b[0m\n\u001b[1;32m----> 1\u001b[0m \u001b[38;5;28mlen\u001b[39m()\n",
      "\u001b[1;31mTypeError\u001b[0m: len() takes exactly one argument (0 given)"
     ]
    }
   ],
   "source": [
    "len()"
   ]
  },
  {
   "cell_type": "markdown",
   "id": "1cafd97a",
   "metadata": {},
   "source": [
    "### arguments"
   ]
  },
  {
   "cell_type": "code",
   "execution_count": null,
   "id": "972e3964",
   "metadata": {},
   "outputs": [],
   "source": [
    "1. positional arguments\n",
    "2. non keyword arguments  = args\n",
    "3. keyword arguments     = kwargs"
   ]
  },
  {
   "cell_type": "code",
   "execution_count": 21,
   "id": "48961a6e",
   "metadata": {},
   "outputs": [],
   "source": [
    "def test3(*a):\n",
    "    b = a \n",
    "    return b"
   ]
  },
  {
   "cell_type": "code",
   "execution_count": 24,
   "id": "d1367eb1",
   "metadata": {},
   "outputs": [
    {
     "data": {
      "text/plain": [
       "()"
      ]
     },
     "execution_count": 24,
     "metadata": {},
     "output_type": "execute_result"
    }
   ],
   "source": [
    "test3()"
   ]
  },
  {
   "cell_type": "code",
   "execution_count": 25,
   "id": "300db836",
   "metadata": {},
   "outputs": [],
   "source": [
    "def test4(**a):\n",
    "    return a"
   ]
  },
  {
   "cell_type": "code",
   "execution_count": 30,
   "id": "d3f9f3ca",
   "metadata": {},
   "outputs": [
    {
     "data": {
      "text/plain": [
       "{'name': '56', 'age': 56}"
      ]
     },
     "execution_count": 30,
     "metadata": {},
     "output_type": "execute_result"
    }
   ],
   "source": [
    "test4(name = \"56\", age = 56)"
   ]
  },
  {
   "cell_type": "code",
   "execution_count": 31,
   "id": "c732d791",
   "metadata": {},
   "outputs": [],
   "source": [
    "def test5(a, b):\n",
    "    c = a*b\n",
    "    return c"
   ]
  },
  {
   "cell_type": "code",
   "execution_count": 33,
   "id": "2cde62ae",
   "metadata": {},
   "outputs": [
    {
     "data": {
      "text/plain": [
       "24"
      ]
     },
     "execution_count": 33,
     "metadata": {},
     "output_type": "execute_result"
    }
   ],
   "source": [
    "test5(4, 6)"
   ]
  },
  {
   "cell_type": "code",
   "execution_count": 36,
   "id": "555b46a6",
   "metadata": {},
   "outputs": [],
   "source": [
    "def test6(a,b):\n",
    "    c = a/b\n",
    "    d = c**3\n",
    "    return int(d)"
   ]
  },
  {
   "cell_type": "code",
   "execution_count": 37,
   "id": "987f8fbc",
   "metadata": {},
   "outputs": [
    {
     "data": {
      "text/plain": [
       "8000"
      ]
     },
     "execution_count": 37,
     "metadata": {},
     "output_type": "execute_result"
    }
   ],
   "source": [
    "test6(100, 5)"
   ]
  },
  {
   "cell_type": "code",
   "execution_count": 39,
   "id": "c83b3d81",
   "metadata": {},
   "outputs": [],
   "source": [
    "def test7(*a, b):\n",
    "    c = a+a+a\n",
    "    return c, b"
   ]
  },
  {
   "cell_type": "code",
   "execution_count": 45,
   "id": "a64582f8",
   "metadata": {},
   "outputs": [
    {
     "ename": "TypeError",
     "evalue": "test7() missing 1 required keyword-only argument: 'b'",
     "output_type": "error",
     "traceback": [
      "\u001b[1;31m---------------------------------------------------------------------------\u001b[0m",
      "\u001b[1;31mTypeError\u001b[0m                                 Traceback (most recent call last)",
      "Cell \u001b[1;32mIn[45], line 1\u001b[0m\n\u001b[1;32m----> 1\u001b[0m test7(\u001b[38;5;241m5\u001b[39m, \u001b[38;5;241m8\u001b[39m)\n",
      "\u001b[1;31mTypeError\u001b[0m: test7() missing 1 required keyword-only argument: 'b'"
     ]
    }
   ],
   "source": [
    "test7(5, 8)"
   ]
  },
  {
   "cell_type": "code",
   "execution_count": 46,
   "id": "ab4f75e5",
   "metadata": {},
   "outputs": [],
   "source": [
    "def test8(a, *b):\n",
    "    c = a+a+a\n",
    "    return c, b"
   ]
  },
  {
   "cell_type": "code",
   "execution_count": 50,
   "id": "c8bdcc4f",
   "metadata": {},
   "outputs": [
    {
     "data": {
      "text/plain": [
       "(99, (44, 66, 77, 88))"
      ]
     },
     "execution_count": 50,
     "metadata": {},
     "output_type": "execute_result"
    }
   ],
   "source": [
    "test8( 33, 44, 66, 77, 88)"
   ]
  },
  {
   "cell_type": "code",
   "execution_count": 52,
   "id": "a08639bf",
   "metadata": {},
   "outputs": [],
   "source": [
    "def test9(c, *a, **b):\n",
    "    return c, a, b"
   ]
  },
  {
   "cell_type": "code",
   "execution_count": 54,
   "id": "3279dd3a",
   "metadata": {},
   "outputs": [
    {
     "data": {
      "text/plain": [
       "('py', (), {})"
      ]
     },
     "execution_count": 54,
     "metadata": {},
     "output_type": "execute_result"
    }
   ],
   "source": [
    "test9(\"py\")"
   ]
  },
  {
   "cell_type": "code",
   "execution_count": 55,
   "id": "bc484886",
   "metadata": {},
   "outputs": [
    {
     "data": {
      "text/plain": [
       "('py', (4,), {})"
      ]
     },
     "execution_count": 55,
     "metadata": {},
     "output_type": "execute_result"
    }
   ],
   "source": [
    "test9(\"py\", 4)"
   ]
  },
  {
   "cell_type": "code",
   "execution_count": 56,
   "id": "54943d0a",
   "metadata": {},
   "outputs": [
    {
     "data": {
      "text/plain": [
       "('py', (4, 'java'), {})"
      ]
     },
     "execution_count": 56,
     "metadata": {},
     "output_type": "execute_result"
    }
   ],
   "source": [
    "test9(\"py\", 4, \"java\")"
   ]
  },
  {
   "cell_type": "code",
   "execution_count": 57,
   "id": "052af60f",
   "metadata": {},
   "outputs": [
    {
     "data": {
      "text/plain": [
       "('py', (4, 'java'), {'lag': 'js'})"
      ]
     },
     "execution_count": 57,
     "metadata": {},
     "output_type": "execute_result"
    }
   ],
   "source": [
    "test9(\"py\", 4, \"java\", lag = \"js\")"
   ]
  },
  {
   "cell_type": "code",
   "execution_count": 61,
   "id": "7ce4530b",
   "metadata": {},
   "outputs": [],
   "source": [
    "def test10(a):\n",
    "    for i in a:\n",
    "        print(i) "
   ]
  },
  {
   "cell_type": "code",
   "execution_count": 62,
   "id": "873d4d1f",
   "metadata": {},
   "outputs": [
    {
     "name": "stdout",
     "output_type": "stream",
     "text": [
      "a\n",
      "m\n",
      "i\n",
      "t\n"
     ]
    }
   ],
   "source": [
    "test10(\"amit\")"
   ]
  },
  {
   "cell_type": "code",
   "execution_count": null,
   "id": "e3f3af5a",
   "metadata": {},
   "outputs": [],
   "source": [
    "def test11(a):\n",
    "    for i in a:\n",
    "        return i "
   ]
  },
  {
   "cell_type": "code",
   "execution_count": 63,
   "id": "8a9435ac",
   "metadata": {},
   "outputs": [],
   "source": [
    "def percent(principle, percent):\n",
    "    b = principle * (percent/100)\n",
    "    return b"
   ]
  },
  {
   "cell_type": "code",
   "execution_count": 65,
   "id": "f3fdc2de",
   "metadata": {},
   "outputs": [
    {
     "data": {
      "text/plain": [
       "3300.0"
      ]
     },
     "execution_count": 65,
     "metadata": {},
     "output_type": "execute_result"
    }
   ],
   "source": [
    "percent(10000, 33)"
   ]
  },
  {
   "cell_type": "code",
   "execution_count": 66,
   "id": "37fd0052",
   "metadata": {},
   "outputs": [
    {
     "data": {
      "text/plain": [
       "16900.0"
      ]
     },
     "execution_count": 66,
     "metadata": {},
     "output_type": "execute_result"
    }
   ],
   "source": [
    "percent(25000, 67.6)"
   ]
  },
  {
   "cell_type": "code",
   "execution_count": 67,
   "id": "d6daccf2",
   "metadata": {},
   "outputs": [
    {
     "data": {
      "text/plain": [
       "25"
      ]
     },
     "execution_count": 67,
     "metadata": {},
     "output_type": "execute_result"
    }
   ],
   "source": [
    "pow(5, 2)"
   ]
  },
  {
   "cell_type": "code",
   "execution_count": 68,
   "id": "f94af124",
   "metadata": {},
   "outputs": [],
   "source": [
    "def sq(a,b):\n",
    "    c = a**b\n",
    "    return c"
   ]
  },
  {
   "cell_type": "code",
   "execution_count": 72,
   "id": "0e488032",
   "metadata": {},
   "outputs": [
    {
     "data": {
      "text/plain": [
       "429981696"
      ]
     },
     "execution_count": 72,
     "metadata": {},
     "output_type": "execute_result"
    }
   ],
   "source": [
    "sq(12, 8)"
   ]
  },
  {
   "cell_type": "code",
   "execution_count": 73,
   "id": "01e98881",
   "metadata": {},
   "outputs": [],
   "source": [
    "def cube(a):\n",
    "    c = a**3\n",
    "    return c"
   ]
  },
  {
   "cell_type": "code",
   "execution_count": 76,
   "id": "565c13a8",
   "metadata": {},
   "outputs": [
    {
     "data": {
      "text/plain": [
       "1000"
      ]
     },
     "execution_count": 76,
     "metadata": {},
     "output_type": "execute_result"
    }
   ],
   "source": [
    "cube(10)"
   ]
  },
  {
   "cell_type": "code",
   "execution_count": 77,
   "id": "657a2919",
   "metadata": {},
   "outputs": [],
   "source": [
    "def test11(a):\n",
    "    \"\"\"hello this is my first docstring\"\"\"\n",
    "    return a"
   ]
  },
  {
   "cell_type": "code",
   "execution_count": null,
   "id": "e94e6a60",
   "metadata": {},
   "outputs": [],
   "source": [
    "test11()"
   ]
  }
 ],
 "metadata": {
  "kernelspec": {
   "display_name": "Python 3 (ipykernel)",
   "language": "python",
   "name": "python3"
  },
  "language_info": {
   "codemirror_mode": {
    "name": "ipython",
    "version": 3
   },
   "file_extension": ".py",
   "mimetype": "text/x-python",
   "name": "python",
   "nbconvert_exporter": "python",
   "pygments_lexer": "ipython3",
   "version": "3.11.5"
  }
 },
 "nbformat": 4,
 "nbformat_minor": 5
}
