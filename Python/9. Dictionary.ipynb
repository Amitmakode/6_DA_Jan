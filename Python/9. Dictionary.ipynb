{
 "cells": [
  {
   "cell_type": "code",
   "execution_count": 1,
   "id": "546efd83",
   "metadata": {},
   "outputs": [
    {
     "data": {
      "text/plain": [
       "'Oct'"
      ]
     },
     "execution_count": 1,
     "metadata": {},
     "output_type": "execute_result"
    }
   ],
   "source": [
    "month_list = ['Jan', 'Feb', 'Mar', 'Apr', \"May\", 'Jun', 'Jul', \"Aug\", 'Sep', 'Oct', 'Nov', 'Dec']\n",
    "month_list[9] # accessing Oct"
   ]
  },
  {
   "cell_type": "code",
   "execution_count": 2,
   "id": "56182d37",
   "metadata": {},
   "outputs": [
    {
     "data": {
      "text/plain": [
       "31"
      ]
     },
     "execution_count": 2,
     "metadata": {},
     "output_type": "execute_result"
    }
   ],
   "source": [
    "days_list = [31, 28, 31, 30, 31, 30, 31, 31, 30, 31, 30, 31]\n",
    "days_list[9] # accessing days of Oct"
   ]
  },
  {
   "cell_type": "code",
   "execution_count": 3,
   "id": "95e29a9e",
   "metadata": {},
   "outputs": [
    {
     "data": {
      "text/plain": [
       "{}"
      ]
     },
     "execution_count": 3,
     "metadata": {},
     "output_type": "execute_result"
    }
   ],
   "source": [
    "empty_dict = {}\n",
    "empty_dict"
   ]
  },
  {
   "cell_type": "code",
   "execution_count": 4,
   "id": "d0476bbe",
   "metadata": {},
   "outputs": [
    {
     "data": {
      "text/plain": [
       "{'Jan': 31, 'Feb': 28, 'March': 31, 'Apr': 30}"
      ]
     },
     "execution_count": 4,
     "metadata": {},
     "output_type": "execute_result"
    }
   ],
   "source": [
    "my_dict = {\"Jan\": 31, 'Feb':28, 'March': 31, 'Apr':30} # keys are strings\n",
    "my_dict"
   ]
  },
  {
   "cell_type": "code",
   "execution_count": 5,
   "id": "b7eb63ee",
   "metadata": {},
   "outputs": [
    {
     "data": {
      "text/plain": [
       "{1: 'Jan', 2: 'Feb', 3: 'March', 4: 'April'}"
      ]
     },
     "execution_count": 5,
     "metadata": {},
     "output_type": "execute_result"
    }
   ],
   "source": [
    "dict2 = {1:'Jan', 2:'Feb', 3:'March', 4:'April'}  # keys are numbers\n",
    "dict2"
   ]
  },
  {
   "cell_type": "code",
   "execution_count": 6,
   "id": "a6321e63",
   "metadata": {},
   "outputs": [
    {
     "data": {
      "text/plain": [
       "{(1, 2019): 'Jan', (2, 2019): 'Feb'}"
      ]
     },
     "execution_count": 6,
     "metadata": {},
     "output_type": "execute_result"
    }
   ],
   "source": [
    "dict3 = {(1, 2019) : 'Jan', (2, 2019):'Feb'}  #keys are tuples\n",
    "dict3"
   ]
  },
  {
   "cell_type": "code",
   "execution_count": 7,
   "id": "6612c050",
   "metadata": {},
   "outputs": [
    {
     "ename": "TypeError",
     "evalue": "unhashable type: 'list'",
     "output_type": "error",
     "traceback": [
      "\u001b[1;31m---------------------------------------------------------------------------\u001b[0m",
      "\u001b[1;31mTypeError\u001b[0m                                 Traceback (most recent call last)",
      "Cell \u001b[1;32mIn[7], line 1\u001b[0m\n\u001b[1;32m----> 1\u001b[0m dict4 \u001b[38;5;241m=\u001b[39m {[\u001b[38;5;241m1\u001b[39m, \u001b[38;5;241m2019\u001b[39m] : \u001b[38;5;124m'\u001b[39m\u001b[38;5;124mJan\u001b[39m\u001b[38;5;124m'\u001b[39m, [\u001b[38;5;241m2\u001b[39m, \u001b[38;5;241m2019\u001b[39m]:\u001b[38;5;124m'\u001b[39m\u001b[38;5;124mFeb\u001b[39m\u001b[38;5;124m'\u001b[39m}  \u001b[38;5;66;03m#keys cannot be list\u001b[39;00m\n\u001b[0;32m      2\u001b[0m dict4\n",
      "\u001b[1;31mTypeError\u001b[0m: unhashable type: 'list'"
     ]
    }
   ],
   "source": [
    "dict4 = {[1, 2019] : 'Jan', [2, 2019]:'Feb'}  #keys cannot be list\n",
    "dict4"
   ]
  },
  {
   "cell_type": "code",
   "execution_count": 8,
   "id": "3d4ef2ff",
   "metadata": {},
   "outputs": [
    {
     "data": {
      "text/plain": [
       "{'Jan': [1, 2019], 'Feb': [2, 2019]}"
      ]
     },
     "execution_count": 8,
     "metadata": {},
     "output_type": "execute_result"
    }
   ],
   "source": [
    "dict5 = {'Jan':[1, 2019],'Feb':[2, 2019]}  #keys are strings\n",
    "dict5"
   ]
  },
  {
   "cell_type": "code",
   "execution_count": 9,
   "id": "5ebb7dfb",
   "metadata": {},
   "outputs": [
    {
     "data": {
      "text/plain": [
       "dict"
      ]
     },
     "execution_count": 9,
     "metadata": {},
     "output_type": "execute_result"
    }
   ],
   "source": [
    "type(my_dict)"
   ]
  },
  {
   "cell_type": "code",
   "execution_count": 10,
   "id": "d4157d72",
   "metadata": {},
   "outputs": [
    {
     "data": {
      "text/plain": [
       "4"
      ]
     },
     "execution_count": 10,
     "metadata": {},
     "output_type": "execute_result"
    }
   ],
   "source": [
    "len(my_dict)"
   ]
  },
  {
   "cell_type": "code",
   "execution_count": 11,
   "id": "8a39965c",
   "metadata": {},
   "outputs": [
    {
     "data": {
      "text/plain": [
       "{'Jan': 31, 'Feb': 28, 'March': 31, 'Apr': 30}"
      ]
     },
     "execution_count": 11,
     "metadata": {},
     "output_type": "execute_result"
    }
   ],
   "source": [
    "my_dict"
   ]
  },
  {
   "cell_type": "code",
   "execution_count": 12,
   "id": "210b7578",
   "metadata": {},
   "outputs": [
    {
     "data": {
      "text/plain": [
       "{'A': 1, 'B': 2, 'C': 3}"
      ]
     },
     "execution_count": 12,
     "metadata": {},
     "output_type": "execute_result"
    }
   ],
   "source": [
    "d = dict([('A',1), ('B',2), ('C',3)])\n",
    "d"
   ]
  },
  {
   "cell_type": "code",
   "execution_count": 13,
   "id": "069394fc",
   "metadata": {},
   "outputs": [
    {
     "data": {
      "text/plain": [
       "['__class__',\n",
       " '__class_getitem__',\n",
       " '__contains__',\n",
       " '__delattr__',\n",
       " '__delitem__',\n",
       " '__dir__',\n",
       " '__doc__',\n",
       " '__eq__',\n",
       " '__format__',\n",
       " '__ge__',\n",
       " '__getattribute__',\n",
       " '__getitem__',\n",
       " '__getstate__',\n",
       " '__gt__',\n",
       " '__hash__',\n",
       " '__init__',\n",
       " '__init_subclass__',\n",
       " '__ior__',\n",
       " '__iter__',\n",
       " '__le__',\n",
       " '__len__',\n",
       " '__lt__',\n",
       " '__ne__',\n",
       " '__new__',\n",
       " '__or__',\n",
       " '__reduce__',\n",
       " '__reduce_ex__',\n",
       " '__repr__',\n",
       " '__reversed__',\n",
       " '__ror__',\n",
       " '__setattr__',\n",
       " '__setitem__',\n",
       " '__sizeof__',\n",
       " '__str__',\n",
       " '__subclasshook__',\n",
       " 'clear',\n",
       " 'copy',\n",
       " 'fromkeys',\n",
       " 'get',\n",
       " 'items',\n",
       " 'keys',\n",
       " 'pop',\n",
       " 'popitem',\n",
       " 'setdefault',\n",
       " 'update',\n",
       " 'values']"
      ]
     },
     "execution_count": 13,
     "metadata": {},
     "output_type": "execute_result"
    }
   ],
   "source": [
    "dir(dict)"
   ]
  },
  {
   "cell_type": "code",
   "execution_count": 16,
   "id": "cb41b579",
   "metadata": {},
   "outputs": [
    {
     "data": {
      "text/plain": [
       "30"
      ]
     },
     "execution_count": 16,
     "metadata": {},
     "output_type": "execute_result"
    }
   ],
   "source": [
    "my_dict[\"Apr\"]"
   ]
  },
  {
   "cell_type": "code",
   "execution_count": 17,
   "id": "9b72fc9f",
   "metadata": {},
   "outputs": [
    {
     "data": {
      "text/plain": [
       "dict_keys(['Jan', 'Feb', 'March', 'Apr'])"
      ]
     },
     "execution_count": 17,
     "metadata": {},
     "output_type": "execute_result"
    }
   ],
   "source": [
    "my_dict.keys()  # get all the keys of dictionary object"
   ]
  },
  {
   "cell_type": "code",
   "execution_count": 18,
   "id": "53487ce0",
   "metadata": {},
   "outputs": [
    {
     "data": {
      "text/plain": [
       "dict_values([31, 28, 31, 30])"
      ]
     },
     "execution_count": 18,
     "metadata": {},
     "output_type": "execute_result"
    }
   ],
   "source": [
    "my_dict.values()"
   ]
  },
  {
   "cell_type": "code",
   "execution_count": 19,
   "id": "d8a942da",
   "metadata": {},
   "outputs": [
    {
     "data": {
      "text/plain": [
       "dict_items([('Jan', 31), ('Feb', 28), ('March', 31), ('Apr', 30)])"
      ]
     },
     "execution_count": 19,
     "metadata": {},
     "output_type": "execute_result"
    }
   ],
   "source": [
    "my_dict.items()"
   ]
  },
  {
   "cell_type": "code",
   "execution_count": 22,
   "id": "5653dd04",
   "metadata": {},
   "outputs": [
    {
     "data": {
      "text/plain": [
       "31"
      ]
     },
     "execution_count": 22,
     "metadata": {},
     "output_type": "execute_result"
    }
   ],
   "source": [
    "my_dict.pop(\"Jan\")"
   ]
  },
  {
   "cell_type": "code",
   "execution_count": 23,
   "id": "dd38fd1f",
   "metadata": {},
   "outputs": [
    {
     "data": {
      "text/plain": [
       "{'Feb': 28, 'March': 31, 'Apr': 30}"
      ]
     },
     "execution_count": 23,
     "metadata": {},
     "output_type": "execute_result"
    }
   ],
   "source": [
    "my_dict"
   ]
  },
  {
   "cell_type": "code",
   "execution_count": 24,
   "id": "75686b97",
   "metadata": {},
   "outputs": [
    {
     "ename": "KeyError",
     "evalue": "'xyz'",
     "output_type": "error",
     "traceback": [
      "\u001b[1;31m---------------------------------------------------------------------------\u001b[0m",
      "\u001b[1;31mKeyError\u001b[0m                                  Traceback (most recent call last)",
      "Cell \u001b[1;32mIn[24], line 1\u001b[0m\n\u001b[1;32m----> 1\u001b[0m my_dict[\u001b[38;5;124m'\u001b[39m\u001b[38;5;124mxyz\u001b[39m\u001b[38;5;124m'\u001b[39m]\n",
      "\u001b[1;31mKeyError\u001b[0m: 'xyz'"
     ]
    }
   ],
   "source": [
    "my_dict['xyz']"
   ]
  },
  {
   "cell_type": "code",
   "execution_count": 25,
   "id": "aed3edff",
   "metadata": {},
   "outputs": [],
   "source": [
    "my_dict.get('xyz') # even if key is not present in the dictionary does not throw error"
   ]
  },
  {
   "cell_type": "code",
   "execution_count": 26,
   "id": "324ea7d9",
   "metadata": {},
   "outputs": [
    {
     "data": {
      "text/plain": [
       "30"
      ]
     },
     "execution_count": 26,
     "metadata": {},
     "output_type": "execute_result"
    }
   ],
   "source": [
    "my_dict.get('Apr')"
   ]
  },
  {
   "cell_type": "code",
   "execution_count": 27,
   "id": "db173e54",
   "metadata": {},
   "outputs": [
    {
     "data": {
      "text/plain": [
       "True"
      ]
     },
     "execution_count": 27,
     "metadata": {},
     "output_type": "execute_result"
    }
   ],
   "source": [
    "'Apr' in my_dict  # check whether entry with key 'Apr' is present or not"
   ]
  },
  {
   "cell_type": "code",
   "execution_count": 28,
   "id": "47f37561",
   "metadata": {},
   "outputs": [
    {
     "data": {
      "text/plain": [
       "False"
      ]
     },
     "execution_count": 28,
     "metadata": {},
     "output_type": "execute_result"
    }
   ],
   "source": [
    "31 in my_dict  # check whether entry with key 'Apr' is present or not"
   ]
  },
  {
   "cell_type": "code",
   "execution_count": 29,
   "id": "ffd7d359",
   "metadata": {},
   "outputs": [
    {
     "data": {
      "text/plain": [
       "False"
      ]
     },
     "execution_count": 29,
     "metadata": {},
     "output_type": "execute_result"
    }
   ],
   "source": [
    "'Apr' not in my_dict "
   ]
  },
  {
   "cell_type": "code",
   "execution_count": 30,
   "id": "bbbb7ede",
   "metadata": {},
   "outputs": [
    {
     "data": {
      "text/plain": [
       "{'I': 1, 'V': 5, 'X': 10, 'L': 50, 'C': 100, 'D': 500, 'M': 1000}"
      ]
     },
     "execution_count": 30,
     "metadata": {},
     "output_type": "execute_result"
    }
   ],
   "source": [
    "#Dictionary with Roman numerals\n",
    "letter_dict = { 'I':1, 'V':5, 'X':10, 'L':50, 'C':100, 'D':500, \"M\":1000}\n",
    "letter_dict"
   ]
  },
  {
   "cell_type": "code",
   "execution_count": 32,
   "id": "2b30d8a1",
   "metadata": {},
   "outputs": [
    {
     "name": "stdout",
     "output_type": "stream",
     "text": [
      "    I\n",
      "    V\n",
      "    X\n",
      "    L\n",
      "    C\n",
      "    D\n",
      "    M\n"
     ]
    }
   ],
   "source": [
    "for i in letter_dict:   # iterate over keys\n",
    "    print(\"   \" , i)"
   ]
  },
  {
   "cell_type": "code",
   "execution_count": 31,
   "id": "9d90c439",
   "metadata": {},
   "outputs": [
    {
     "name": "stdout",
     "output_type": "stream",
     "text": [
      "Jan\n",
      "Feb\n",
      "Mar\n",
      "Apr\n",
      "May\n",
      "Jun\n",
      "Jul\n",
      "Aug\n",
      "Sep\n",
      "Oct\n",
      "Nov\n",
      "Dec\n"
     ]
    }
   ],
   "source": [
    "for i in month_list:\n",
    "    print(i)"
   ]
  },
  {
   "cell_type": "code",
   "execution_count": 33,
   "id": "2749ef67",
   "metadata": {},
   "outputs": [
    {
     "name": "stdout",
     "output_type": "stream",
     "text": [
      "    I\n",
      "    V\n",
      "    X\n",
      "    L\n",
      "    C\n",
      "    D\n",
      "    M\n"
     ]
    }
   ],
   "source": [
    "for i in letter_dict.keys():    \n",
    "    print(\"   \" , i)"
   ]
  },
  {
   "cell_type": "code",
   "execution_count": 34,
   "id": "a15f772d",
   "metadata": {},
   "outputs": [
    {
     "name": "stdout",
     "output_type": "stream",
     "text": [
      "    1\n",
      "    5\n",
      "    10\n",
      "    50\n",
      "    100\n",
      "    500\n",
      "    1000\n"
     ]
    }
   ],
   "source": [
    "for i in letter_dict.values():    \n",
    "    print(\"   \" , i)"
   ]
  },
  {
   "cell_type": "code",
   "execution_count": 35,
   "id": "718e8f3c",
   "metadata": {},
   "outputs": [
    {
     "name": "stdout",
     "output_type": "stream",
     "text": [
      "    ('I', 1)\n",
      "    ('V', 5)\n",
      "    ('X', 10)\n",
      "    ('L', 50)\n",
      "    ('C', 100)\n",
      "    ('D', 500)\n",
      "    ('M', 1000)\n"
     ]
    }
   ],
   "source": [
    "for i in letter_dict.items():    \n",
    "    print(\"   \" , i)"
   ]
  },
  {
   "cell_type": "code",
   "execution_count": 37,
   "id": "3faf971c",
   "metadata": {},
   "outputs": [
    {
     "name": "stdout",
     "output_type": "stream",
     "text": [
      "I -- 1\n",
      "V -- 5\n",
      "X -- 10\n",
      "L -- 50\n",
      "C -- 100\n",
      "D -- 500\n",
      "M -- 1000\n"
     ]
    }
   ],
   "source": [
    "for i, j in letter_dict.items():\n",
    "    print(i,\"--\",  j)"
   ]
  },
  {
   "cell_type": "code",
   "execution_count": 38,
   "id": "a8b65050",
   "metadata": {},
   "outputs": [
    {
     "data": {
      "text/plain": [
       "{'Feb': 28, 'March': 31, 'Apr': 30}"
      ]
     },
     "execution_count": 38,
     "metadata": {},
     "output_type": "execute_result"
    }
   ],
   "source": [
    "my_dict"
   ]
  },
  {
   "cell_type": "code",
   "execution_count": 39,
   "id": "c42bac4d",
   "metadata": {},
   "outputs": [
    {
     "data": {
      "text/plain": [
       "{'Feb': 28, 'March': 31, 'Apr': 30, 'May': 31}"
      ]
     },
     "execution_count": 39,
     "metadata": {},
     "output_type": "execute_result"
    }
   ],
   "source": [
    "my_dict['May'] = 31\n",
    "my_dict"
   ]
  },
  {
   "cell_type": "code",
   "execution_count": 40,
   "id": "8ce8e384",
   "metadata": {},
   "outputs": [
    {
     "data": {
      "text/plain": [
       "{'Feb': 28, 'March': 31, 'Apr': 30, 'May': 31, 'June': 30}"
      ]
     },
     "execution_count": 40,
     "metadata": {},
     "output_type": "execute_result"
    }
   ],
   "source": [
    "my_dict['June'] = 30\n",
    "my_dict"
   ]
  },
  {
   "cell_type": "code",
   "execution_count": 41,
   "id": "05118d03",
   "metadata": {},
   "outputs": [
    {
     "data": {
      "text/plain": [
       "25"
      ]
     },
     "execution_count": 41,
     "metadata": {},
     "output_type": "execute_result"
    }
   ],
   "source": [
    "my_dict['May'] = 25 # change it to 25\n",
    "my_dict['May']"
   ]
  },
  {
   "cell_type": "code",
   "execution_count": 42,
   "id": "5cb2fe5d",
   "metadata": {},
   "outputs": [
    {
     "data": {
      "text/plain": [
       "{'Feb': 28, 'March': 31, 'Apr': 30, 'May': 25, 'June': 30}"
      ]
     },
     "execution_count": 42,
     "metadata": {},
     "output_type": "execute_result"
    }
   ],
   "source": [
    "my_dict"
   ]
  },
  {
   "cell_type": "code",
   "execution_count": 43,
   "id": "89c38739",
   "metadata": {},
   "outputs": [
    {
     "data": {
      "text/plain": [
       "{'Feb': 28, 'March': 31, 'Apr': 30, 'June': 30}"
      ]
     },
     "execution_count": 43,
     "metadata": {},
     "output_type": "execute_result"
    }
   ],
   "source": [
    "del(my_dict[\"May\"])   #key 'May' is removed from the dictionary\n",
    "my_dict"
   ]
  },
  {
   "cell_type": "code",
   "execution_count": 45,
   "id": "3c9f6e28",
   "metadata": {},
   "outputs": [],
   "source": [
    "del(dict3)"
   ]
  },
  {
   "cell_type": "code",
   "execution_count": 46,
   "id": "b879265e",
   "metadata": {},
   "outputs": [
    {
     "name": "stdout",
     "output_type": "stream",
     "text": [
      "{1: ['1', 'Emp A', 34], 2: ['2', 'Emp B', 35], 3: ['3', 'Emp C', 36]}\n"
     ]
    }
   ],
   "source": [
    "#Cretae a employee database with emp id as key and list of employees where each value in list has property of an employee\n",
    "emp_data = { 1:['1','Emp A', 34] , 2:['2','Emp B', 35], 3:['3','Emp C', 36]}\n",
    "\n",
    "print(emp_data)"
   ]
  },
  {
   "cell_type": "code",
   "execution_count": 47,
   "id": "1a9d7782",
   "metadata": {},
   "outputs": [
    {
     "data": {
      "text/plain": [
       "{1: ['1', 'Emp A', 34],\n",
       " 2: ['2', 'Emp B', 35],\n",
       " 3: ['3', 'Emp C', 36],\n",
       " 4: ['4', 'Emp D', 45]}"
      ]
     },
     "execution_count": 47,
     "metadata": {},
     "output_type": "execute_result"
    }
   ],
   "source": [
    "new_emp = ['4', 'Emp D', 45]  #create employee \n",
    "emp_data[4] = new_emp  # add employee to the dictionary\n",
    "emp_data"
   ]
  },
  {
   "cell_type": "code",
   "execution_count": 49,
   "id": "dad40853",
   "metadata": {},
   "outputs": [
    {
     "data": {
      "text/plain": [
       "'Emp C'"
      ]
     },
     "execution_count": 49,
     "metadata": {},
     "output_type": "execute_result"
    }
   ],
   "source": [
    "emp_data[3][1]"
   ]
  },
  {
   "cell_type": "code",
   "execution_count": 51,
   "id": "ca5895ce",
   "metadata": {},
   "outputs": [],
   "source": [
    "emp_data1 = { 1:['1','Emp A', 34, (\"a\", \"b\", {\"code\": {22, 44, 88}})] , 2:['2','Emp B', 35, {3,4,5}], 3:['3','Emp C', 36]}"
   ]
  },
  {
   "cell_type": "code",
   "execution_count": 52,
   "id": "e5259d5a",
   "metadata": {},
   "outputs": [
    {
     "data": {
      "text/plain": [
       "{1: ['1', 'Emp A', 34, ('a', 'b', {'code': {22, 44, 88}})],\n",
       " 2: ['2', 'Emp B', 35, {3, 4, 5}],\n",
       " 3: ['3', 'Emp C', 36]}"
      ]
     },
     "execution_count": 52,
     "metadata": {},
     "output_type": "execute_result"
    }
   ],
   "source": [
    "emp_data1"
   ]
  },
  {
   "cell_type": "code",
   "execution_count": 60,
   "id": "890b2aa8",
   "metadata": {},
   "outputs": [
    {
     "data": {
      "text/plain": [
       "{22, 44, 88}"
      ]
     },
     "execution_count": 60,
     "metadata": {},
     "output_type": "execute_result"
    }
   ],
   "source": [
    "emp_data1[1][3][2][\"code\"]"
   ]
  },
  {
   "cell_type": "code",
   "execution_count": 61,
   "id": "e0e5926c",
   "metadata": {},
   "outputs": [],
   "source": [
    "year = {'January':31, 'February':28, 'March':31, 'April':30, \"May\":31, 'June':30, 'July':31, \"August\":31, 'September':30,\n",
    "          'October':31, 'November':30, 'December':31}"
   ]
  },
  {
   "cell_type": "code",
   "execution_count": 63,
   "id": "cad1c5d1",
   "metadata": {},
   "outputs": [
    {
     "name": "stdout",
     "output_type": "stream",
     "text": [
      "Enter the month\n",
      "May\n",
      "May  has  31  days.\n"
     ]
    }
   ],
   "source": [
    "#(a) Ask the user to input a month name and use the dictionary to tell how many days are in that month.\n",
    "month_name = input(\"Enter the month\\n\")\n",
    "print(month_name, \" has \", year[month_name], \" days.\")"
   ]
  },
  {
   "cell_type": "code",
   "execution_count": 64,
   "id": "29fd794e",
   "metadata": {},
   "outputs": [
    {
     "name": "stdout",
     "output_type": "stream",
     "text": [
      "April\n",
      "August\n",
      "December\n",
      "February\n",
      "January\n",
      "July\n",
      "June\n",
      "March\n",
      "May\n",
      "November\n",
      "October\n",
      "September\n"
     ]
    }
   ],
   "source": [
    "#(b) Print out all the keys in alphabetical order.\n",
    "#print(\"\\nThe keys in alphabetical order : \\n\")\n",
    "for key in sorted(year.keys()):\n",
    "    print(key)"
   ]
  },
  {
   "cell_type": "code",
   "execution_count": 65,
   "id": "3bb09d0f",
   "metadata": {},
   "outputs": [
    {
     "name": "stdout",
     "output_type": "stream",
     "text": [
      "28\n",
      "30\n",
      "30\n",
      "30\n",
      "30\n",
      "31\n",
      "31\n",
      "31\n",
      "31\n",
      "31\n",
      "31\n",
      "31\n"
     ]
    }
   ],
   "source": [
    "for key in sorted(year.values()):\n",
    "    print(key)"
   ]
  },
  {
   "cell_type": "code",
   "execution_count": 79,
   "id": "35ba2cfb",
   "metadata": {},
   "outputs": [
    {
     "name": "stdout",
     "output_type": "stream",
     "text": [
      "Enter the team name\n",
      "mi\n",
      "Enter the wins\n",
      "5\n",
      "Enter the losses\n",
      "5\n",
      "Enter the team name\n",
      "csk\n",
      "Enter the wins\n",
      "5\n",
      "Enter the losses\n",
      "5\n",
      "Enter the team name\n",
      "rcb\n",
      "Enter the wins\n",
      "0\n",
      "Enter the losses\n",
      "10\n",
      "Enter the team name\n",
      "rr\n",
      "Enter the wins\n",
      "1\n",
      "Enter the losses\n",
      "9\n",
      "\n",
      "\n",
      "Enter the team name\n",
      "rr\n",
      "The winning percentage is  0.1\n"
     ]
    }
   ],
   "source": [
    "count = 4\n",
    "teams = {}\n",
    "\n",
    "for i in range(count):\n",
    "    team_name = input(\"Enter the team name\\n\")\n",
    "    wins = int(input(\"Enter the wins\\n\"))\n",
    "    losses = int(input(\"Enter the losses\\n\"))\n",
    "    teams[team_name] = [wins, losses]\n",
    "print(\"\\n\")    \n",
    "team_name = input(\"Enter the team name\\n\")\n",
    "print(\"The winning percentage is \", teams[team_name][0]/(teams[team_name][0] + teams[team_name][1]))"
   ]
  },
  {
   "cell_type": "code",
   "execution_count": 75,
   "id": "57210ac7",
   "metadata": {},
   "outputs": [
    {
     "data": {
      "text/plain": [
       "{'csk': [5, 5]}"
      ]
     },
     "execution_count": 75,
     "metadata": {},
     "output_type": "execute_result"
    }
   ],
   "source": [
    "teams"
   ]
  },
  {
   "cell_type": "code",
   "execution_count": 70,
   "id": "76e81009",
   "metadata": {},
   "outputs": [
    {
     "name": "stdout",
     "output_type": "stream",
     "text": [
      "\n",
      "\n",
      "Enter the team name\n",
      "MI\n"
     ]
    },
    {
     "ename": "KeyError",
     "evalue": "'MI'",
     "output_type": "error",
     "traceback": [
      "\u001b[1;31m---------------------------------------------------------------------------\u001b[0m",
      "\u001b[1;31mKeyError\u001b[0m                                  Traceback (most recent call last)",
      "Cell \u001b[1;32mIn[70], line 3\u001b[0m\n\u001b[0;32m      1\u001b[0m \u001b[38;5;28mprint\u001b[39m(\u001b[38;5;124m\"\u001b[39m\u001b[38;5;130;01m\\n\u001b[39;00m\u001b[38;5;124m\"\u001b[39m)    \n\u001b[0;32m      2\u001b[0m team_name \u001b[38;5;241m=\u001b[39m \u001b[38;5;28minput\u001b[39m(\u001b[38;5;124m\"\u001b[39m\u001b[38;5;124mEnter the team name\u001b[39m\u001b[38;5;130;01m\\n\u001b[39;00m\u001b[38;5;124m\"\u001b[39m)\n\u001b[1;32m----> 3\u001b[0m \u001b[38;5;28mprint\u001b[39m(\u001b[38;5;124m\"\u001b[39m\u001b[38;5;124mThe winning percentage is \u001b[39m\u001b[38;5;124m\"\u001b[39m, teams[team_name][\u001b[38;5;241m0\u001b[39m]\u001b[38;5;241m/\u001b[39m(teams[team_name][\u001b[38;5;241m0\u001b[39m] \u001b[38;5;241m+\u001b[39m teams[team_name][\u001b[38;5;241m1\u001b[39m]))\n",
      "\u001b[1;31mKeyError\u001b[0m: 'MI'"
     ]
    }
   ],
   "source": [
    "print(\"\\n\")    \n",
    "team_name = input(\"Enter the team name\\n\")\n",
    "print(\"The winning percentage is \", teams[team_name][0]/(teams[team_name][0] + teams[team_name][1]))"
   ]
  },
  {
   "cell_type": "code",
   "execution_count": 80,
   "id": "93f146bf",
   "metadata": {},
   "outputs": [
    {
     "name": "stdout",
     "output_type": "stream",
     "text": [
      "The winning list is  [5, 5, 0, 1]\n",
      "\n",
      "dict_values([[5, 5], [5, 5], [0, 10], [1, 9]])\n"
     ]
    }
   ],
   "source": [
    "winning_list = []\n",
    "for value in teams.values():\n",
    "    winning_list.append(value[0])\n",
    "    \n",
    "print('The winning list is ', winning_list)\n",
    "print()\n",
    "print(teams.values())"
   ]
  },
  {
   "cell_type": "code",
   "execution_count": 81,
   "id": "a26a206d",
   "metadata": {},
   "outputs": [],
   "source": [
    "import re"
   ]
  },
  {
   "cell_type": "code",
   "execution_count": 84,
   "id": "5e630ef3",
   "metadata": {},
   "outputs": [
    {
     "name": "stdout",
     "output_type": "stream",
     "text": [
      "<re.Match object; span=(36, 42), match='portal'>\n",
      "portal\n",
      "Start Index: 36\n",
      "End Index: 42\n"
     ]
    }
   ],
   "source": [
    "import re \n",
    "\n",
    "\n",
    "match = re.search(r'portal', 'GeeksforGeeks: A computer science \\ portal for geeks') \n",
    "print(match) \n",
    "print(match.group()) \n",
    "\n",
    "print('Start Index:', match.start()) \n",
    "print('End Index:', match.end()) \n"
   ]
  },
  {
   "cell_type": "code",
   "execution_count": 85,
   "id": "5f0cde40",
   "metadata": {},
   "outputs": [
    {
     "name": "stdout",
     "output_type": "stream",
     "text": [
      "Geeks for Geeks is a portal for Geeks.\n"
     ]
    }
   ],
   "source": [
    "# Python3 program introducing f-string\n",
    "val = 'Geeks'\n",
    "\n",
    "print(f\"{val} for {val} is a portal for {val}.\")"
   ]
  },
  {
   "cell_type": "code",
   "execution_count": 86,
   "id": "30bdc129",
   "metadata": {},
   "outputs": [
    {
     "name": "stdout",
     "output_type": "stream",
     "text": [
      "Geeks for Geeks is a portal for  Geeks\n"
     ]
    }
   ],
   "source": [
    "print(val, \"for\", val, \"is a portal for \", val)"
   ]
  },
  {
   "cell_type": "code",
   "execution_count": 88,
   "id": "337af75f",
   "metadata": {},
   "outputs": [
    {
     "name": "stdout",
     "output_type": "stream",
     "text": [
      "Geeks is a palform Geeks where we can learn python\n"
     ]
    }
   ],
   "source": [
    "print(f\"{val} is a palform {val} where we can learn python\")"
   ]
  },
  {
   "cell_type": "code",
   "execution_count": 89,
   "id": "6e7c7f88",
   "metadata": {},
   "outputs": [],
   "source": [
    "match = re.search(r'portal', 'GeeksforGeeks: A computer science \\ portal for geeks') "
   ]
  },
  {
   "cell_type": "code",
   "execution_count": 90,
   "id": "3df13a3f",
   "metadata": {},
   "outputs": [
    {
     "data": {
      "text/plain": [
       "<re.Match object; span=(36, 42), match='portal'>"
      ]
     },
     "execution_count": 90,
     "metadata": {},
     "output_type": "execute_result"
    }
   ],
   "source": [
    "match"
   ]
  },
  {
   "cell_type": "code",
   "execution_count": 91,
   "id": "f9f41ef2",
   "metadata": {},
   "outputs": [
    {
     "name": "stdout",
     "output_type": "stream",
     "text": [
      "<re.Match object; span=(36, 42), match='portal'>\n"
     ]
    }
   ],
   "source": [
    "print(match)"
   ]
  },
  {
   "cell_type": "code",
   "execution_count": 92,
   "id": "7d746630",
   "metadata": {},
   "outputs": [
    {
     "name": "stdout",
     "output_type": "stream",
     "text": [
      "portal\n"
     ]
    }
   ],
   "source": [
    "print(match.group()) "
   ]
  },
  {
   "cell_type": "code",
   "execution_count": 93,
   "id": "defb7924",
   "metadata": {},
   "outputs": [
    {
     "name": "stdout",
     "output_type": "stream",
     "text": [
      "Start Index: 36\n"
     ]
    }
   ],
   "source": [
    "print('Start Index:', match.start()) "
   ]
  },
  {
   "cell_type": "code",
   "execution_count": 94,
   "id": "796917bf",
   "metadata": {},
   "outputs": [
    {
     "name": "stdout",
     "output_type": "stream",
     "text": [
      "End Index: 42\n"
     ]
    }
   ],
   "source": [
    "print('End Index:', match.end()) "
   ]
  },
  {
   "cell_type": "code",
   "execution_count": 98,
   "id": "e7c44da1",
   "metadata": {},
   "outputs": [
    {
     "name": "stdout",
     "output_type": "stream",
     "text": [
      "['Geeks', 'Geeks', 'geeks', 'Geeks']\n"
     ]
    }
   ],
   "source": [
    "import re \n",
    "\n",
    "\n",
    "print(re.findall(r'[Gg]eeks', 'GeeksforGeeks: \\ A computer science portal for geeks, Geeks'))\n"
   ]
  },
  {
   "cell_type": "code",
   "execution_count": 99,
   "id": "23341915",
   "metadata": {},
   "outputs": [
    {
     "name": "stdout",
     "output_type": "stream",
     "text": [
      "Range <re.Match object; span=(0, 1), match='x'>\n"
     ]
    }
   ],
   "source": [
    "import re \n",
    "\n",
    "\n",
    "print('Range',re.search(r'[a-zA-Z]', 'x'))\n"
   ]
  },
  {
   "cell_type": "code",
   "execution_count": 100,
   "id": "f4c8370a",
   "metadata": {},
   "outputs": [
    {
     "name": "stdout",
     "output_type": "stream",
     "text": [
      "None\n"
     ]
    }
   ],
   "source": [
    "import re \n",
    "\n",
    "print(re.search(r'[^a-z]', 'c'))\n"
   ]
  },
  {
   "cell_type": "code",
   "execution_count": null,
   "id": "15337f4a",
   "metadata": {},
   "outputs": [],
   "source": []
  }
 ],
 "metadata": {
  "kernelspec": {
   "display_name": "Python 3 (ipykernel)",
   "language": "python",
   "name": "python3"
  },
  "language_info": {
   "codemirror_mode": {
    "name": "ipython",
    "version": 3
   },
   "file_extension": ".py",
   "mimetype": "text/x-python",
   "name": "python",
   "nbconvert_exporter": "python",
   "pygments_lexer": "ipython3",
   "version": "3.11.5"
  }
 },
 "nbformat": 4,
 "nbformat_minor": 5
}
