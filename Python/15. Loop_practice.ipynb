{
 "cells": [
  {
   "cell_type": "code",
   "execution_count": 1,
   "id": "4e450a11",
   "metadata": {},
   "outputs": [],
   "source": [
    "dict1 = {\"name\": \"jasmine\", \"class\":[1,3,4,6]}"
   ]
  },
  {
   "cell_type": "code",
   "execution_count": 2,
   "id": "d73a1d90",
   "metadata": {},
   "outputs": [],
   "source": [
    "list1 = [1,2,3,\"dg\", {\"name\": \"jasmine\"}]"
   ]
  },
  {
   "cell_type": "code",
   "execution_count": 3,
   "id": "8e31e352",
   "metadata": {},
   "outputs": [],
   "source": [
    "d = { 1:[1,(1,2)], 2:(1,[1,5,3]), 3:[1,{4:(5,6)}]}"
   ]
  },
  {
   "cell_type": "code",
   "execution_count": 6,
   "id": "aa96f29c",
   "metadata": {},
   "outputs": [
    {
     "name": "stdout",
     "output_type": "stream",
     "text": [
      "(1, [1, (1, 2)])     <class 'tuple'>     <class 'list'>\n",
      "(2, (1, [1, 5, 3]))     <class 'tuple'>     <class 'tuple'>\n",
      "(3, [1, {4: (5, 6)}])     <class 'tuple'>     <class 'list'>\n"
     ]
    }
   ],
   "source": [
    "for i in d.items():\n",
    "    print(i,\"   \",  type(i),\"   \",type(i[1]))"
   ]
  },
  {
   "cell_type": "code",
   "execution_count": 7,
   "id": "3cca2334",
   "metadata": {},
   "outputs": [],
   "source": [
    "d = { 1:[1,2], 2:[1,3], 3:[2,3]}"
   ]
  },
  {
   "cell_type": "code",
   "execution_count": 10,
   "id": "acff2c11",
   "metadata": {},
   "outputs": [
    {
     "name": "stdout",
     "output_type": "stream",
     "text": [
      "(1, [1, 2]) dict_keys([1, 2, 3])\n",
      "(2, [1, 3]) dict_keys([1, 2, 3])\n",
      "(3, [2, 3]) dict_keys([1, 2, 3])\n"
     ]
    }
   ],
   "source": [
    "for i in d.items():\n",
    "    print(i, d.keys())"
   ]
  },
  {
   "cell_type": "code",
   "execution_count": 11,
   "id": "4e93fa38",
   "metadata": {},
   "outputs": [],
   "source": [
    "d = {1: ([[\"a\",\"b\"],1,2],\"Nikita\",\"mayuri\"), 2: ([[2,\"b\"],\"k1\",2000],\"mayuri\",\"nikita\")}"
   ]
  },
  {
   "cell_type": "code",
   "execution_count": 12,
   "id": "a33adce2",
   "metadata": {},
   "outputs": [
    {
     "name": "stdout",
     "output_type": "stream",
     "text": [
      "<class 'str'>\n",
      "<class 'int'>\n"
     ]
    }
   ],
   "source": [
    "for i in d.items():\n",
    "    print(type(i[1][0][0][0]))"
   ]
  },
  {
   "cell_type": "code",
   "execution_count": 15,
   "id": "67fc0308",
   "metadata": {},
   "outputs": [
    {
     "data": {
      "text/plain": [
       "'b'"
      ]
     },
     "execution_count": 15,
     "metadata": {},
     "output_type": "execute_result"
    }
   ],
   "source": [
    "d[2][0][0][1]"
   ]
  },
  {
   "cell_type": "code",
   "execution_count": 16,
   "id": "4e582744",
   "metadata": {},
   "outputs": [],
   "source": [
    "dic = {\"A\": 22, \"B\": 33}"
   ]
  },
  {
   "cell_type": "code",
   "execution_count": 17,
   "id": "8f8fad4e",
   "metadata": {},
   "outputs": [
    {
     "name": "stdout",
     "output_type": "stream",
     "text": [
      "('A', 22)\n",
      "('B', 33)\n"
     ]
    }
   ],
   "source": [
    "for i in dic.items():\n",
    "    print(i)"
   ]
  },
  {
   "cell_type": "code",
   "execution_count": 18,
   "id": "6fae7cf4",
   "metadata": {},
   "outputs": [],
   "source": [
    "t = (\"sudh\",\"kumar\",[1,3,5,7,4],(3,5,88,4),{3:3,3:\"kjshdf\",\"key1\":\"sudh\",\"key2\":\"kumar\"})"
   ]
  },
  {
   "cell_type": "code",
   "execution_count": 19,
   "id": "270bff49",
   "metadata": {},
   "outputs": [
    {
     "name": "stdout",
     "output_type": "stream",
     "text": [
      "3\n",
      "3\n",
      "3\n",
      "kjshdf\n"
     ]
    }
   ],
   "source": [
    "for i in t :\n",
    "    if type(i) == list or type(i) == tuple :\n",
    "        for j in i :\n",
    "            if j == 3 :\n",
    "                print(j)\n",
    "    if type(i) == dict :\n",
    "        for k,v  in i.items():\n",
    "            if k == 3 or v == 3 :\n",
    "                print(k)\n",
    "                print(v)"
   ]
  },
  {
   "cell_type": "code",
   "execution_count": 20,
   "id": "e6c46f9d",
   "metadata": {},
   "outputs": [
    {
     "name": "stdout",
     "output_type": "stream",
     "text": [
      "Enter the height of triangle\n",
      "5\n",
      "\n",
      "[1, 2, 3, 4, 5]\n"
     ]
    }
   ],
   "source": [
    "times = int(input(\"Enter the height of triangle\\n\"))\n",
    "print()\n",
    "\n",
    "items = []\n",
    "\n",
    "for i in range(times):\n",
    "    items.append(i+1)\n",
    "\n",
    "print(items) "
   ]
  },
  {
   "cell_type": "code",
   "execution_count": 21,
   "id": "2403b054",
   "metadata": {},
   "outputs": [
    {
     "data": {
      "text/plain": [
       "[0, 1, 2, 3, 4, 5]"
      ]
     },
     "execution_count": 21,
     "metadata": {},
     "output_type": "execute_result"
    }
   ],
   "source": [
    "list1 = []\n",
    "for i in range(6):\n",
    "    list1.append(i)\n",
    "    \n",
    "list1    "
   ]
  },
  {
   "cell_type": "code",
   "execution_count": 23,
   "id": "342f9ca5",
   "metadata": {},
   "outputs": [
    {
     "name": "stdout",
     "output_type": "stream",
     "text": [
      "0   $\n",
      "1 *  $$\n",
      "2 ** # $$$\n",
      "3 *** ## $$$$\n",
      "4 **** ### $$$$$\n",
      "5 ***** #### $$$$$$\n",
      "6 ****** ##### $$$$$$$\n",
      "7 ******* ###### $$$$$$$$\n",
      "8 ******** ####### $$$$$$$$$\n",
      "9 ********* ######## $$$$$$$$$$\n"
     ]
    }
   ],
   "source": [
    "for j in range(10):\n",
    "    print(j, j * \"*\" ,(j-1) * \"#\", (j+1)*\"$\")"
   ]
  },
  {
   "cell_type": "code",
   "execution_count": 24,
   "id": "ad168372",
   "metadata": {},
   "outputs": [
    {
     "name": "stdout",
     "output_type": "stream",
     "text": [
      "  * * * * * * * * * \n",
      "    * * * * * * * \n",
      "      * * * * * \n",
      "        * * * \n",
      "          * \n"
     ]
    }
   ],
   "source": [
    "n = 5\n",
    "for i in range(n):           #(0,1,2,3,4),  \n",
    "    for j in range(i+1):      #(1), (2),  (3), (4), (5)\n",
    "        print(\" \",end=\" \")    \n",
    "    for j in range(i,n-1):    #(0,1,2,3), (1,2,3), (2,3), (3), ()\n",
    "        print(\"*\",end=\" \")\n",
    "    for j in range(i,n):      #(0,1,2,3,4), (1,2,3,4), (2,3,4), (3,4), (4)\n",
    "        print(\"*\",end=\" \")\n",
    "    print() "
   ]
  },
  {
   "cell_type": "code",
   "execution_count": 25,
   "id": "3a21503e",
   "metadata": {},
   "outputs": [
    {
     "name": "stdout",
     "output_type": "stream",
     "text": [
      "          * \n",
      "        * * * \n",
      "      * * * * * \n",
      "    * * * * * * * \n"
     ]
    }
   ],
   "source": [
    "n = 5\n",
    "for i in range(n-1):             #(0,1,2,3)      \n",
    "    for j in range(i,n):         #(0,1,2,3,4), (1,2,3,4), (2,3,4), (3,4)\n",
    "        print(\" \",end=\" \")       \n",
    "    for j in range(i):           #(0), (1), (2), (3)\n",
    "        print(\"*\",end=\" \")\n",
    "    for j in range(i+1):         #(1), (2), (3), (4)\n",
    "        print(\"*\",end=\" \")\n",
    "    print()"
   ]
  },
  {
   "cell_type": "code",
   "execution_count": 26,
   "id": "65c9f0d7",
   "metadata": {},
   "outputs": [
    {
     "name": "stdout",
     "output_type": "stream",
     "text": [
      "          * \n",
      "        * * * \n",
      "      * * * * * \n",
      "    * * * * * * * \n",
      "  * * * * * * * * * \n",
      "    * * * * * * * \n",
      "      * * * * * \n",
      "        * * * \n",
      "          * \n"
     ]
    }
   ],
   "source": [
    "n = 5\n",
    "for i in range(n-1):             #(0,1,2,3)      \n",
    "    for j in range(i,n):         #(0,1,2,3,4), (1,2,3,4), (2,3,4), (3,4)\n",
    "        print(\" \",end=\" \")       \n",
    "    for j in range(i):           #(0), (1), (2), (3)\n",
    "        print(\"*\",end=\" \")\n",
    "    for j in range(i+1):         #(1), (2), (3), (4)\n",
    "        print(\"*\",end=\" \")\n",
    "    print()\n",
    "n = 5\n",
    "for i in range(n):           #(0,1,2,3,4),  \n",
    "    for j in range(i+1):      #(1), (2),  (3), (4), (5)\n",
    "        print(\" \",end=\" \")    \n",
    "    for j in range(i,n-1):    #(0,1,2,3), (1,2,3), (2,3), (3), ()\n",
    "        print(\"*\",end=\" \")\n",
    "    for j in range(i,n):      #(0,1,2,3,4), (1,2,3,4), (2,3,4), (3,4), (4)\n",
    "        print(\"*\",end=\" \")\n",
    "    print()     "
   ]
  },
  {
   "cell_type": "code",
   "execution_count": 27,
   "id": "98aaa3c3",
   "metadata": {},
   "outputs": [
    {
     "name": "stdout",
     "output_type": "stream",
     "text": [
      "        * \n",
      "      * * \n",
      "    * * * \n",
      "  * * * * \n",
      "* * * * * \n"
     ]
    }
   ],
   "source": [
    "n = 5\n",
    "for i in range(n):\n",
    "    for j in range(i, n-1):\n",
    "        print(\" \", end = \" \")\n",
    "    for j in range(i+1):\n",
    "        print(\"*\", end=\" \")\n",
    "    print() "
   ]
  },
  {
   "cell_type": "code",
   "execution_count": 33,
   "id": "47ddd64e",
   "metadata": {},
   "outputs": [
    {
     "name": "stdout",
     "output_type": "stream",
     "text": [
      "     DATA DATA DATA DATA AIML AIML AIML AIML AIML \n",
      "          DATA DATA DATA AIML AIML AIML AIML \n",
      "               DATA DATA AIML AIML AIML \n",
      "                    DATA AIML AIML \n",
      "                         AIML \n"
     ]
    }
   ],
   "source": [
    "n = 5\n",
    "for i in range(n):           #(0,1,2,3,4),  \n",
    "    for j in range(i+1):      #(1), (2),  (3), (4), (5)\n",
    "        print(\"    \",end=\" \")    \n",
    "    for j in range(i,n-1):    #(0,1,2,3), (1,2,3), (2,3), (3), ()\n",
    "        print(\"DATA\",end=\" \")\n",
    "    for j in range(i,n):      #(0,1,2,3,4), (1,2,3,4), (2,3,4), (3,4), (4)\n",
    "        print(\"AIML\",end=\" \")\n",
    "    print() "
   ]
  },
  {
   "cell_type": "code",
   "execution_count": null,
   "id": "88949440",
   "metadata": {},
   "outputs": [],
   "source": []
  }
 ],
 "metadata": {
  "kernelspec": {
   "display_name": "Python 3 (ipykernel)",
   "language": "python",
   "name": "python3"
  },
  "language_info": {
   "codemirror_mode": {
    "name": "ipython",
    "version": 3
   },
   "file_extension": ".py",
   "mimetype": "text/x-python",
   "name": "python",
   "nbconvert_exporter": "python",
   "pygments_lexer": "ipython3",
   "version": "3.11.5"
  }
 },
 "nbformat": 4,
 "nbformat_minor": 5
}
